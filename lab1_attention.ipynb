{
  "cells": [
    {
      "cell_type": "markdown",
      "id": "b076bd1a-b236-4fbc-953d-8295b25122ae",
      "metadata": {
        "id": "b076bd1a-b236-4fbc-953d-8295b25122ae"
      },
      "source": [
        "# Wine Review GPT"
      ]
    },
    {
      "cell_type": "markdown",
      "id": "4dca6836-0007-43f3-af65-d12ae1922c02",
      "metadata": {
        "id": "4dca6836-0007-43f3-af65-d12ae1922c02",
        "tags": []
      },
      "source": [
        "In this notebook, we'll walk through the steps required to train your own GPT model on the wine review dataset"
      ]
    },
    {
      "cell_type": "markdown",
      "id": "3e6cb7c7-d3d5-4b12-b357-1f6118edffe0",
      "metadata": {
        "id": "3e6cb7c7-d3d5-4b12-b357-1f6118edffe0"
      },
      "source": [
        "The code is adapted from the recommended text book [Generative Deep Learning](https://github.com/davidADSP/Generative_Deep_Learning_2nd_Edition/blob/main/notebooks/09_transformer/gpt/gpt.ipynb) 2nd Edition"
      ]
    },
    {
      "cell_type": "markdown",
      "id": "i8j3ul1Dcl6D",
      "metadata": {
        "id": "i8j3ul1Dcl6D"
      },
      "source": [
        "<font color='red'>Change the runtime to GPU in the upper right corner for this exercise. </font>"
      ]
    },
    {
      "cell_type": "markdown",
      "id": "339e6268-ebd7-4feb-86db-1fe7abccdbe5",
      "metadata": {
        "id": "339e6268-ebd7-4feb-86db-1fe7abccdbe5"
      },
      "source": [
        "## 0. Parameters <a name=\"parameters\"></a>"
      ]
    },
    {
      "cell_type": "code",
      "execution_count": null,
      "id": "73350761-bef2-4e96-b3ac-a158eabd2b65",
      "metadata": {
        "id": "73350761-bef2-4e96-b3ac-a158eabd2b65",
        "tags": []
      },
      "outputs": [],
      "source": [
        "%load_ext autoreload\n",
        "%autoreload 2\n",
        "import numpy as np\n",
        "import json\n",
        "import re\n",
        "import string\n",
        "from IPython.display import display, HTML\n",
        "\n",
        "import tensorflow as tf\n",
        "from tensorflow.keras import layers, models, losses, callbacks"
      ]
    },
    {
      "cell_type": "code",
      "execution_count": null,
      "id": "2d8352af-343e-4c2e-8c91-95f8bac1c8a1",
      "metadata": {
        "id": "2d8352af-343e-4c2e-8c91-95f8bac1c8a1"
      },
      "outputs": [],
      "source": [
        "VOCAB_SIZE = 10000\n",
        "MAX_LEN = 80\n",
        "EMBEDDING_DIM = 256 # dimensionality of the word embeddings\n",
        "KEY_DIM = 256 # dimension of key/query in attention heads\n",
        "N_HEADS = 2  # total number of heads in each transfomer block\n",
        "FEED_FORWARD_DIM = 256\n",
        "VALIDATION_SPLIT = 0.2\n",
        "SEED = 42\n",
        "LOAD_MODEL = False # train model from scratch\n",
        "BATCH_SIZE = 32 # number of samples of inputs processed together\n",
        "EPOCHS = 5 # number of iteration of entire dataset"
      ]
    },
    {
      "cell_type": "markdown",
      "id": "b7716fac-0010-49b0-b98e-53be2259edde",
      "metadata": {
        "id": "b7716fac-0010-49b0-b98e-53be2259edde"
      },
      "source": [
        "## 1. Load the data <a name=\"load\"></a>"
      ]
    },
    {
      "cell_type": "code",
      "execution_count": null,
      "id": "9VAWPFpOezyq",
      "metadata": {
        "colab": {
          "base_uri": "https://localhost:8080/"
        },
        "id": "9VAWPFpOezyq",
        "outputId": "4ebcb7dd-9a3a-4993-a900-782e76c29155"
      },
      "outputs": [
        {
          "name": "stdout",
          "output_type": "stream",
          "text": [
            "Drive already mounted at /content/drive; to attempt to forcibly remount, call drive.mount(\"/content/drive\", force_remount=True).\n"
          ]
        }
      ],
      "source": [
        "# mount Google Drive\n",
        "\n",
        "from google.colab import drive\n",
        "drive.mount('/content/drive')\n"
      ]
    },
    {
      "cell_type": "markdown",
      "id": "jIeXGPx7etwn",
      "metadata": {
        "id": "jIeXGPx7etwn"
      },
      "source": [
        "<font color='red'> Instruction: replace the path with the correct one on your Google Drive. </font>"
      ]
    },
    {
      "cell_type": "code",
      "execution_count": null,
      "id": "93cf6b0f-9667-4146-8911-763a8a2925d3",
      "metadata": {
        "id": "93cf6b0f-9667-4146-8911-763a8a2925d3",
        "tags": []
      },
      "outputs": [],
      "source": [
        "# Load the full dataset\n",
        "with open(\"/content/winemag-data-130k-v2.json\") as json_data:\n",
        "  wine_data = json.load(json_data)"
      ]
    },
    {
      "cell_type": "code",
      "execution_count": null,
      "id": "2db5c0fc-0d5f-42ab-ade1-57e594c416ec",
      "metadata": {
        "colab": {
          "base_uri": "https://localhost:8080/"
        },
        "id": "2db5c0fc-0d5f-42ab-ade1-57e594c416ec",
        "outputId": "758160dc-6266-4f4a-ce3e-a131482488fb",
        "tags": []
      },
      "outputs": [
        {
          "data": {
            "text/plain": [
              "[{'points': '87',\n",
              "  'title': 'Nicosia 2013 Vulkà Bianco  (Etna)',\n",
              "  'description': \"Aromas include tropical fruit, broom, brimstone and dried herb. The palate isn't overly expressive, offering unripened apple, citrus and dried sage alongside brisk acidity.\",\n",
              "  'taster_name': 'Kerin O’Keefe',\n",
              "  'taster_twitter_handle': '@kerinokeefe',\n",
              "  'price': None,\n",
              "  'designation': 'Vulkà Bianco',\n",
              "  'variety': 'White Blend',\n",
              "  'region_1': 'Etna',\n",
              "  'region_2': None,\n",
              "  'province': 'Sicily & Sardinia',\n",
              "  'country': 'Italy',\n",
              "  'winery': 'Nicosia'},\n",
              " {'points': '87',\n",
              "  'title': 'Quinta dos Avidagos 2011 Avidagos Red (Douro)',\n",
              "  'description': \"This is ripe and fruity, a wine that is smooth while still structured. Firm tannins are filled out with juicy red berry fruits and freshened with acidity. It's  already drinkable, although it will certainly be better from 2016.\",\n",
              "  'taster_name': 'Roger Voss',\n",
              "  'taster_twitter_handle': '@vossroger',\n",
              "  'price': 15,\n",
              "  'designation': 'Avidagos',\n",
              "  'variety': 'Portuguese Red',\n",
              "  'region_1': None,\n",
              "  'region_2': None,\n",
              "  'province': 'Douro',\n",
              "  'country': 'Portugal',\n",
              "  'winery': 'Quinta dos Avidagos'},\n",
              " {'points': '87',\n",
              "  'title': 'Rainstorm 2013 Pinot Gris (Willamette Valley)',\n",
              "  'description': 'Tart and snappy, the flavors of lime flesh and rind dominate. Some green pineapple pokes through, with crisp acidity underscoring the flavors. The wine was all stainless-steel fermented.',\n",
              "  'taster_name': 'Paul Gregutt',\n",
              "  'taster_twitter_handle': '@paulgwine\\xa0',\n",
              "  'price': 14,\n",
              "  'designation': None,\n",
              "  'variety': 'Pinot Gris',\n",
              "  'region_1': 'Willamette Valley',\n",
              "  'region_2': 'Willamette Valley',\n",
              "  'province': 'Oregon',\n",
              "  'country': 'US',\n",
              "  'winery': 'Rainstorm'}]"
            ]
          },
          "execution_count": 5,
          "metadata": {},
          "output_type": "execute_result"
        }
      ],
      "source": [
        "# print the first 3 records\n",
        "wine_data[0:3]"
      ]
    },
    {
      "cell_type": "code",
      "execution_count": null,
      "id": "23a74eca-f1b7-4a46-9a1f-b5806a4ed361",
      "metadata": {
        "id": "23a74eca-f1b7-4a46-9a1f-b5806a4ed361",
        "tags": []
      },
      "outputs": [],
      "source": [
        "# Filter the dataset, only includes entries where country, province, variety and description are not None\n",
        "filtered_data = [\n",
        "    \"wine review : \"\n",
        "    + x[\"country\"]\n",
        "    + \" : \"\n",
        "    + x[\"province\"]\n",
        "    + \" : \"\n",
        "    + x[\"variety\"]\n",
        "    + \" : \"\n",
        "    + x[\"description\"]\n",
        "    for x in wine_data\n",
        "    if x[\"country\"] is not None\n",
        "    and x[\"province\"] is not None\n",
        "    and x[\"variety\"] is not None\n",
        "    and x[\"description\"] is not None\n",
        "]"
      ]
    },
    {
      "cell_type": "code",
      "execution_count": null,
      "id": "389c20de-0422-4c48-a7b4-6ee12a7bf0e2",
      "metadata": {
        "colab": {
          "base_uri": "https://localhost:8080/"
        },
        "id": "389c20de-0422-4c48-a7b4-6ee12a7bf0e2",
        "outputId": "0ca91541-5283-4950-de02-048233e47cda",
        "tags": []
      },
      "outputs": [
        {
          "name": "stdout",
          "output_type": "stream",
          "text": [
            "129907 recipes loaded\n"
          ]
        }
      ],
      "source": [
        "# Count the recipes\n",
        "n_wines = len(filtered_data)\n",
        "print(f\"{n_wines} recipes loaded\")"
      ]
    },
    {
      "cell_type": "code",
      "execution_count": null,
      "id": "1b2e3cf7-e416-460e-874a-0dd9637bca36",
      "metadata": {
        "colab": {
          "base_uri": "https://localhost:8080/"
        },
        "id": "1b2e3cf7-e416-460e-874a-0dd9637bca36",
        "outputId": "6472ad7b-bab8-431d-89d2-eaeadf8db1af"
      },
      "outputs": [
        {
          "name": "stdout",
          "output_type": "stream",
          "text": [
            "wine review : Italy : Sicily & Sardinia : White Blend : Aromas include tropical fruit, broom, brimstone and dried herb. The palate isn't overly expressive, offering unripened apple, citrus and dried sage alongside brisk acidity.\n"
          ]
        }
      ],
      "source": [
        "example = filtered_data[0]\n",
        "print(example)"
      ]
    },
    {
      "cell_type": "markdown",
      "id": "3f871aaf-d873-41c7-8946-e4eef7ac17c1",
      "metadata": {
        "id": "3f871aaf-d873-41c7-8946-e4eef7ac17c1"
      },
      "source": [
        "## 2. Tokenize the data <a name=\"tokenize\"></a>"
      ]
    },
    {
      "cell_type": "code",
      "execution_count": null,
      "id": "5b2064fb-5dcc-4657-b470-0928d10e2ddc",
      "metadata": {
        "id": "5b2064fb-5dcc-4657-b470-0928d10e2ddc",
        "tags": []
      },
      "outputs": [],
      "source": [
        "# Pad the punctuation, to treat them as separate 'words'\n",
        "def pad_punctuation(s):\n",
        "    s = re.sub(f\"([{string.punctuation}, '\\n'])\", r\" \\1 \", s)\n",
        "    s = re.sub(\" +\", \" \", s)\n",
        "    return s\n",
        "\n",
        "\n",
        "text_data = [pad_punctuation(x) for x in filtered_data]"
      ]
    },
    {
      "cell_type": "code",
      "execution_count": null,
      "id": "b87d7c65-9a46-492a-a5c0-a043b0d252f3",
      "metadata": {
        "colab": {
          "base_uri": "https://localhost:8080/",
          "height": 71
        },
        "id": "b87d7c65-9a46-492a-a5c0-a043b0d252f3",
        "outputId": "651d1735-85f7-4bd1-c1d6-5a4356f7421c"
      },
      "outputs": [
        {
          "data": {
            "application/vnd.google.colaboratory.intrinsic+json": {
              "type": "string"
            },
            "text/plain": [
              "\"wine review : Italy : Sicily & Sardinia : White Blend : Aromas include tropical fruit , broom , brimstone and dried herb . The palate isn ' t overly expressive , offering unripened apple , citrus and dried sage alongside brisk acidity . \""
            ]
          },
          "execution_count": 10,
          "metadata": {},
          "output_type": "execute_result"
        }
      ],
      "source": [
        "# Display an example of a recipe\n",
        "example_data = text_data[0]\n",
        "example_data"
      ]
    },
    {
      "cell_type": "code",
      "execution_count": null,
      "id": "9834f916-b21a-4104-acc9-f28d3bd7a8c1",
      "metadata": {
        "id": "9834f916-b21a-4104-acc9-f28d3bd7a8c1",
        "tags": []
      },
      "outputs": [],
      "source": [
        "# Convert to a Tensorflow Dataset\n",
        "text_ds = (\n",
        "    tf.data.Dataset.from_tensor_slices(text_data)\n",
        "    .batch(BATCH_SIZE)\n",
        "    .shuffle(1000)\n",
        ")"
      ]
    },
    {
      "cell_type": "code",
      "execution_count": null,
      "id": "884c0bcb-0807-45a1-8f7e-a32f2c6fa4de",
      "metadata": {
        "id": "884c0bcb-0807-45a1-8f7e-a32f2c6fa4de"
      },
      "outputs": [],
      "source": [
        "# Create a vectorization layer using https://www.tensorflow.org/api_docs/python/tf/keras/layers/TextVectorization\n",
        "vectorize_layer = layers.TextVectorization(\n",
        "    standardize=\"lower\",\n",
        "    max_tokens=VOCAB_SIZE,\n",
        "    output_mode=\"int\",\n",
        "    output_sequence_length=MAX_LEN + 1,\n",
        ")"
      ]
    },
    {
      "cell_type": "code",
      "execution_count": null,
      "id": "4d6dd34a-d905-497b-926a-405380ebcf98",
      "metadata": {
        "id": "4d6dd34a-d905-497b-926a-405380ebcf98"
      },
      "outputs": [],
      "source": [
        "# Adapt the layer to the training set\n",
        "vectorize_layer.adapt(text_ds)\n",
        "vocab = vectorize_layer.get_vocabulary()"
      ]
    },
    {
      "cell_type": "code",
      "execution_count": null,
      "id": "f6c1c7ce-3cf0-40d4-a3dc-ab7090f69f2f",
      "metadata": {
        "colab": {
          "base_uri": "https://localhost:8080/"
        },
        "id": "f6c1c7ce-3cf0-40d4-a3dc-ab7090f69f2f",
        "outputId": "9bc09393-a9ba-48fb-cdee-46329034fdda"
      },
      "outputs": [
        {
          "name": "stdout",
          "output_type": "stream",
          "text": [
            "0: \n",
            "1: [UNK]\n",
            "2: :\n",
            "3: ,\n",
            "4: .\n",
            "5: and\n",
            "6: the\n",
            "7: wine\n",
            "8: a\n",
            "9: of\n"
          ]
        }
      ],
      "source": [
        "# Display some token:word mappings\n",
        "for i, word in enumerate(vocab[:10]):\n",
        "    print(f\"{i}: {word}\")"
      ]
    },
    {
      "cell_type": "code",
      "execution_count": null,
      "id": "1cc30186-7ec6-4eb6-b29a-65df6714d321",
      "metadata": {
        "colab": {
          "base_uri": "https://localhost:8080/"
        },
        "id": "1cc30186-7ec6-4eb6-b29a-65df6714d321",
        "outputId": "d36f5985-b599-4c7e-8100-775a9e94dbe2"
      },
      "outputs": [
        {
          "name": "stdout",
          "output_type": "stream",
          "text": [
            "[   7   10    2   40    2  440  442  461    2   53   27    2   26  944\n",
            "  236   22    3 2094    3 3774    5  114  130    4    6   28  982   18\n",
            "  228 1109 1003    3  355    1   69    3   81    5  114  472  167  408\n",
            "   30    4    0    0    0    0    0    0    0    0    0    0    0    0\n",
            "    0    0    0    0    0    0    0    0    0    0    0    0    0    0\n",
            "    0    0    0    0    0    0    0    0    0    0    0]\n"
          ]
        }
      ],
      "source": [
        "# Display the same example converted to ints\n",
        "example_tokenised = vectorize_layer(example_data)\n",
        "print(example_tokenised.numpy())"
      ]
    },
    {
      "cell_type": "markdown",
      "id": "8c195efb-84c6-4be0-a989-a7542188ad35",
      "metadata": {
        "id": "8c195efb-84c6-4be0-a989-a7542188ad35"
      },
      "source": [
        "## 3. Create the Training Set <a name=\"create\"></a>"
      ]
    },
    {
      "cell_type": "code",
      "execution_count": null,
      "id": "740294a1-1a6b-4c89-92f2-036d7d1b788b",
      "metadata": {
        "id": "740294a1-1a6b-4c89-92f2-036d7d1b788b"
      },
      "outputs": [],
      "source": [
        "# Create the training set of recipes and the same text shifted by one word\n",
        "# such that the predictions (y) for position i can depend only on the known outputs (x) at positions less than i\n",
        "def prepare_inputs(text):\n",
        "    text = tf.expand_dims(text, -1)\n",
        "    tokenized_sentences = vectorize_layer(text)\n",
        "    x = tokenized_sentences[:, :-1]\n",
        "    y = tokenized_sentences[:, 1:]\n",
        "    return x, y\n",
        "\n",
        "\n",
        "train_ds = text_ds.map(prepare_inputs)"
      ]
    },
    {
      "cell_type": "code",
      "execution_count": null,
      "id": "cad80ffb-4298-4249-86b4-9918d62534c5",
      "metadata": {
        "id": "cad80ffb-4298-4249-86b4-9918d62534c5"
      },
      "outputs": [],
      "source": [
        "example_input_output = train_ds.take(1).get_single_element()"
      ]
    },
    {
      "cell_type": "code",
      "execution_count": null,
      "id": "67ff7263-f62d-44c1-997b-1aa99a393521",
      "metadata": {
        "colab": {
          "base_uri": "https://localhost:8080/"
        },
        "id": "67ff7263-f62d-44c1-997b-1aa99a393521",
        "outputId": "066b708f-7b6f-4628-cdd6-d52abe3888ac"
      },
      "outputs": [
        {
          "data": {
            "text/plain": [
              "<tf.Tensor: shape=(80,), dtype=int64, numpy=\n",
              "array([   7,   10,    2,  264,    2, 1327,    2,  119,    2,  148, 1045,\n",
              "         33, 5527,   68,    3,   15,   41,    8, 1737, 8738,   25, 8541,\n",
              "        347,    6,  570,   30,    5,    6,  596,    9, 1022,  262,    4,\n",
              "       1001,    9, 1776,  368,    5, 1029,  468,   19,    6, 4946,    3,\n",
              "        185,  113, 6069,   11,  158,    4,  754,   14, 8679,   33,   89,\n",
              "       3249,    5,  134,    4,    0,    0,    0,    0,    0,    0,    0,\n",
              "          0,    0,    0,    0,    0,    0,    0,    0,    0,    0,    0,\n",
              "          0,    0,    0])>"
            ]
          },
          "execution_count": 18,
          "metadata": {},
          "output_type": "execute_result"
        }
      ],
      "source": [
        "# Example Input\n",
        "example_input_output[0][0]"
      ]
    },
    {
      "cell_type": "code",
      "execution_count": null,
      "id": "ef2e2cad-414c-4e6d-a2ac-6b9598f9dd01",
      "metadata": {
        "colab": {
          "base_uri": "https://localhost:8080/"
        },
        "id": "ef2e2cad-414c-4e6d-a2ac-6b9598f9dd01",
        "outputId": "8a18f30f-a1ba-4f2d-f960-1780d83f91ce"
      },
      "outputs": [
        {
          "data": {
            "text/plain": [
              "<tf.Tensor: shape=(80,), dtype=int64, numpy=\n",
              "array([  10,    2,  264,    2, 1327,    2,  119,    2,  148, 1045,   33,\n",
              "       5527,   68,    3,   15,   41,    8, 1737, 8738,   25, 8541,  347,\n",
              "          6,  570,   30,    5,    6,  596,    9, 1022,  262,    4, 1001,\n",
              "          9, 1776,  368,    5, 1029,  468,   19,    6, 4946,    3,  185,\n",
              "        113, 6069,   11,  158,    4,  754,   14, 8679,   33,   89, 3249,\n",
              "          5,  134,    4,    0,    0,    0,    0,    0,    0,    0,    0,\n",
              "          0,    0,    0,    0,    0,    0,    0,    0,    0,    0,    0,\n",
              "          0,    0,    0])>"
            ]
          },
          "execution_count": 19,
          "metadata": {},
          "output_type": "execute_result"
        }
      ],
      "source": [
        "# Example Output (shifted by one token)\n",
        "example_input_output[1][0]"
      ]
    },
    {
      "cell_type": "markdown",
      "id": "aff50401-3abe-4c10-bba8-b35bc13ad7d5",
      "metadata": {
        "id": "aff50401-3abe-4c10-bba8-b35bc13ad7d5",
        "tags": []
      },
      "source": [
        "## 4. Create the causal attention mask function <a name=\"causal\"></a>"
      ]
    },
    {
      "cell_type": "code",
      "execution_count": null,
      "id": "554a4184-61c2-4eb7-a063-d965586a8188",
      "metadata": {
        "colab": {
          "base_uri": "https://localhost:8080/"
        },
        "id": "554a4184-61c2-4eb7-a063-d965586a8188",
        "outputId": "6ec1590d-11a3-411a-aca3-47487e43520e"
      },
      "outputs": [
        {
          "data": {
            "text/plain": [
              "array([[1, 1, 1, 1, 1, 1, 1, 1, 1, 1],\n",
              "       [0, 1, 1, 1, 1, 1, 1, 1, 1, 1],\n",
              "       [0, 0, 1, 1, 1, 1, 1, 1, 1, 1],\n",
              "       [0, 0, 0, 1, 1, 1, 1, 1, 1, 1],\n",
              "       [0, 0, 0, 0, 1, 1, 1, 1, 1, 1],\n",
              "       [0, 0, 0, 0, 0, 1, 1, 1, 1, 1],\n",
              "       [0, 0, 0, 0, 0, 0, 1, 1, 1, 1],\n",
              "       [0, 0, 0, 0, 0, 0, 0, 1, 1, 1],\n",
              "       [0, 0, 0, 0, 0, 0, 0, 0, 1, 1],\n",
              "       [0, 0, 0, 0, 0, 0, 0, 0, 0, 1]], dtype=int32)"
            ]
          },
          "execution_count": 20,
          "metadata": {},
          "output_type": "execute_result"
        }
      ],
      "source": [
        "def causal_attention_mask(batch_size, n_dest, n_src, dtype):\n",
        "    i = tf.range(n_dest)[:, None]\n",
        "    j = tf.range(n_src)\n",
        "    m = i >= j - n_src + n_dest\n",
        "    mask = tf.cast(m, dtype)\n",
        "    mask = tf.reshape(mask, [1, n_dest, n_src])\n",
        "    mult = tf.concat(\n",
        "        [tf.expand_dims(batch_size, -1), tf.constant([1, 1], dtype=tf.int32)], 0\n",
        "    )\n",
        "    return tf.tile(mask, mult)\n",
        "\n",
        "\n",
        "np.transpose(causal_attention_mask(1, 10, 10, dtype=tf.int32)[0])"
      ]
    },
    {
      "cell_type": "markdown",
      "id": "3501dbad-0860-40ad-b7d6-47950e37858f",
      "metadata": {
        "id": "3501dbad-0860-40ad-b7d6-47950e37858f"
      },
      "source": [
        "## 5. Create a Transformer Block layer <a name=\"transformer\"></a>"
      ]
    },
    {
      "cell_type": "code",
      "execution_count": null,
      "id": "5285a1cb-fce1-46b1-b088-b596002fa9ae",
      "metadata": {
        "id": "5285a1cb-fce1-46b1-b088-b596002fa9ae"
      },
      "outputs": [],
      "source": [
        "# MultiHeadAttention layer: https://www.tensorflow.org/api_docs/python/tf/keras/layers/MultiHeadAttention\n",
        "# Dropout layer and Dense layer (feed-foward layer) as you learnt in AI Essentials course\n",
        "# LayerNormalization: https://www.tensorflow.org/api_docs/python/tf/keras/layers/LayerNormalization\n",
        "\n",
        "class TransformerBlock(layers.Layer):\n",
        "    def __init__(self, num_heads, key_dim, embed_dim, ff_dim, dropout_rate=0.1):\n",
        "        super(TransformerBlock, self).__init__()\n",
        "        self.num_heads = num_heads\n",
        "        self.key_dim = key_dim\n",
        "        self.embed_dim = embed_dim\n",
        "        self.ff_dim = ff_dim\n",
        "        self.dropout_rate = dropout_rate\n",
        "        self.attn = layers.MultiHeadAttention(\n",
        "            num_heads, key_dim, output_shape=embed_dim\n",
        "        )\n",
        "        self.dropout_1 = layers.Dropout(self.dropout_rate)\n",
        "        self.ln_1 = layers.LayerNormalization(epsilon=1e-6)\n",
        "        self.ffn_1 = layers.Dense(self.ff_dim, activation=\"relu\")\n",
        "        self.ffn_2 = layers.Dense(self.embed_dim)\n",
        "        self.dropout_2 = layers.Dropout(self.dropout_rate)\n",
        "        self.ln_2 = layers.LayerNormalization(epsilon=1e-6)\n",
        "\n",
        "    def call(self, inputs):\n",
        "        input_shape = tf.shape(inputs)\n",
        "        batch_size = input_shape[0]\n",
        "        seq_len = input_shape[1]\n",
        "        causal_mask = causal_attention_mask(\n",
        "            batch_size, seq_len, seq_len, tf.bool\n",
        "        )\n",
        "        attention_output, attention_scores = self.attn(\n",
        "            inputs,\n",
        "            inputs,\n",
        "            attention_mask=causal_mask,\n",
        "            return_attention_scores=True,\n",
        "        )\n",
        "        attention_output = self.dropout_1(attention_output)\n",
        "        out1 = self.ln_1(inputs + attention_output)\n",
        "        ffn_1 = self.ffn_1(out1)\n",
        "        ffn_2 = self.ffn_2(ffn_1)\n",
        "        ffn_output = self.dropout_2(ffn_2)\n",
        "        return (self.ln_2(out1 + ffn_output), attention_scores)\n",
        "\n",
        "    def get_config(self):\n",
        "        config = super().get_config()\n",
        "        config.update(\n",
        "            {\n",
        "                \"key_dim\": self.key_dim,\n",
        "                \"embed_dim\": self.embed_dim,\n",
        "                \"num_heads\": self.num_heads,\n",
        "                \"ff_dim\": self.ff_dim,\n",
        "                \"dropout_rate\": self.dropout_rate,\n",
        "            }\n",
        "        )\n",
        "        return config"
      ]
    },
    {
      "cell_type": "markdown",
      "id": "076a6be0-9796-4974-9bcd-6ebbcfe7514e",
      "metadata": {
        "id": "076a6be0-9796-4974-9bcd-6ebbcfe7514e",
        "tags": []
      },
      "source": [
        "## 6. Create the Token and Position Embedding <a name=\"embedder\"></a>"
      ]
    },
    {
      "cell_type": "code",
      "execution_count": null,
      "id": "fdf5cb25-88ae-4026-9e21-c1e6b5094a2c",
      "metadata": {
        "id": "fdf5cb25-88ae-4026-9e21-c1e6b5094a2c"
      },
      "outputs": [],
      "source": [
        "class TokenAndPositionEmbedding(layers.Layer):\n",
        "    def __init__(self, max_len, vocab_size, embed_dim):\n",
        "        super(TokenAndPositionEmbedding, self).__init__()\n",
        "        self.max_len = max_len\n",
        "        self.vocab_size = vocab_size\n",
        "        self.embed_dim = embed_dim\n",
        "        self.token_emb = layers.Embedding(\n",
        "            input_dim=vocab_size, output_dim=embed_dim\n",
        "        )\n",
        "        self.pos_emb = layers.Embedding(input_dim=max_len, output_dim=embed_dim)\n",
        "\n",
        "    def call(self, x):\n",
        "        maxlen = tf.shape(x)[-1]\n",
        "        positions = tf.range(start=0, limit=maxlen, delta=1)\n",
        "        positions = self.pos_emb(positions)\n",
        "        x = self.token_emb(x)\n",
        "        return x + positions\n",
        "\n",
        "    def get_config(self):\n",
        "        config = super().get_config()\n",
        "        config.update(\n",
        "            {\n",
        "                \"max_len\": self.max_len,\n",
        "                \"vocab_size\": self.vocab_size,\n",
        "                \"embed_dim\": self.embed_dim,\n",
        "            }\n",
        "        )\n",
        "        return config"
      ]
    },
    {
      "cell_type": "markdown",
      "id": "aac2e2d4-5980-47e3-b5b0-6c41c0c2d152",
      "metadata": {
        "id": "aac2e2d4-5980-47e3-b5b0-6c41c0c2d152"
      },
      "source": [
        "## 7. Build the Transformer model <a name=\"transformer_decoder\"></a>"
      ]
    },
    {
      "cell_type": "code",
      "execution_count": null,
      "id": "8c57596e-e17d-4959-b6e8-7581b0bace3a",
      "metadata": {
        "id": "8c57596e-e17d-4959-b6e8-7581b0bace3a"
      },
      "outputs": [],
      "source": [
        "inputs = layers.Input(shape=(None,), dtype=tf.int32)\n",
        "x = TokenAndPositionEmbedding(MAX_LEN, VOCAB_SIZE, EMBEDDING_DIM)(inputs)\n",
        "x, attention_scores = TransformerBlock(\n",
        "    N_HEADS, KEY_DIM, EMBEDDING_DIM, FEED_FORWARD_DIM\n",
        ")(x)\n",
        "outputs = layers.Dense(VOCAB_SIZE, activation=\"softmax\")(x)\n",
        "gpt = models.Model(inputs=inputs, outputs=[outputs, attention_scores])\n",
        "gpt.compile(\"adam\", loss=[losses.SparseCategoricalCrossentropy(), None])"
      ]
    },
    {
      "cell_type": "code",
      "execution_count": null,
      "id": "1a1c3b0f-3382-444d-bb04-bae143ae5d61",
      "metadata": {
        "colab": {
          "base_uri": "https://localhost:8080/",
          "height": 298
        },
        "id": "1a1c3b0f-3382-444d-bb04-bae143ae5d61",
        "outputId": "8f413034-9787-4db9-99a3-c27460361b02"
      },
      "outputs": [
        {
          "data": {
            "text/html": [
              "<pre style=\"white-space:pre;overflow-x:auto;line-height:normal;font-family:Menlo,'DejaVu Sans Mono',consolas,'Courier New',monospace\"><span style=\"font-weight: bold\">Model: \"functional\"</span>\n",
              "</pre>\n"
            ],
            "text/plain": [
              "\u001b[1mModel: \"functional\"\u001b[0m\n"
            ]
          },
          "metadata": {},
          "output_type": "display_data"
        },
        {
          "data": {
            "text/html": [
              "<pre style=\"white-space:pre;overflow-x:auto;line-height:normal;font-family:Menlo,'DejaVu Sans Mono',consolas,'Courier New',monospace\">┏━━━━━━━━━━━━━━━━━━━━━━━━━━━━━━━━━┳━━━━━━━━━━━━━━━━━━━━━━━━┳━━━━━━━━━━━━━━━┓\n",
              "┃<span style=\"font-weight: bold\"> Layer (type)                    </span>┃<span style=\"font-weight: bold\"> Output Shape           </span>┃<span style=\"font-weight: bold\">       Param # </span>┃\n",
              "┡━━━━━━━━━━━━━━━━━━━━━━━━━━━━━━━━━╇━━━━━━━━━━━━━━━━━━━━━━━━╇━━━━━━━━━━━━━━━┩\n",
              "│ input_layer (<span style=\"color: #0087ff; text-decoration-color: #0087ff\">InputLayer</span>)        │ (<span style=\"color: #00d7ff; text-decoration-color: #00d7ff\">None</span>, <span style=\"color: #00d7ff; text-decoration-color: #00d7ff\">None</span>)           │             <span style=\"color: #00af00; text-decoration-color: #00af00\">0</span> │\n",
              "├─────────────────────────────────┼────────────────────────┼───────────────┤\n",
              "│ token_and_position_embedding    │ (<span style=\"color: #00d7ff; text-decoration-color: #00d7ff\">None</span>, <span style=\"color: #00d7ff; text-decoration-color: #00d7ff\">None</span>, <span style=\"color: #00af00; text-decoration-color: #00af00\">256</span>)      │     <span style=\"color: #00af00; text-decoration-color: #00af00\">2,580,480</span> │\n",
              "│ (<span style=\"color: #0087ff; text-decoration-color: #0087ff\">TokenAndPositionEmbedding</span>)     │                        │               │\n",
              "├─────────────────────────────────┼────────────────────────┼───────────────┤\n",
              "│ transformer_block               │ [(<span style=\"color: #00d7ff; text-decoration-color: #00d7ff\">None</span>, <span style=\"color: #00d7ff; text-decoration-color: #00d7ff\">None</span>, <span style=\"color: #00af00; text-decoration-color: #00af00\">256</span>),    │       <span style=\"color: #00af00; text-decoration-color: #00af00\">658,688</span> │\n",
              "│ (<span style=\"color: #0087ff; text-decoration-color: #0087ff\">TransformerBlock</span>)              │ (<span style=\"color: #00d7ff; text-decoration-color: #00d7ff\">None</span>, <span style=\"color: #00af00; text-decoration-color: #00af00\">2</span>, <span style=\"color: #00d7ff; text-decoration-color: #00d7ff\">None</span>, <span style=\"color: #00d7ff; text-decoration-color: #00d7ff\">None</span>)] │               │\n",
              "├─────────────────────────────────┼────────────────────────┼───────────────┤\n",
              "│ dense_2 (<span style=\"color: #0087ff; text-decoration-color: #0087ff\">Dense</span>)                 │ (<span style=\"color: #00d7ff; text-decoration-color: #00d7ff\">None</span>, <span style=\"color: #00d7ff; text-decoration-color: #00d7ff\">None</span>, <span style=\"color: #00af00; text-decoration-color: #00af00\">10000</span>)    │     <span style=\"color: #00af00; text-decoration-color: #00af00\">2,570,000</span> │\n",
              "└─────────────────────────────────┴────────────────────────┴───────────────┘\n",
              "</pre>\n"
            ],
            "text/plain": [
              "┏━━━━━━━━━━━━━━━━━━━━━━━━━━━━━━━━━┳━━━━━━━━━━━━━━━━━━━━━━━━┳━━━━━━━━━━━━━━━┓\n",
              "┃\u001b[1m \u001b[0m\u001b[1mLayer (type)                   \u001b[0m\u001b[1m \u001b[0m┃\u001b[1m \u001b[0m\u001b[1mOutput Shape          \u001b[0m\u001b[1m \u001b[0m┃\u001b[1m \u001b[0m\u001b[1m      Param #\u001b[0m\u001b[1m \u001b[0m┃\n",
              "┡━━━━━━━━━━━━━━━━━━━━━━━━━━━━━━━━━╇━━━━━━━━━━━━━━━━━━━━━━━━╇━━━━━━━━━━━━━━━┩\n",
              "│ input_layer (\u001b[38;5;33mInputLayer\u001b[0m)        │ (\u001b[38;5;45mNone\u001b[0m, \u001b[38;5;45mNone\u001b[0m)           │             \u001b[38;5;34m0\u001b[0m │\n",
              "├─────────────────────────────────┼────────────────────────┼───────────────┤\n",
              "│ token_and_position_embedding    │ (\u001b[38;5;45mNone\u001b[0m, \u001b[38;5;45mNone\u001b[0m, \u001b[38;5;34m256\u001b[0m)      │     \u001b[38;5;34m2,580,480\u001b[0m │\n",
              "│ (\u001b[38;5;33mTokenAndPositionEmbedding\u001b[0m)     │                        │               │\n",
              "├─────────────────────────────────┼────────────────────────┼───────────────┤\n",
              "│ transformer_block               │ [(\u001b[38;5;45mNone\u001b[0m, \u001b[38;5;45mNone\u001b[0m, \u001b[38;5;34m256\u001b[0m),    │       \u001b[38;5;34m658,688\u001b[0m │\n",
              "│ (\u001b[38;5;33mTransformerBlock\u001b[0m)              │ (\u001b[38;5;45mNone\u001b[0m, \u001b[38;5;34m2\u001b[0m, \u001b[38;5;45mNone\u001b[0m, \u001b[38;5;45mNone\u001b[0m)] │               │\n",
              "├─────────────────────────────────┼────────────────────────┼───────────────┤\n",
              "│ dense_2 (\u001b[38;5;33mDense\u001b[0m)                 │ (\u001b[38;5;45mNone\u001b[0m, \u001b[38;5;45mNone\u001b[0m, \u001b[38;5;34m10000\u001b[0m)    │     \u001b[38;5;34m2,570,000\u001b[0m │\n",
              "└─────────────────────────────────┴────────────────────────┴───────────────┘\n"
            ]
          },
          "metadata": {},
          "output_type": "display_data"
        },
        {
          "data": {
            "text/html": [
              "<pre style=\"white-space:pre;overflow-x:auto;line-height:normal;font-family:Menlo,'DejaVu Sans Mono',consolas,'Courier New',monospace\"><span style=\"font-weight: bold\"> Total params: </span><span style=\"color: #00af00; text-decoration-color: #00af00\">5,809,168</span> (22.16 MB)\n",
              "</pre>\n"
            ],
            "text/plain": [
              "\u001b[1m Total params: \u001b[0m\u001b[38;5;34m5,809,168\u001b[0m (22.16 MB)\n"
            ]
          },
          "metadata": {},
          "output_type": "display_data"
        },
        {
          "data": {
            "text/html": [
              "<pre style=\"white-space:pre;overflow-x:auto;line-height:normal;font-family:Menlo,'DejaVu Sans Mono',consolas,'Courier New',monospace\"><span style=\"font-weight: bold\"> Trainable params: </span><span style=\"color: #00af00; text-decoration-color: #00af00\">5,809,168</span> (22.16 MB)\n",
              "</pre>\n"
            ],
            "text/plain": [
              "\u001b[1m Trainable params: \u001b[0m\u001b[38;5;34m5,809,168\u001b[0m (22.16 MB)\n"
            ]
          },
          "metadata": {},
          "output_type": "display_data"
        },
        {
          "data": {
            "text/html": [
              "<pre style=\"white-space:pre;overflow-x:auto;line-height:normal;font-family:Menlo,'DejaVu Sans Mono',consolas,'Courier New',monospace\"><span style=\"font-weight: bold\"> Non-trainable params: </span><span style=\"color: #00af00; text-decoration-color: #00af00\">0</span> (0.00 B)\n",
              "</pre>\n"
            ],
            "text/plain": [
              "\u001b[1m Non-trainable params: \u001b[0m\u001b[38;5;34m0\u001b[0m (0.00 B)\n"
            ]
          },
          "metadata": {},
          "output_type": "display_data"
        }
      ],
      "source": [
        "gpt.summary()"
      ]
    },
    {
      "cell_type": "markdown",
      "id": "35b14665-4359-447b-be58-3fd58ba69084",
      "metadata": {
        "id": "35b14665-4359-447b-be58-3fd58ba69084"
      },
      "source": [
        "## 8. Train the Transformer <a name=\"train\"></a>"
      ]
    },
    {
      "cell_type": "code",
      "execution_count": null,
      "id": "3ddcff5f-829d-4449-99d2-9a3cb68f7d72",
      "metadata": {
        "id": "3ddcff5f-829d-4449-99d2-9a3cb68f7d72"
      },
      "outputs": [],
      "source": [
        "# Create a TextGenerator checkpoint\n",
        "# A checkpoint is a saved state of a model, specifically the values of model variables (weights and biases) at a given point during training.\n",
        "class TextGenerator(callbacks.Callback):\n",
        "    def __init__(self, index_to_word, top_k=10):\n",
        "        self.index_to_word = index_to_word\n",
        "        self.word_to_index = {\n",
        "            word: index for index, word in enumerate(index_to_word)\n",
        "        }\n",
        "\n",
        "    def sample_from(self, probs, temperature):\n",
        "        probs = probs ** (1 / temperature)\n",
        "        probs = probs / np.sum(probs)\n",
        "        return np.random.choice(len(probs), p=probs), probs\n",
        "\n",
        "    def generate(self, start_prompt, max_tokens, temperature):\n",
        "        start_tokens = [\n",
        "            self.word_to_index.get(x, 1) for x in start_prompt.split()\n",
        "        ]\n",
        "        sample_token = None\n",
        "        info = []\n",
        "        while len(start_tokens) < max_tokens and sample_token != 0:\n",
        "            x = np.array([start_tokens])\n",
        "            y, att = self.model.predict(x, verbose=0)\n",
        "            sample_token, probs = self.sample_from(y[0][-1], temperature)\n",
        "            info.append(\n",
        "                {\n",
        "                    \"prompt\": start_prompt,\n",
        "                    \"word_probs\": probs,\n",
        "                    \"atts\": att[0, :, -1, :],\n",
        "                }\n",
        "            )\n",
        "            start_tokens.append(sample_token)\n",
        "            start_prompt = start_prompt + \" \" + self.index_to_word[sample_token]\n",
        "        print(f\"\\ngenerated text:\\n{start_prompt}\\n\")\n",
        "        return info\n",
        "\n",
        "    def on_epoch_end(self, epoch, logs=None):\n",
        "        self.generate(\"wine review\", max_tokens=80, temperature=1.0)"
      ]
    },
    {
      "cell_type": "code",
      "execution_count": null,
      "id": "349865fe-ffbe-450e-97be-043ae1740e78",
      "metadata": {
        "id": "349865fe-ffbe-450e-97be-043ae1740e78"
      },
      "outputs": [],
      "source": [
        "# Create a model save checkpoint\n",
        "model_checkpoint_callback = callbacks.ModelCheckpoint(\n",
        "    filepath=\"./checkpoint/checkpoint.weights.h5\",\n",
        "    save_weights_only=True,\n",
        "    save_freq=\"epoch\",\n",
        "    verbose=0,\n",
        ")\n",
        "\n",
        "tensorboard_callback = callbacks.TensorBoard(log_dir=\"./logs\")\n",
        "\n",
        "# Tokenize starting prompt\n",
        "text_generator = TextGenerator(vocab)"
      ]
    },
    {
      "cell_type": "code",
      "execution_count": null,
      "id": "461c2b3e-b5ae-4def-8bd9-e7bab8c63d8e",
      "metadata": {
        "colab": {
          "base_uri": "https://localhost:8080/"
        },
        "id": "461c2b3e-b5ae-4def-8bd9-e7bab8c63d8e",
        "outputId": "5bb97db4-e2c7-4277-8a86-35a9c89fd537",
        "tags": []
      },
      "outputs": [
        {
          "name": "stdout",
          "output_type": "stream",
          "text": [
            "Epoch 1/5\n",
            "\u001b[1m4060/4060\u001b[0m \u001b[32m━━━━━━━━━━━━━━━━━━━━\u001b[0m\u001b[37m\u001b[0m \u001b[1m0s\u001b[0m 25ms/step - loss: 2.5849\n",
            "generated text:\n",
            "wine review : spain : northern spain : tempranillo : raisin , raisin and berry aromas feed into a woody , acidic palate that pave of sophistication and firm , with a candied finish . \n",
            "\n",
            "\u001b[1m4060/4060\u001b[0m \u001b[32m━━━━━━━━━━━━━━━━━━━━\u001b[0m\u001b[37m\u001b[0m \u001b[1m150s\u001b[0m 35ms/step - loss: 2.5848\n",
            "Epoch 2/5\n",
            "\u001b[1m4058/4060\u001b[0m \u001b[32m━━━━━━━━━━━━━━━━━━━\u001b[0m\u001b[37m━\u001b[0m \u001b[1m0s\u001b[0m 24ms/step - loss: 1.9812\n",
            "generated text:\n",
            "wine review : us : california : tannat - cabernet sauvignon : this mingled with raisin and prune aromas last with time to know about time . after half of eight years , it ' s not fancy or tannic opened now , and instead it does not quite use many along the lines of astringency you can notice the cellar , and it will need time to develop . it won ' t find : impart a more time\n",
            "\n",
            "\u001b[1m4060/4060\u001b[0m \u001b[32m━━━━━━━━━━━━━━━━━━━━\u001b[0m\u001b[37m\u001b[0m \u001b[1m208s\u001b[0m 38ms/step - loss: 1.9812\n",
            "Epoch 3/5\n",
            "\u001b[1m4060/4060\u001b[0m \u001b[32m━━━━━━━━━━━━━━━━━━━━\u001b[0m\u001b[37m\u001b[0m \u001b[1m0s\u001b[0m 24ms/step - loss: 1.8958\n",
            "generated text:\n",
            "wine review : spain : northern spain : tempranillo blend : oak - based on the nose , but not top wine bill the point of being a bit charred on the palate . that shows touches of cough drop and burnt rubber or coffee are a touch volatile , revealing forced , while the finish is unfamiliar like the syrup . \n",
            "\n",
            "\u001b[1m4060/4060\u001b[0m \u001b[32m━━━━━━━━━━━━━━━━━━━━\u001b[0m\u001b[37m\u001b[0m \u001b[1m104s\u001b[0m 26ms/step - loss: 1.8958\n",
            "Epoch 4/5\n",
            "\u001b[1m4059/4060\u001b[0m \u001b[32m━━━━━━━━━━━━━━━━━━━\u001b[0m\u001b[37m━\u001b[0m \u001b[1m0s\u001b[0m 24ms/step - loss: 1.8452\n",
            "generated text:\n",
            "wine review : us : california : red blend : on the nose of this bottling came out with 34 % cabernet sauvignon , 19 % sangiovese and 23 % merlot , the ripe and inviting nose on the sip , where the juniper bramble and pine - chocolate converge to the beauty of the entire range . potent tannins and flavors are reminiscent of dark chocolate ganache and black - cherries . teroldego , with good energy , while\n",
            "\n",
            "\u001b[1m4060/4060\u001b[0m \u001b[32m━━━━━━━━━━━━━━━━━━━━\u001b[0m\u001b[37m\u001b[0m \u001b[1m104s\u001b[0m 26ms/step - loss: 1.8452\n",
            "Epoch 5/5\n",
            "\u001b[1m4058/4060\u001b[0m \u001b[32m━━━━━━━━━━━━━━━━━━━\u001b[0m\u001b[37m━\u001b[0m \u001b[1m0s\u001b[0m 24ms/step - loss: 1.8135\n",
            "generated text:\n",
            "wine review : us : california : cabernet sauvignon : this is a classic blend of cabernet sauvignon and merlot , as a result of a soft , approachable cabernet that ' s approachable merlot and jammy . the palate delivers a lightly of caramelized , blackberry and blueberry flavors and a little sanguine , soft and soft on the finish . \n",
            "\n",
            "\u001b[1m4060/4060\u001b[0m \u001b[32m━━━━━━━━━━━━━━━━━━━━\u001b[0m\u001b[37m\u001b[0m \u001b[1m104s\u001b[0m 26ms/step - loss: 1.8135\n"
          ]
        },
        {
          "data": {
            "text/plain": [
              "<keras.src.callbacks.history.History at 0x7f5d8e517190>"
            ]
          },
          "execution_count": 27,
          "metadata": {},
          "output_type": "execute_result"
        }
      ],
      "source": [
        "gpt.fit(\n",
        "    train_ds,\n",
        "    epochs=EPOCHS,\n",
        "    callbacks=[model_checkpoint_callback, tensorboard_callback, text_generator],\n",
        ")"
      ]
    },
    {
      "cell_type": "markdown",
      "id": "PLk1UlASfB3c",
      "metadata": {
        "id": "PLk1UlASfB3c"
      },
      "source": [
        "<font color='red'>Instruction: do not forget to replace the path.</font>"
      ]
    },
    {
      "cell_type": "code",
      "execution_count": null,
      "id": "369bde44-2e39-4bc6-8549-a3a27ecce55c",
      "metadata": {
        "id": "369bde44-2e39-4bc6-8549-a3a27ecce55c",
        "tags": []
      },
      "outputs": [],
      "source": [
        "# Save the final model\n",
        "gpt.save(\"/gpt.keras\")"
      ]
    },
    {
      "cell_type": "markdown",
      "id": "d64e02d2-84dc-40c8-8446-40c09adf1e20",
      "metadata": {
        "id": "d64e02d2-84dc-40c8-8446-40c09adf1e20"
      },
      "source": [
        "## 9. Generate text using the Transformer"
      ]
    },
    {
      "cell_type": "code",
      "execution_count": null,
      "id": "4ad23adb-3ec9-4e9a-9a59-b9f9bafca649",
      "metadata": {
        "id": "4ad23adb-3ec9-4e9a-9a59-b9f9bafca649"
      },
      "outputs": [],
      "source": [
        "def print_probs(info, vocab, top_k=5):\n",
        "    for i in info:\n",
        "        highlighted_text = []\n",
        "        for word, att_score in zip(\n",
        "            i[\"prompt\"].split(), np.mean(i[\"atts\"], axis=0)\n",
        "        ):\n",
        "            highlighted_text.append(\n",
        "                '<span style=\"background-color:rgba(135,206,250,'\n",
        "                + str(att_score / max(np.mean(i[\"atts\"], axis=0)))\n",
        "                + ');\">'\n",
        "                + word\n",
        "                + \"</span>\"\n",
        "            )\n",
        "        highlighted_text = \" \".join(highlighted_text)\n",
        "        display(HTML(highlighted_text))\n",
        "\n",
        "        word_probs = i[\"word_probs\"]\n",
        "        p_sorted = np.sort(word_probs)[::-1][:top_k]\n",
        "        i_sorted = np.argsort(word_probs)[::-1][:top_k]\n",
        "        for p, i in zip(p_sorted, i_sorted):\n",
        "            print(f\"{vocab[i]}:   \\t{np.round(100*p,2)}%\")\n",
        "        print(\"--------\\n\")"
      ]
    },
    {
      "cell_type": "code",
      "execution_count": null,
      "id": "3cf25578-d47c-4b26-8252-fcdf2316a4ac",
      "metadata": {
        "colab": {
          "base_uri": "https://localhost:8080/"
        },
        "id": "3cf25578-d47c-4b26-8252-fcdf2316a4ac",
        "outputId": "8e0827ae-5593-4c29-9f5b-b01fe06a6d9b"
      },
      "outputs": [
        {
          "name": "stdout",
          "output_type": "stream",
          "text": [
            "\n",
            "generated text:\n",
            "wine review : us : california : chardonnay : this is a rich , simple chardonnay . it ' s an easy - drinking chardonnay , with simple pineapple and peach flavors , with a hint of oak . \n",
            "\n"
          ]
        }
      ],
      "source": [
        "info = text_generator.generate(\n",
        "    \"wine review : us\", max_tokens=80, temperature=0.5\n",
        ")"
      ]
    },
    {
      "cell_type": "markdown",
      "id": "_81xnKVHitfT",
      "metadata": {
        "id": "_81xnKVHitfT"
      },
      "source": [
        "<font color='red'>Instruction: Now try it yourself with a different starting context, number of tokens, and temperature. </font>"
      ]
    },
    {
      "cell_type": "code",
      "execution_count": null,
      "id": "G07uCts_jDZC",
      "metadata": {
        "id": "G07uCts_jDZC"
      },
      "outputs": [],
      "source": []
    },
    {
      "cell_type": "code",
      "execution_count": null,
      "id": "heY8kLk8ii4_",
      "metadata": {
        "id": "heY8kLk8ii4_"
      },
      "outputs": [],
      "source": []
    },
    {
      "cell_type": "code",
      "execution_count": null,
      "id": "fkuXnc1Fg0xM",
      "metadata": {
        "colab": {
          "base_uri": "https://localhost:8080/",
          "height": 1000
        },
        "id": "fkuXnc1Fg0xM",
        "outputId": "cc0d38a9-c9bd-4df2-af7d-015ca330eeb1"
      },
      "outputs": [
        {
          "name": "stdout",
          "output_type": "stream",
          "text": [
            "\n",
            "generated text:\n",
            "wine review : germany : mosel : riesling : waxy lemon - lime and lime flavors are accented by a lacy haze of acidity and a hint of sweetness , this off - dry riesling . it ' s a straightforward wine with a juicy , easy - drinking finish\n",
            "\n"
          ]
        },
        {
          "data": {
            "text/html": [
              "<span style=\"background-color:rgba(135,206,250,0.9338817);\">wine</span> <span style=\"background-color:rgba(135,206,250,1.0);\">review</span> <span style=\"background-color:rgba(135,206,250,0.33311775);\">:</span> <span style=\"background-color:rgba(135,206,250,0.2695892);\">germany</span>"
            ],
            "text/plain": [
              "<IPython.core.display.HTML object>"
            ]
          },
          "metadata": {},
          "output_type": "display_data"
        },
        {
          "name": "stdout",
          "output_type": "stream",
          "text": [
            "::   \t100.0%\n",
            "grosso:   \t0.0%\n",
            "zealand:   \t0.0%\n",
            "-:   \t0.0%\n",
            "africa:   \t0.0%\n",
            "--------\n",
            "\n"
          ]
        },
        {
          "data": {
            "text/html": [
              "<span style=\"background-color:rgba(135,206,250,0.36224094);\">wine</span> <span style=\"background-color:rgba(135,206,250,0.38041872);\">review</span> <span style=\"background-color:rgba(135,206,250,0.21619731);\">:</span> <span style=\"background-color:rgba(135,206,250,1.0);\">germany</span> <span style=\"background-color:rgba(135,206,250,0.14418742);\">:</span>"
            ],
            "text/plain": [
              "<IPython.core.display.HTML object>"
            ]
          },
          "metadata": {},
          "output_type": "display_data"
        },
        {
          "name": "stdout",
          "output_type": "stream",
          "text": [
            "mosel:   \t77.69000244140625%\n",
            "rheinhessen:   \t13.609999656677246%\n",
            "rheingau:   \t4.869999885559082%\n",
            "pfalz:   \t3.2699999809265137%\n",
            "nahe:   \t0.49000000953674316%\n",
            "--------\n",
            "\n"
          ]
        },
        {
          "data": {
            "text/html": [
              "<span style=\"background-color:rgba(135,206,250,0.86228836);\">wine</span> <span style=\"background-color:rgba(135,206,250,1.0);\">review</span> <span style=\"background-color:rgba(135,206,250,0.23398341);\">:</span> <span style=\"background-color:rgba(135,206,250,0.17649227);\">germany</span> <span style=\"background-color:rgba(135,206,250,0.3298403);\">:</span> <span style=\"background-color:rgba(135,206,250,0.16841897);\">mosel</span>"
            ],
            "text/plain": [
              "<IPython.core.display.HTML object>"
            ]
          },
          "metadata": {},
          "output_type": "display_data"
        },
        {
          "name": "stdout",
          "output_type": "stream",
          "text": [
            "::   \t100.0%\n",
            "-:   \t0.0%\n",
            "grosso:   \t0.0%\n",
            "notes:   \t0.0%\n",
            "blend:   \t0.0%\n",
            "--------\n",
            "\n"
          ]
        },
        {
          "data": {
            "text/html": [
              "<span style=\"background-color:rgba(135,206,250,0.38763046);\">wine</span> <span style=\"background-color:rgba(135,206,250,0.3482612);\">review</span> <span style=\"background-color:rgba(135,206,250,0.1515103);\">:</span> <span style=\"background-color:rgba(135,206,250,0.57382125);\">germany</span> <span style=\"background-color:rgba(135,206,250,0.09495265);\">:</span> <span style=\"background-color:rgba(135,206,250,1.0);\">mosel</span> <span style=\"background-color:rgba(135,206,250,0.1592788);\">:</span>"
            ],
            "text/plain": [
              "<IPython.core.display.HTML object>"
            ]
          },
          "metadata": {},
          "output_type": "display_data"
        },
        {
          "name": "stdout",
          "output_type": "stream",
          "text": [
            "riesling:   \t99.98999786376953%\n",
            "pinot:   \t0.0%\n",
            "weissburgunder:   \t0.0%\n",
            "grüner:   \t0.0%\n",
            "white:   \t0.0%\n",
            "--------\n",
            "\n"
          ]
        },
        {
          "data": {
            "text/html": [
              "<span style=\"background-color:rgba(135,206,250,0.6540026);\">wine</span> <span style=\"background-color:rgba(135,206,250,1.0);\">review</span> <span style=\"background-color:rgba(135,206,250,0.13104294);\">:</span> <span style=\"background-color:rgba(135,206,250,0.09132821);\">germany</span> <span style=\"background-color:rgba(135,206,250,0.22116736);\">:</span> <span style=\"background-color:rgba(135,206,250,0.19648057);\">mosel</span> <span style=\"background-color:rgba(135,206,250,0.21409509);\">:</span> <span style=\"background-color:rgba(135,206,250,0.092196755);\">riesling</span>"
            ],
            "text/plain": [
              "<IPython.core.display.HTML object>"
            ]
          },
          "metadata": {},
          "output_type": "display_data"
        },
        {
          "name": "stdout",
          "output_type": "stream",
          "text": [
            "::   \t100.0%\n",
            "-:   \t0.0%\n",
            "grosso:   \t0.0%\n",
            "blend:   \t0.0%\n",
            "blanc:   \t0.0%\n",
            "--------\n",
            "\n"
          ]
        },
        {
          "data": {
            "text/html": [
              "<span style=\"background-color:rgba(135,206,250,0.75292426);\">wine</span> <span style=\"background-color:rgba(135,206,250,0.66391325);\">review</span> <span style=\"background-color:rgba(135,206,250,0.14473704);\">:</span> <span style=\"background-color:rgba(135,206,250,0.510412);\">germany</span> <span style=\"background-color:rgba(135,206,250,0.21754035);\">:</span> <span style=\"background-color:rgba(135,206,250,1.0);\">mosel</span> <span style=\"background-color:rgba(135,206,250,0.33349973);\">:</span> <span style=\"background-color:rgba(135,206,250,0.664323);\">riesling</span> <span style=\"background-color:rgba(135,206,250,0.33624297);\">:</span>"
            ],
            "text/plain": [
              "<IPython.core.display.HTML object>"
            ]
          },
          "metadata": {},
          "output_type": "display_data"
        },
        {
          "name": "stdout",
          "output_type": "stream",
          "text": [
            "a:   \t19.190000534057617%\n",
            "this:   \t15.989999771118164%\n",
            "dusty:   \t10.229999542236328%\n",
            "whiffs:   \t9.220000267028809%\n",
            "while:   \t8.520000457763672%\n",
            "--------\n",
            "\n"
          ]
        },
        {
          "data": {
            "text/html": [
              "<span style=\"background-color:rgba(135,206,250,1.0);\">wine</span> <span style=\"background-color:rgba(135,206,250,0.9489016);\">review</span> <span style=\"background-color:rgba(135,206,250,0.20319249);\">:</span> <span style=\"background-color:rgba(135,206,250,0.32946238);\">germany</span> <span style=\"background-color:rgba(135,206,250,0.21014096);\">:</span> <span style=\"background-color:rgba(135,206,250,0.31519);\">mosel</span> <span style=\"background-color:rgba(135,206,250,0.24167205);\">:</span> <span style=\"background-color:rgba(135,206,250,0.37625197);\">riesling</span> <span style=\"background-color:rgba(135,206,250,0.41097963);\">:</span> <span style=\"background-color:rgba(135,206,250,0.2701745);\">waxy</span>"
            ],
            "text/plain": [
              "<IPython.core.display.HTML object>"
            ]
          },
          "metadata": {},
          "output_type": "display_data"
        },
        {
          "name": "stdout",
          "output_type": "stream",
          "text": [
            "lemon:   \t68.47000122070312%\n",
            "lanolin:   \t8.430000305175781%\n",
            "apple:   \t4.920000076293945%\n",
            "floral:   \t3.9700000286102295%\n",
            "peach:   \t2.5299999713897705%\n",
            "--------\n",
            "\n"
          ]
        },
        {
          "data": {
            "text/html": [
              "<span style=\"background-color:rgba(135,206,250,0.9203288);\">wine</span> <span style=\"background-color:rgba(135,206,250,1.0);\">review</span> <span style=\"background-color:rgba(135,206,250,0.11902116);\">:</span> <span style=\"background-color:rgba(135,206,250,0.4209027);\">germany</span> <span style=\"background-color:rgba(135,206,250,0.19263941);\">:</span> <span style=\"background-color:rgba(135,206,250,0.30439755);\">mosel</span> <span style=\"background-color:rgba(135,206,250,0.22494492);\">:</span> <span style=\"background-color:rgba(135,206,250,0.20898655);\">riesling</span> <span style=\"background-color:rgba(135,206,250,0.37496486);\">:</span> <span style=\"background-color:rgba(135,206,250,0.8823731);\">waxy</span> <span style=\"background-color:rgba(135,206,250,0.36591074);\">lemon</span>"
            ],
            "text/plain": [
              "<IPython.core.display.HTML object>"
            ]
          },
          "metadata": {},
          "output_type": "display_data"
        },
        {
          "name": "stdout",
          "output_type": "stream",
          "text": [
            "and:   \t94.19000244140625%\n",
            "-:   \t3.6600000858306885%\n",
            ",:   \t0.6800000071525574%\n",
            "notes:   \t0.3799999952316284%\n",
            "zest:   \t0.2800000011920929%\n",
            "--------\n",
            "\n"
          ]
        },
        {
          "data": {
            "text/html": [
              "<span style=\"background-color:rgba(135,206,250,0.31471485);\">wine</span> <span style=\"background-color:rgba(135,206,250,0.2889513);\">review</span> <span style=\"background-color:rgba(135,206,250,0.07813067);\">:</span> <span style=\"background-color:rgba(135,206,250,0.17978367);\">germany</span> <span style=\"background-color:rgba(135,206,250,0.0749885);\">:</span> <span style=\"background-color:rgba(135,206,250,0.18246932);\">mosel</span> <span style=\"background-color:rgba(135,206,250,0.073888235);\">:</span> <span style=\"background-color:rgba(135,206,250,0.17246938);\">riesling</span> <span style=\"background-color:rgba(135,206,250,0.11201357);\">:</span> <span style=\"background-color:rgba(135,206,250,0.19571416);\">waxy</span> <span style=\"background-color:rgba(135,206,250,1.0);\">lemon</span> <span style=\"background-color:rgba(135,206,250,0.07523139);\">-</span>"
            ],
            "text/plain": [
              "<IPython.core.display.HTML object>"
            ]
          },
          "metadata": {},
          "output_type": "display_data"
        },
        {
          "name": "stdout",
          "output_type": "stream",
          "text": [
            "lime:   \t99.12000274658203%\n",
            "blossom:   \t0.4300000071525574%\n",
            "pith:   \t0.1899999976158142%\n",
            "rind:   \t0.05999999865889549%\n",
            "zest:   \t0.03999999910593033%\n",
            "--------\n",
            "\n"
          ]
        },
        {
          "data": {
            "text/html": [
              "<span style=\"background-color:rgba(135,206,250,0.833801);\">wine</span> <span style=\"background-color:rgba(135,206,250,1.0);\">review</span> <span style=\"background-color:rgba(135,206,250,0.15259913);\">:</span> <span style=\"background-color:rgba(135,206,250,0.3826808);\">germany</span> <span style=\"background-color:rgba(135,206,250,0.2433283);\">:</span> <span style=\"background-color:rgba(135,206,250,0.28862444);\">mosel</span> <span style=\"background-color:rgba(135,206,250,0.20889138);\">:</span> <span style=\"background-color:rgba(135,206,250,0.12932485);\">riesling</span> <span style=\"background-color:rgba(135,206,250,0.3226558);\">:</span> <span style=\"background-color:rgba(135,206,250,0.4744832);\">waxy</span> <span style=\"background-color:rgba(135,206,250,0.31880498);\">lemon</span> <span style=\"background-color:rgba(135,206,250,0.52770907);\">-</span> <span style=\"background-color:rgba(135,206,250,0.5094879);\">lime</span>"
            ],
            "text/plain": [
              "<IPython.core.display.HTML object>"
            ]
          },
          "metadata": {},
          "output_type": "display_data"
        },
        {
          "name": "stdout",
          "output_type": "stream",
          "text": [
            "and:   \t91.97000122070312%\n",
            ",:   \t2.2899999618530273%\n",
            "notes:   \t2.009999990463257%\n",
            "zest:   \t1.4199999570846558%\n",
            "acidity:   \t0.9200000166893005%\n",
            "--------\n",
            "\n"
          ]
        },
        {
          "data": {
            "text/html": [
              "<span style=\"background-color:rgba(135,206,250,0.29372615);\">wine</span> <span style=\"background-color:rgba(135,206,250,0.35610995);\">review</span> <span style=\"background-color:rgba(135,206,250,0.09840053);\">:</span> <span style=\"background-color:rgba(135,206,250,0.24242535);\">germany</span> <span style=\"background-color:rgba(135,206,250,0.074119665);\">:</span> <span style=\"background-color:rgba(135,206,250,0.2679609);\">mosel</span> <span style=\"background-color:rgba(135,206,250,0.09078585);\">:</span> <span style=\"background-color:rgba(135,206,250,0.2666133);\">riesling</span> <span style=\"background-color:rgba(135,206,250,0.12655866);\">:</span> <span style=\"background-color:rgba(135,206,250,0.26660416);\">waxy</span> <span style=\"background-color:rgba(135,206,250,0.5389989);\">lemon</span> <span style=\"background-color:rgba(135,206,250,0.238706);\">-</span> <span style=\"background-color:rgba(135,206,250,1.0);\">lime</span> <span style=\"background-color:rgba(135,206,250,0.19218709);\">and</span>"
            ],
            "text/plain": [
              "<IPython.core.display.HTML object>"
            ]
          },
          "metadata": {},
          "output_type": "display_data"
        },
        {
          "name": "stdout",
          "output_type": "stream",
          "text": [
            "lemon:   \t27.010000228881836%\n",
            "tangerine:   \t22.139999389648438%\n",
            "grapefruit:   \t14.899999618530273%\n",
            "pink:   \t5.309999942779541%\n",
            "lime:   \t4.789999961853027%\n",
            "--------\n",
            "\n"
          ]
        },
        {
          "data": {
            "text/html": [
              "<span style=\"background-color:rgba(135,206,250,0.7215875);\">wine</span> <span style=\"background-color:rgba(135,206,250,1.0);\">review</span> <span style=\"background-color:rgba(135,206,250,0.14630868);\">:</span> <span style=\"background-color:rgba(135,206,250,0.4695175);\">germany</span> <span style=\"background-color:rgba(135,206,250,0.2175767);\">:</span> <span style=\"background-color:rgba(135,206,250,0.28055003);\">mosel</span> <span style=\"background-color:rgba(135,206,250,0.2025074);\">:</span> <span style=\"background-color:rgba(135,206,250,0.13596943);\">riesling</span> <span style=\"background-color:rgba(135,206,250,0.26234505);\">:</span> <span style=\"background-color:rgba(135,206,250,0.33723155);\">waxy</span> <span style=\"background-color:rgba(135,206,250,0.21171033);\">lemon</span> <span style=\"background-color:rgba(135,206,250,0.3593899);\">-</span> <span style=\"background-color:rgba(135,206,250,0.2989162);\">lime</span> <span style=\"background-color:rgba(135,206,250,0.9675662);\">and</span> <span style=\"background-color:rgba(135,206,250,0.5053438);\">lime</span>"
            ],
            "text/plain": [
              "<IPython.core.display.HTML object>"
            ]
          },
          "metadata": {},
          "output_type": "display_data"
        },
        {
          "name": "stdout",
          "output_type": "stream",
          "text": [
            "flavors:   \t55.06999969482422%\n",
            "notes:   \t26.229999542236328%\n",
            "zest:   \t5.179999828338623%\n",
            "acidity:   \t2.950000047683716%\n",
            "tones:   \t2.0299999713897705%\n",
            "--------\n",
            "\n"
          ]
        },
        {
          "data": {
            "text/html": [
              "<span style=\"background-color:rgba(135,206,250,0.41299617);\">wine</span> <span style=\"background-color:rgba(135,206,250,1.0);\">review</span> <span style=\"background-color:rgba(135,206,250,0.09081997);\">:</span> <span style=\"background-color:rgba(135,206,250,0.24762344);\">germany</span> <span style=\"background-color:rgba(135,206,250,0.10694954);\">:</span> <span style=\"background-color:rgba(135,206,250,0.16533497);\">mosel</span> <span style=\"background-color:rgba(135,206,250,0.14038955);\">:</span> <span style=\"background-color:rgba(135,206,250,0.09953329);\">riesling</span> <span style=\"background-color:rgba(135,206,250,0.21505423);\">:</span> <span style=\"background-color:rgba(135,206,250,0.1255497);\">waxy</span> <span style=\"background-color:rgba(135,206,250,0.20419486);\">lemon</span> <span style=\"background-color:rgba(135,206,250,0.13177074);\">-</span> <span style=\"background-color:rgba(135,206,250,0.24884088);\">lime</span> <span style=\"background-color:rgba(135,206,250,0.38903582);\">and</span> <span style=\"background-color:rgba(135,206,250,0.4029908);\">lime</span> <span style=\"background-color:rgba(135,206,250,0.21523795);\">flavors</span>"
            ],
            "text/plain": [
              "<IPython.core.display.HTML object>"
            ]
          },
          "metadata": {},
          "output_type": "display_data"
        },
        {
          "name": "stdout",
          "output_type": "stream",
          "text": [
            "are:   \t89.66999816894531%\n",
            "lend:   \t5.260000228881836%\n",
            "reverberate:   \t1.840000033378601%\n",
            "abound:   \t1.159999966621399%\n",
            "penetrate:   \t0.7300000190734863%\n",
            "--------\n",
            "\n"
          ]
        },
        {
          "data": {
            "text/html": [
              "<span style=\"background-color:rgba(135,206,250,0.4518413);\">wine</span> <span style=\"background-color:rgba(135,206,250,1.0);\">review</span> <span style=\"background-color:rgba(135,206,250,0.093600236);\">:</span> <span style=\"background-color:rgba(135,206,250,0.43741858);\">germany</span> <span style=\"background-color:rgba(135,206,250,0.11298012);\">:</span> <span style=\"background-color:rgba(135,206,250,0.35164887);\">mosel</span> <span style=\"background-color:rgba(135,206,250,0.13990627);\">:</span> <span style=\"background-color:rgba(135,206,250,0.20002899);\">riesling</span> <span style=\"background-color:rgba(135,206,250,0.16259131);\">:</span> <span style=\"background-color:rgba(135,206,250,0.3019657);\">waxy</span> <span style=\"background-color:rgba(135,206,250,0.30129096);\">lemon</span> <span style=\"background-color:rgba(135,206,250,0.16783044);\">-</span> <span style=\"background-color:rgba(135,206,250,0.273846);\">lime</span> <span style=\"background-color:rgba(135,206,250,0.3634456);\">and</span> <span style=\"background-color:rgba(135,206,250,0.3198062);\">lime</span> <span style=\"background-color:rgba(135,206,250,0.94042635);\">flavors</span> <span style=\"background-color:rgba(135,206,250,0.21663652);\">are</span>"
            ],
            "text/plain": [
              "<IPython.core.display.HTML object>"
            ]
          },
          "metadata": {},
          "output_type": "display_data"
        },
        {
          "name": "stdout",
          "output_type": "stream",
          "text": [
            "intensely:   \t16.360000610351562%\n",
            "accented:   \t12.479999542236328%\n",
            "offset:   \t12.279999732971191%\n",
            "concentrated:   \t8.420000076293945%\n",
            "delicately:   \t5.559999942779541%\n",
            "--------\n",
            "\n"
          ]
        },
        {
          "data": {
            "text/html": [
              "<span style=\"background-color:rgba(135,206,250,0.54268855);\">wine</span> <span style=\"background-color:rgba(135,206,250,1.0);\">review</span> <span style=\"background-color:rgba(135,206,250,0.116193004);\">:</span> <span style=\"background-color:rgba(135,206,250,0.24848895);\">germany</span> <span style=\"background-color:rgba(135,206,250,0.1691398);\">:</span> <span style=\"background-color:rgba(135,206,250,0.22901157);\">mosel</span> <span style=\"background-color:rgba(135,206,250,0.17711888);\">:</span> <span style=\"background-color:rgba(135,206,250,0.2514926);\">riesling</span> <span style=\"background-color:rgba(135,206,250,0.18767601);\">:</span> <span style=\"background-color:rgba(135,206,250,0.14755142);\">waxy</span> <span style=\"background-color:rgba(135,206,250,0.17593654);\">lemon</span> <span style=\"background-color:rgba(135,206,250,0.17972678);\">-</span> <span style=\"background-color:rgba(135,206,250,0.18189424);\">lime</span> <span style=\"background-color:rgba(135,206,250,0.24226908);\">and</span> <span style=\"background-color:rgba(135,206,250,0.21371256);\">lime</span> <span style=\"background-color:rgba(135,206,250,0.5717019);\">flavors</span> <span style=\"background-color:rgba(135,206,250,0.41059756);\">are</span> <span style=\"background-color:rgba(135,206,250,0.33673647);\">accented</span>"
            ],
            "text/plain": [
              "<IPython.core.display.HTML object>"
            ]
          },
          "metadata": {},
          "output_type": "display_data"
        },
        {
          "name": "stdout",
          "output_type": "stream",
          "text": [
            "by:   \t89.69999694824219%\n",
            "with:   \t10.289999961853027%\n",
            "in:   \t0.009999999776482582%\n",
            "this:   \t0.0%\n",
            "on:   \t0.0%\n",
            "--------\n",
            "\n"
          ]
        },
        {
          "data": {
            "text/html": [
              "<span style=\"background-color:rgba(135,206,250,0.2373757);\">wine</span> <span style=\"background-color:rgba(135,206,250,0.35553527);\">review</span> <span style=\"background-color:rgba(135,206,250,0.05459002);\">:</span> <span style=\"background-color:rgba(135,206,250,0.31243095);\">germany</span> <span style=\"background-color:rgba(135,206,250,0.06293858);\">:</span> <span style=\"background-color:rgba(135,206,250,0.24725829);\">mosel</span> <span style=\"background-color:rgba(135,206,250,0.08737304);\">:</span> <span style=\"background-color:rgba(135,206,250,0.23176311);\">riesling</span> <span style=\"background-color:rgba(135,206,250,0.09353173);\">:</span> <span style=\"background-color:rgba(135,206,250,0.1746693);\">waxy</span> <span style=\"background-color:rgba(135,206,250,0.16363898);\">lemon</span> <span style=\"background-color:rgba(135,206,250,0.1123859);\">-</span> <span style=\"background-color:rgba(135,206,250,0.19250332);\">lime</span> <span style=\"background-color:rgba(135,206,250,0.13828);\">and</span> <span style=\"background-color:rgba(135,206,250,0.23350148);\">lime</span> <span style=\"background-color:rgba(135,206,250,0.34558046);\">flavors</span> <span style=\"background-color:rgba(135,206,250,0.2467652);\">are</span> <span style=\"background-color:rgba(135,206,250,1.0);\">accented</span> <span style=\"background-color:rgba(135,206,250,0.36999786);\">by</span>"
            ],
            "text/plain": [
              "<IPython.core.display.HTML object>"
            ]
          },
          "metadata": {},
          "output_type": "display_data"
        },
        {
          "name": "stdout",
          "output_type": "stream",
          "text": [
            "a:   \t67.48999786376953%\n",
            "saffron:   \t10.5%\n",
            "notes:   \t4.349999904632568%\n",
            "hints:   \t3.490000009536743%\n",
            "zesty:   \t2.559999942779541%\n",
            "--------\n",
            "\n"
          ]
        },
        {
          "data": {
            "text/html": [
              "<span style=\"background-color:rgba(135,206,250,0.20140417);\">wine</span> <span style=\"background-color:rgba(135,206,250,0.26806885);\">review</span> <span style=\"background-color:rgba(135,206,250,0.06052768);\">:</span> <span style=\"background-color:rgba(135,206,250,0.38104025);\">germany</span> <span style=\"background-color:rgba(135,206,250,0.031020364);\">:</span> <span style=\"background-color:rgba(135,206,250,0.2665893);\">mosel</span> <span style=\"background-color:rgba(135,206,250,0.06411205);\">:</span> <span style=\"background-color:rgba(135,206,250,0.25923732);\">riesling</span> <span style=\"background-color:rgba(135,206,250,0.08793082);\">:</span> <span style=\"background-color:rgba(135,206,250,0.18878892);\">waxy</span> <span style=\"background-color:rgba(135,206,250,0.14194696);\">lemon</span> <span style=\"background-color:rgba(135,206,250,0.07413929);\">-</span> <span style=\"background-color:rgba(135,206,250,0.17004347);\">lime</span> <span style=\"background-color:rgba(135,206,250,0.093444124);\">and</span> <span style=\"background-color:rgba(135,206,250,0.21673186);\">lime</span> <span style=\"background-color:rgba(135,206,250,0.32813385);\">flavors</span> <span style=\"background-color:rgba(135,206,250,0.37677097);\">are</span> <span style=\"background-color:rgba(135,206,250,1.0);\">accented</span> <span style=\"background-color:rgba(135,206,250,0.8407018);\">by</span> <span style=\"background-color:rgba(135,206,250,0.1997284);\">a</span>"
            ],
            "text/plain": [
              "<IPython.core.display.HTML object>"
            ]
          },
          "metadata": {},
          "output_type": "display_data"
        },
        {
          "name": "stdout",
          "output_type": "stream",
          "text": [
            "streak:   \t47.0099983215332%\n",
            "hint:   \t9.109999656677246%\n",
            "razor:   \t5.940000057220459%\n",
            "crush:   \t5.360000133514404%\n",
            "touch:   \t4.489999771118164%\n",
            "--------\n",
            "\n"
          ]
        },
        {
          "data": {
            "text/html": [
              "<span style=\"background-color:rgba(135,206,250,0.5987424);\">wine</span> <span style=\"background-color:rgba(135,206,250,0.7697086);\">review</span> <span style=\"background-color:rgba(135,206,250,0.23978639);\">:</span> <span style=\"background-color:rgba(135,206,250,0.42803854);\">germany</span> <span style=\"background-color:rgba(135,206,250,0.13318844);\">:</span> <span style=\"background-color:rgba(135,206,250,0.31586137);\">mosel</span> <span style=\"background-color:rgba(135,206,250,0.21980734);\">:</span> <span style=\"background-color:rgba(135,206,250,0.59283555);\">riesling</span> <span style=\"background-color:rgba(135,206,250,0.2736585);\">:</span> <span style=\"background-color:rgba(135,206,250,0.1909253);\">waxy</span> <span style=\"background-color:rgba(135,206,250,0.30954748);\">lemon</span> <span style=\"background-color:rgba(135,206,250,0.11665122);\">-</span> <span style=\"background-color:rgba(135,206,250,0.236533);\">lime</span> <span style=\"background-color:rgba(135,206,250,0.24685416);\">and</span> <span style=\"background-color:rgba(135,206,250,0.28047773);\">lime</span> <span style=\"background-color:rgba(135,206,250,0.6880534);\">flavors</span> <span style=\"background-color:rgba(135,206,250,0.7433739);\">are</span> <span style=\"background-color:rgba(135,206,250,0.930638);\">accented</span> <span style=\"background-color:rgba(135,206,250,1.0);\">by</span> <span style=\"background-color:rgba(135,206,250,0.9835975);\">a</span> <span style=\"background-color:rgba(135,206,250,0.2874442);\">lacy</span>"
            ],
            "text/plain": [
              "<IPython.core.display.HTML object>"
            ]
          },
          "metadata": {},
          "output_type": "display_data"
        },
        {
          "name": "stdout",
          "output_type": "stream",
          "text": [
            "haze:   \t93.94999694824219%\n",
            "sweetness:   \t5.869999885559082%\n",
            "veil:   \t0.07999999821186066%\n",
            "floral:   \t0.019999999552965164%\n",
            ",:   \t0.009999999776482582%\n",
            "--------\n",
            "\n"
          ]
        },
        {
          "data": {
            "text/html": [
              "<span style=\"background-color:rgba(135,206,250,0.36702028);\">wine</span> <span style=\"background-color:rgba(135,206,250,1.0);\">review</span> <span style=\"background-color:rgba(135,206,250,0.1817955);\">:</span> <span style=\"background-color:rgba(135,206,250,0.21591905);\">germany</span> <span style=\"background-color:rgba(135,206,250,0.12184265);\">:</span> <span style=\"background-color:rgba(135,206,250,0.15910013);\">mosel</span> <span style=\"background-color:rgba(135,206,250,0.13843812);\">:</span> <span style=\"background-color:rgba(135,206,250,0.15863778);\">riesling</span> <span style=\"background-color:rgba(135,206,250,0.163491);\">:</span> <span style=\"background-color:rgba(135,206,250,0.06601063);\">waxy</span> <span style=\"background-color:rgba(135,206,250,0.09516962);\">lemon</span> <span style=\"background-color:rgba(135,206,250,0.05613517);\">-</span> <span style=\"background-color:rgba(135,206,250,0.0722618);\">lime</span> <span style=\"background-color:rgba(135,206,250,0.13231406);\">and</span> <span style=\"background-color:rgba(135,206,250,0.089725986);\">lime</span> <span style=\"background-color:rgba(135,206,250,0.15492697);\">flavors</span> <span style=\"background-color:rgba(135,206,250,0.28139052);\">are</span> <span style=\"background-color:rgba(135,206,250,0.4012054);\">accented</span> <span style=\"background-color:rgba(135,206,250,0.7404618);\">by</span> <span style=\"background-color:rgba(135,206,250,0.53672564);\">a</span> <span style=\"background-color:rgba(135,206,250,0.7115236);\">lacy</span> <span style=\"background-color:rgba(135,206,250,0.5809064);\">haze</span>"
            ],
            "text/plain": [
              "<IPython.core.display.HTML object>"
            ]
          },
          "metadata": {},
          "output_type": "display_data"
        },
        {
          "name": "stdout",
          "output_type": "stream",
          "text": [
            "of:   \t100.0%\n",
            ".:   \t0.0%\n",
            "to:   \t0.0%\n",
            ",:   \t0.0%\n",
            "that:   \t0.0%\n",
            "--------\n",
            "\n"
          ]
        },
        {
          "data": {
            "text/html": [
              "<span style=\"background-color:rgba(135,206,250,0.1105699);\">wine</span> <span style=\"background-color:rgba(135,206,250,0.15346898);\">review</span> <span style=\"background-color:rgba(135,206,250,0.046996713);\">:</span> <span style=\"background-color:rgba(135,206,250,0.19885212);\">germany</span> <span style=\"background-color:rgba(135,206,250,0.025201295);\">:</span> <span style=\"background-color:rgba(135,206,250,0.16353598);\">mosel</span> <span style=\"background-color:rgba(135,206,250,0.04235819);\">:</span> <span style=\"background-color:rgba(135,206,250,0.25750652);\">riesling</span> <span style=\"background-color:rgba(135,206,250,0.054116417);\">:</span> <span style=\"background-color:rgba(135,206,250,0.12937157);\">waxy</span> <span style=\"background-color:rgba(135,206,250,0.07389027);\">lemon</span> <span style=\"background-color:rgba(135,206,250,0.043401595);\">-</span> <span style=\"background-color:rgba(135,206,250,0.074542366);\">lime</span> <span style=\"background-color:rgba(135,206,250,0.043514516);\">and</span> <span style=\"background-color:rgba(135,206,250,0.079638034);\">lime</span> <span style=\"background-color:rgba(135,206,250,0.12930821);\">flavors</span> <span style=\"background-color:rgba(135,206,250,0.08182648);\">are</span> <span style=\"background-color:rgba(135,206,250,0.25298187);\">accented</span> <span style=\"background-color:rgba(135,206,250,0.11055905);\">by</span> <span style=\"background-color:rgba(135,206,250,0.1630738);\">a</span> <span style=\"background-color:rgba(135,206,250,0.3031327);\">lacy</span> <span style=\"background-color:rgba(135,206,250,1.0);\">haze</span> <span style=\"background-color:rgba(135,206,250,0.09891549);\">of</span>"
            ],
            "text/plain": [
              "<IPython.core.display.HTML object>"
            ]
          },
          "metadata": {},
          "output_type": "display_data"
        },
        {
          "name": "stdout",
          "output_type": "stream",
          "text": [
            "honey:   \t24.510000228881836%\n",
            "sugar:   \t20.6200008392334%\n",
            "sweetness:   \t9.3100004196167%\n",
            "saffron:   \t6.949999809265137%\n",
            "caramelized:   \t4.03000020980835%\n",
            "--------\n",
            "\n"
          ]
        },
        {
          "data": {
            "text/html": [
              "<span style=\"background-color:rgba(135,206,250,0.30432263);\">wine</span> <span style=\"background-color:rgba(135,206,250,0.7414431);\">review</span> <span style=\"background-color:rgba(135,206,250,0.20709245);\">:</span> <span style=\"background-color:rgba(135,206,250,0.5427744);\">germany</span> <span style=\"background-color:rgba(135,206,250,0.12749796);\">:</span> <span style=\"background-color:rgba(135,206,250,0.16168314);\">mosel</span> <span style=\"background-color:rgba(135,206,250,0.1778505);\">:</span> <span style=\"background-color:rgba(135,206,250,0.21851);\">riesling</span> <span style=\"background-color:rgba(135,206,250,0.19583571);\">:</span> <span style=\"background-color:rgba(135,206,250,0.107056834);\">waxy</span> <span style=\"background-color:rgba(135,206,250,0.116563275);\">lemon</span> <span style=\"background-color:rgba(135,206,250,0.11408624);\">-</span> <span style=\"background-color:rgba(135,206,250,0.111657076);\">lime</span> <span style=\"background-color:rgba(135,206,250,0.17512262);\">and</span> <span style=\"background-color:rgba(135,206,250,0.1232763);\">lime</span> <span style=\"background-color:rgba(135,206,250,0.31090158);\">flavors</span> <span style=\"background-color:rgba(135,206,250,0.4391688);\">are</span> <span style=\"background-color:rgba(135,206,250,0.85101354);\">accented</span> <span style=\"background-color:rgba(135,206,250,0.9581099);\">by</span> <span style=\"background-color:rgba(135,206,250,0.56601006);\">a</span> <span style=\"background-color:rgba(135,206,250,0.5139769);\">lacy</span> <span style=\"background-color:rgba(135,206,250,0.88289255);\">haze</span> <span style=\"background-color:rgba(135,206,250,1.0);\">of</span> <span style=\"background-color:rgba(135,206,250,0.7556293);\">acidity</span>"
            ],
            "text/plain": [
              "<IPython.core.display.HTML object>"
            ]
          },
          "metadata": {},
          "output_type": "display_data"
        },
        {
          "name": "stdout",
          "output_type": "stream",
          "text": [
            "in:   \t59.619998931884766%\n",
            "and:   \t30.530000686645508%\n",
            "on:   \t3.509999990463257%\n",
            ".:   \t2.9700000286102295%\n",
            ",:   \t2.259999990463257%\n",
            "--------\n",
            "\n"
          ]
        },
        {
          "data": {
            "text/html": [
              "<span style=\"background-color:rgba(135,206,250,0.08780427);\">wine</span> <span style=\"background-color:rgba(135,206,250,0.14302637);\">review</span> <span style=\"background-color:rgba(135,206,250,0.07690263);\">:</span> <span style=\"background-color:rgba(135,206,250,0.20610613);\">germany</span> <span style=\"background-color:rgba(135,206,250,0.026596734);\">:</span> <span style=\"background-color:rgba(135,206,250,0.15919554);\">mosel</span> <span style=\"background-color:rgba(135,206,250,0.038176395);\">:</span> <span style=\"background-color:rgba(135,206,250,0.18516573);\">riesling</span> <span style=\"background-color:rgba(135,206,250,0.056846708);\">:</span> <span style=\"background-color:rgba(135,206,250,0.09578377);\">waxy</span> <span style=\"background-color:rgba(135,206,250,0.06170633);\">lemon</span> <span style=\"background-color:rgba(135,206,250,0.03346236);\">-</span> <span style=\"background-color:rgba(135,206,250,0.073529065);\">lime</span> <span style=\"background-color:rgba(135,206,250,0.03370028);\">and</span> <span style=\"background-color:rgba(135,206,250,0.07922681);\">lime</span> <span style=\"background-color:rgba(135,206,250,0.110507004);\">flavors</span> <span style=\"background-color:rgba(135,206,250,0.07698498);\">are</span> <span style=\"background-color:rgba(135,206,250,0.14252071);\">accented</span> <span style=\"background-color:rgba(135,206,250,0.08123151);\">by</span> <span style=\"background-color:rgba(135,206,250,0.09137093);\">a</span> <span style=\"background-color:rgba(135,206,250,0.2085286);\">lacy</span> <span style=\"background-color:rgba(135,206,250,0.29901302);\">haze</span> <span style=\"background-color:rgba(135,206,250,0.31178606);\">of</span> <span style=\"background-color:rgba(135,206,250,1.0);\">acidity</span> <span style=\"background-color:rgba(135,206,250,0.16287722);\">and</span>"
            ],
            "text/plain": [
              "<IPython.core.display.HTML object>"
            ]
          },
          "metadata": {},
          "output_type": "display_data"
        },
        {
          "name": "stdout",
          "output_type": "stream",
          "text": [
            "a:   \t80.37000274658203%\n",
            "minerality:   \t6.039999961853027%\n",
            "sweetness:   \t1.2100000381469727%\n",
            "savory:   \t1.0700000524520874%\n",
            "delicate:   \t1.0299999713897705%\n",
            "--------\n",
            "\n"
          ]
        },
        {
          "data": {
            "text/html": [
              "<span style=\"background-color:rgba(135,206,250,0.16285323);\">wine</span> <span style=\"background-color:rgba(135,206,250,0.22736485);\">review</span> <span style=\"background-color:rgba(135,206,250,0.101563804);\">:</span> <span style=\"background-color:rgba(135,206,250,0.43152153);\">germany</span> <span style=\"background-color:rgba(135,206,250,0.029800145);\">:</span> <span style=\"background-color:rgba(135,206,250,0.27897054);\">mosel</span> <span style=\"background-color:rgba(135,206,250,0.06257754);\">:</span> <span style=\"background-color:rgba(135,206,250,0.2972195);\">riesling</span> <span style=\"background-color:rgba(135,206,250,0.088651255);\">:</span> <span style=\"background-color:rgba(135,206,250,0.16421023);\">waxy</span> <span style=\"background-color:rgba(135,206,250,0.11522717);\">lemon</span> <span style=\"background-color:rgba(135,206,250,0.054209583);\">-</span> <span style=\"background-color:rgba(135,206,250,0.13377745);\">lime</span> <span style=\"background-color:rgba(135,206,250,0.05431616);\">and</span> <span style=\"background-color:rgba(135,206,250,0.14317864);\">lime</span> <span style=\"background-color:rgba(135,206,250,0.19009487);\">flavors</span> <span style=\"background-color:rgba(135,206,250,0.12755676);\">are</span> <span style=\"background-color:rgba(135,206,250,0.25016537);\">accented</span> <span style=\"background-color:rgba(135,206,250,0.17334381);\">by</span> <span style=\"background-color:rgba(135,206,250,0.06593367);\">a</span> <span style=\"background-color:rgba(135,206,250,0.37104645);\">lacy</span> <span style=\"background-color:rgba(135,206,250,0.71737534);\">haze</span> <span style=\"background-color:rgba(135,206,250,0.4041911);\">of</span> <span style=\"background-color:rgba(135,206,250,1.0);\">acidity</span> <span style=\"background-color:rgba(135,206,250,0.7592979);\">and</span> <span style=\"background-color:rgba(135,206,250,0.36448434);\">a</span>"
            ],
            "text/plain": [
              "<IPython.core.display.HTML object>"
            ]
          },
          "metadata": {},
          "output_type": "display_data"
        },
        {
          "name": "stdout",
          "output_type": "stream",
          "text": [
            "crush:   \t19.40999984741211%\n",
            "hint:   \t9.359999656677246%\n",
            "lacy:   \t6.940000057220459%\n",
            "slightly:   \t6.090000152587891%\n",
            "whisper:   \t5.340000152587891%\n",
            "--------\n",
            "\n"
          ]
        },
        {
          "data": {
            "text/html": [
              "<span style=\"background-color:rgba(135,206,250,0.33262396);\">wine</span> <span style=\"background-color:rgba(135,206,250,0.7686007);\">review</span> <span style=\"background-color:rgba(135,206,250,0.46628517);\">:</span> <span style=\"background-color:rgba(135,206,250,0.50649273);\">germany</span> <span style=\"background-color:rgba(135,206,250,0.14343058);\">:</span> <span style=\"background-color:rgba(135,206,250,0.20314522);\">mosel</span> <span style=\"background-color:rgba(135,206,250,0.17067271);\">:</span> <span style=\"background-color:rgba(135,206,250,0.21302569);\">riesling</span> <span style=\"background-color:rgba(135,206,250,0.17681915);\">:</span> <span style=\"background-color:rgba(135,206,250,0.07222932);\">waxy</span> <span style=\"background-color:rgba(135,206,250,0.07503357);\">lemon</span> <span style=\"background-color:rgba(135,206,250,0.061159264);\">-</span> <span style=\"background-color:rgba(135,206,250,0.060055874);\">lime</span> <span style=\"background-color:rgba(135,206,250,0.14394759);\">and</span> <span style=\"background-color:rgba(135,206,250,0.062365096);\">lime</span> <span style=\"background-color:rgba(135,206,250,0.13142516);\">flavors</span> <span style=\"background-color:rgba(135,206,250,0.19311468);\">are</span> <span style=\"background-color:rgba(135,206,250,0.29160434);\">accented</span> <span style=\"background-color:rgba(135,206,250,0.42013052);\">by</span> <span style=\"background-color:rgba(135,206,250,0.15667622);\">a</span> <span style=\"background-color:rgba(135,206,250,0.25367522);\">lacy</span> <span style=\"background-color:rgba(135,206,250,0.19562696);\">haze</span> <span style=\"background-color:rgba(135,206,250,0.40514702);\">of</span> <span style=\"background-color:rgba(135,206,250,0.7165874);\">acidity</span> <span style=\"background-color:rgba(135,206,250,1.0);\">and</span> <span style=\"background-color:rgba(135,206,250,0.91940725);\">a</span> <span style=\"background-color:rgba(135,206,250,0.58992946);\">hint</span>"
            ],
            "text/plain": [
              "<IPython.core.display.HTML object>"
            ]
          },
          "metadata": {},
          "output_type": "display_data"
        },
        {
          "name": "stdout",
          "output_type": "stream",
          "text": [
            "of:   \t100.0%\n",
            "that:   \t0.0%\n",
            ".:   \t0.0%\n",
            "in:   \t0.0%\n",
            "to:   \t0.0%\n",
            "--------\n",
            "\n"
          ]
        },
        {
          "data": {
            "text/html": [
              "<span style=\"background-color:rgba(135,206,250,0.15077409);\">wine</span> <span style=\"background-color:rgba(135,206,250,0.21022475);\">review</span> <span style=\"background-color:rgba(135,206,250,0.11605404);\">:</span> <span style=\"background-color:rgba(135,206,250,0.35685065);\">germany</span> <span style=\"background-color:rgba(135,206,250,0.03873545);\">:</span> <span style=\"background-color:rgba(135,206,250,0.2838755);\">mosel</span> <span style=\"background-color:rgba(135,206,250,0.06545268);\">:</span> <span style=\"background-color:rgba(135,206,250,0.44365513);\">riesling</span> <span style=\"background-color:rgba(135,206,250,0.08614359);\">:</span> <span style=\"background-color:rgba(135,206,250,0.19430202);\">waxy</span> <span style=\"background-color:rgba(135,206,250,0.105392784);\">lemon</span> <span style=\"background-color:rgba(135,206,250,0.056499578);\">-</span> <span style=\"background-color:rgba(135,206,250,0.10708374);\">lime</span> <span style=\"background-color:rgba(135,206,250,0.058472436);\">and</span> <span style=\"background-color:rgba(135,206,250,0.110041074);\">lime</span> <span style=\"background-color:rgba(135,206,250,0.14525409);\">flavors</span> <span style=\"background-color:rgba(135,206,250,0.07693162);\">are</span> <span style=\"background-color:rgba(135,206,250,0.16609365);\">accented</span> <span style=\"background-color:rgba(135,206,250,0.08272881);\">by</span> <span style=\"background-color:rgba(135,206,250,0.10739653);\">a</span> <span style=\"background-color:rgba(135,206,250,0.25811803);\">lacy</span> <span style=\"background-color:rgba(135,206,250,0.4197658);\">haze</span> <span style=\"background-color:rgba(135,206,250,0.07247431);\">of</span> <span style=\"background-color:rgba(135,206,250,0.55709624);\">acidity</span> <span style=\"background-color:rgba(135,206,250,0.2583293);\">and</span> <span style=\"background-color:rgba(135,206,250,0.66192085);\">a</span> <span style=\"background-color:rgba(135,206,250,1.0);\">hint</span> <span style=\"background-color:rgba(135,206,250,0.27757898);\">of</span>"
            ],
            "text/plain": [
              "<IPython.core.display.HTML object>"
            ]
          },
          "metadata": {},
          "output_type": "display_data"
        },
        {
          "name": "stdout",
          "output_type": "stream",
          "text": [
            "sweetness:   \t40.77000045776367%\n",
            "honey:   \t37.75%\n",
            "saffron:   \t6.679999828338623%\n",
            "petrol:   \t3.0%\n",
            "minerality:   \t1.3899999856948853%\n",
            "--------\n",
            "\n"
          ]
        },
        {
          "data": {
            "text/html": [
              "<span style=\"background-color:rgba(135,206,250,0.21319455);\">wine</span> <span style=\"background-color:rgba(135,206,250,0.6618413);\">review</span> <span style=\"background-color:rgba(135,206,250,0.20319948);\">:</span> <span style=\"background-color:rgba(135,206,250,0.37130862);\">germany</span> <span style=\"background-color:rgba(135,206,250,0.09359175);\">:</span> <span style=\"background-color:rgba(135,206,250,0.10834045);\">mosel</span> <span style=\"background-color:rgba(135,206,250,0.12629248);\">:</span> <span style=\"background-color:rgba(135,206,250,0.105870925);\">riesling</span> <span style=\"background-color:rgba(135,206,250,0.12969214);\">:</span> <span style=\"background-color:rgba(135,206,250,0.046807982);\">waxy</span> <span style=\"background-color:rgba(135,206,250,0.07097223);\">lemon</span> <span style=\"background-color:rgba(135,206,250,0.07545386);\">-</span> <span style=\"background-color:rgba(135,206,250,0.060902778);\">lime</span> <span style=\"background-color:rgba(135,206,250,0.09663704);\">and</span> <span style=\"background-color:rgba(135,206,250,0.061977893);\">lime</span> <span style=\"background-color:rgba(135,206,250,0.1835397);\">flavors</span> <span style=\"background-color:rgba(135,206,250,0.20861606);\">are</span> <span style=\"background-color:rgba(135,206,250,0.45632905);\">accented</span> <span style=\"background-color:rgba(135,206,250,0.42571208);\">by</span> <span style=\"background-color:rgba(135,206,250,0.19527386);\">a</span> <span style=\"background-color:rgba(135,206,250,0.111993216);\">lacy</span> <span style=\"background-color:rgba(135,206,250,0.28462586);\">haze</span> <span style=\"background-color:rgba(135,206,250,0.2883174);\">of</span> <span style=\"background-color:rgba(135,206,250,0.31334728);\">acidity</span> <span style=\"background-color:rgba(135,206,250,0.6054344);\">and</span> <span style=\"background-color:rgba(135,206,250,0.9420007);\">a</span> <span style=\"background-color:rgba(135,206,250,0.8053586);\">hint</span> <span style=\"background-color:rgba(135,206,250,1.0);\">of</span> <span style=\"background-color:rgba(135,206,250,0.5471978);\">sweetness</span>"
            ],
            "text/plain": [
              "<IPython.core.display.HTML object>"
            ]
          },
          "metadata": {},
          "output_type": "display_data"
        },
        {
          "name": "stdout",
          "output_type": "stream",
          "text": [
            "in:   \t70.0%\n",
            ".:   \t14.050000190734863%\n",
            "on:   \t7.980000019073486%\n",
            ",:   \t5.340000152587891%\n",
            "from:   \t1.0800000429153442%\n",
            "--------\n",
            "\n"
          ]
        },
        {
          "data": {
            "text/html": [
              "<span style=\"background-color:rgba(135,206,250,0.09506004);\">wine</span> <span style=\"background-color:rgba(135,206,250,0.21068804);\">review</span> <span style=\"background-color:rgba(135,206,250,0.10663601);\">:</span> <span style=\"background-color:rgba(135,206,250,0.33985367);\">germany</span> <span style=\"background-color:rgba(135,206,250,0.026454354);\">:</span> <span style=\"background-color:rgba(135,206,250,0.16378994);\">mosel</span> <span style=\"background-color:rgba(135,206,250,0.051690172);\">:</span> <span style=\"background-color:rgba(135,206,250,0.30156046);\">riesling</span> <span style=\"background-color:rgba(135,206,250,0.079153284);\">:</span> <span style=\"background-color:rgba(135,206,250,0.101107545);\">waxy</span> <span style=\"background-color:rgba(135,206,250,0.07472381);\">lemon</span> <span style=\"background-color:rgba(135,206,250,0.033872448);\">-</span> <span style=\"background-color:rgba(135,206,250,0.08753629);\">lime</span> <span style=\"background-color:rgba(135,206,250,0.053424187);\">and</span> <span style=\"background-color:rgba(135,206,250,0.0871516);\">lime</span> <span style=\"background-color:rgba(135,206,250,0.10970958);\">flavors</span> <span style=\"background-color:rgba(135,206,250,0.12999348);\">are</span> <span style=\"background-color:rgba(135,206,250,0.12920932);\">accented</span> <span style=\"background-color:rgba(135,206,250,0.1277988);\">by</span> <span style=\"background-color:rgba(135,206,250,0.051096044);\">a</span> <span style=\"background-color:rgba(135,206,250,0.15922807);\">lacy</span> <span style=\"background-color:rgba(135,206,250,0.16859871);\">haze</span> <span style=\"background-color:rgba(135,206,250,0.100776136);\">of</span> <span style=\"background-color:rgba(135,206,250,0.28188434);\">acidity</span> <span style=\"background-color:rgba(135,206,250,0.26015374);\">and</span> <span style=\"background-color:rgba(135,206,250,0.29839867);\">a</span> <span style=\"background-color:rgba(135,206,250,0.7857331);\">hint</span> <span style=\"background-color:rgba(135,206,250,0.49209446);\">of</span> <span style=\"background-color:rgba(135,206,250,1.0);\">sweetness</span> <span style=\"background-color:rgba(135,206,250,0.4677479);\">,</span>"
            ],
            "text/plain": [
              "<IPython.core.display.HTML object>"
            ]
          },
          "metadata": {},
          "output_type": "display_data"
        },
        {
          "name": "stdout",
          "output_type": "stream",
          "text": [
            "this:   \t84.56999969482422%\n",
            "but:   \t11.050000190734863%\n",
            "and:   \t1.3700000047683716%\n",
            "the:   \t0.6399999856948853%\n",
            "which:   \t0.6000000238418579%\n",
            "--------\n",
            "\n"
          ]
        },
        {
          "data": {
            "text/html": [
              "<span style=\"background-color:rgba(135,206,250,0.08417478);\">wine</span> <span style=\"background-color:rgba(135,206,250,0.11564686);\">review</span> <span style=\"background-color:rgba(135,206,250,0.17717911);\">:</span> <span style=\"background-color:rgba(135,206,250,0.35139027);\">germany</span> <span style=\"background-color:rgba(135,206,250,0.024923772);\">:</span> <span style=\"background-color:rgba(135,206,250,0.1643648);\">mosel</span> <span style=\"background-color:rgba(135,206,250,0.048089907);\">:</span> <span style=\"background-color:rgba(135,206,250,0.25729212);\">riesling</span> <span style=\"background-color:rgba(135,206,250,0.06556895);\">:</span> <span style=\"background-color:rgba(135,206,250,0.08021794);\">waxy</span> <span style=\"background-color:rgba(135,206,250,0.055349227);\">lemon</span> <span style=\"background-color:rgba(135,206,250,0.04333103);\">-</span> <span style=\"background-color:rgba(135,206,250,0.051018916);\">lime</span> <span style=\"background-color:rgba(135,206,250,0.03327916);\">and</span> <span style=\"background-color:rgba(135,206,250,0.050524145);\">lime</span> <span style=\"background-color:rgba(135,206,250,0.08852329);\">flavors</span> <span style=\"background-color:rgba(135,206,250,0.042368688);\">are</span> <span style=\"background-color:rgba(135,206,250,0.05473513);\">accented</span> <span style=\"background-color:rgba(135,206,250,0.03546479);\">by</span> <span style=\"background-color:rgba(135,206,250,0.032992985);\">a</span> <span style=\"background-color:rgba(135,206,250,0.10964714);\">lacy</span> <span style=\"background-color:rgba(135,206,250,0.13257726);\">haze</span> <span style=\"background-color:rgba(135,206,250,0.044383463);\">of</span> <span style=\"background-color:rgba(135,206,250,0.08841988);\">acidity</span> <span style=\"background-color:rgba(135,206,250,0.065789044);\">and</span> <span style=\"background-color:rgba(135,206,250,0.09494265);\">a</span> <span style=\"background-color:rgba(135,206,250,0.17295526);\">hint</span> <span style=\"background-color:rgba(135,206,250,0.23383169);\">of</span> <span style=\"background-color:rgba(135,206,250,0.3099922);\">sweetness</span> <span style=\"background-color:rgba(135,206,250,1.0);\">,</span> <span style=\"background-color:rgba(135,206,250,0.27616817);\">this</span>"
            ],
            "text/plain": [
              "<IPython.core.display.HTML object>"
            ]
          },
          "metadata": {},
          "output_type": "display_data"
        },
        {
          "name": "stdout",
          "output_type": "stream",
          "text": [
            "is:   \t63.0099983215332%\n",
            "wine:   \t15.510000228881836%\n",
            "off:   \t12.010000228881836%\n",
            "dry:   \t6.949999809265137%\n",
            "riesling:   \t0.47999998927116394%\n",
            "--------\n",
            "\n"
          ]
        },
        {
          "data": {
            "text/html": [
              "<span style=\"background-color:rgba(135,206,250,0.11770129);\">wine</span> <span style=\"background-color:rgba(135,206,250,0.18835059);\">review</span> <span style=\"background-color:rgba(135,206,250,0.12363538);\">:</span> <span style=\"background-color:rgba(135,206,250,0.13942024);\">germany</span> <span style=\"background-color:rgba(135,206,250,0.042380963);\">:</span> <span style=\"background-color:rgba(135,206,250,0.090713374);\">mosel</span> <span style=\"background-color:rgba(135,206,250,0.04267006);\">:</span> <span style=\"background-color:rgba(135,206,250,0.118566014);\">riesling</span> <span style=\"background-color:rgba(135,206,250,0.05828614);\">:</span> <span style=\"background-color:rgba(135,206,250,0.043781117);\">waxy</span> <span style=\"background-color:rgba(135,206,250,0.035146724);\">lemon</span> <span style=\"background-color:rgba(135,206,250,0.028629119);\">-</span> <span style=\"background-color:rgba(135,206,250,0.041939687);\">lime</span> <span style=\"background-color:rgba(135,206,250,0.056493584);\">and</span> <span style=\"background-color:rgba(135,206,250,0.04319435);\">lime</span> <span style=\"background-color:rgba(135,206,250,0.064897425);\">flavors</span> <span style=\"background-color:rgba(135,206,250,0.043999095);\">are</span> <span style=\"background-color:rgba(135,206,250,0.0629348);\">accented</span> <span style=\"background-color:rgba(135,206,250,0.055813637);\">by</span> <span style=\"background-color:rgba(135,206,250,0.04940754);\">a</span> <span style=\"background-color:rgba(135,206,250,0.05424922);\">lacy</span> <span style=\"background-color:rgba(135,206,250,0.06900385);\">haze</span> <span style=\"background-color:rgba(135,206,250,0.05800732);\">of</span> <span style=\"background-color:rgba(135,206,250,0.08806187);\">acidity</span> <span style=\"background-color:rgba(135,206,250,0.1028642);\">and</span> <span style=\"background-color:rgba(135,206,250,0.1189435);\">a</span> <span style=\"background-color:rgba(135,206,250,0.19375165);\">hint</span> <span style=\"background-color:rgba(135,206,250,0.18884684);\">of</span> <span style=\"background-color:rgba(135,206,250,0.24559824);\">sweetness</span> <span style=\"background-color:rgba(135,206,250,0.45564777);\">,</span> <span style=\"background-color:rgba(135,206,250,1.0);\">this</span> <span style=\"background-color:rgba(135,206,250,0.15100788);\">off</span>"
            ],
            "text/plain": [
              "<IPython.core.display.HTML object>"
            ]
          },
          "metadata": {},
          "output_type": "display_data"
        },
        {
          "name": "stdout",
          "output_type": "stream",
          "text": [
            "-:   \t100.0%\n",
            "dry:   \t0.0%\n",
            ",:   \t0.0%\n",
            "to:   \t0.0%\n",
            "a:   \t0.0%\n",
            "--------\n",
            "\n"
          ]
        },
        {
          "data": {
            "text/html": [
              "<span style=\"background-color:rgba(135,206,250,0.084206805);\">wine</span> <span style=\"background-color:rgba(135,206,250,0.11984419);\">review</span> <span style=\"background-color:rgba(135,206,250,0.04407817);\">:</span> <span style=\"background-color:rgba(135,206,250,0.17900369);\">germany</span> <span style=\"background-color:rgba(135,206,250,0.031359434);\">:</span> <span style=\"background-color:rgba(135,206,250,0.115965374);\">mosel</span> <span style=\"background-color:rgba(135,206,250,0.02865932);\">:</span> <span style=\"background-color:rgba(135,206,250,0.17009889);\">riesling</span> <span style=\"background-color:rgba(135,206,250,0.044485573);\">:</span> <span style=\"background-color:rgba(135,206,250,0.041534115);\">waxy</span> <span style=\"background-color:rgba(135,206,250,0.024440361);\">lemon</span> <span style=\"background-color:rgba(135,206,250,0.017074397);\">-</span> <span style=\"background-color:rgba(135,206,250,0.028299054);\">lime</span> <span style=\"background-color:rgba(135,206,250,0.028739104);\">and</span> <span style=\"background-color:rgba(135,206,250,0.03063135);\">lime</span> <span style=\"background-color:rgba(135,206,250,0.050643675);\">flavors</span> <span style=\"background-color:rgba(135,206,250,0.033315305);\">are</span> <span style=\"background-color:rgba(135,206,250,0.043152258);\">accented</span> <span style=\"background-color:rgba(135,206,250,0.03123858);\">by</span> <span style=\"background-color:rgba(135,206,250,0.02609666);\">a</span> <span style=\"background-color:rgba(135,206,250,0.05174161);\">lacy</span> <span style=\"background-color:rgba(135,206,250,0.07534105);\">haze</span> <span style=\"background-color:rgba(135,206,250,0.029954934);\">of</span> <span style=\"background-color:rgba(135,206,250,0.045397777);\">acidity</span> <span style=\"background-color:rgba(135,206,250,0.048155077);\">and</span> <span style=\"background-color:rgba(135,206,250,0.047554772);\">a</span> <span style=\"background-color:rgba(135,206,250,0.074774005);\">hint</span> <span style=\"background-color:rgba(135,206,250,0.086575024);\">of</span> <span style=\"background-color:rgba(135,206,250,0.16176854);\">sweetness</span> <span style=\"background-color:rgba(135,206,250,0.20226526);\">,</span> <span style=\"background-color:rgba(135,206,250,0.436911);\">this</span> <span style=\"background-color:rgba(135,206,250,1.0);\">off</span> <span style=\"background-color:rgba(135,206,250,0.059947196);\">-</span>"
            ],
            "text/plain": [
              "<IPython.core.display.HTML object>"
            ]
          },
          "metadata": {},
          "output_type": "display_data"
        },
        {
          "name": "stdout",
          "output_type": "stream",
          "text": [
            "dry:   \t100.0%\n",
            "sweet:   \t0.0%\n",
            "smackingly:   \t0.0%\n",
            "[UNK]:   \t0.0%\n",
            "dryness:   \t0.0%\n",
            "--------\n",
            "\n"
          ]
        },
        {
          "data": {
            "text/html": [
              "<span style=\"background-color:rgba(135,206,250,0.09383346);\">wine</span> <span style=\"background-color:rgba(135,206,250,0.18206352);\">review</span> <span style=\"background-color:rgba(135,206,250,0.06958207);\">:</span> <span style=\"background-color:rgba(135,206,250,0.37332487);\">germany</span> <span style=\"background-color:rgba(135,206,250,0.018079603);\">:</span> <span style=\"background-color:rgba(135,206,250,0.17750132);\">mosel</span> <span style=\"background-color:rgba(135,206,250,0.047409933);\">:</span> <span style=\"background-color:rgba(135,206,250,0.373717);\">riesling</span> <span style=\"background-color:rgba(135,206,250,0.06543114);\">:</span> <span style=\"background-color:rgba(135,206,250,0.0723972);\">waxy</span> <span style=\"background-color:rgba(135,206,250,0.06659093);\">lemon</span> <span style=\"background-color:rgba(135,206,250,0.016452901);\">-</span> <span style=\"background-color:rgba(135,206,250,0.046776097);\">lime</span> <span style=\"background-color:rgba(135,206,250,0.037574694);\">and</span> <span style=\"background-color:rgba(135,206,250,0.04549408);\">lime</span> <span style=\"background-color:rgba(135,206,250,0.080101304);\">flavors</span> <span style=\"background-color:rgba(135,206,250,0.050398465);\">are</span> <span style=\"background-color:rgba(135,206,250,0.0682334);\">accented</span> <span style=\"background-color:rgba(135,206,250,0.04679685);\">by</span> <span style=\"background-color:rgba(135,206,250,0.026671138);\">a</span> <span style=\"background-color:rgba(135,206,250,0.09152193);\">lacy</span> <span style=\"background-color:rgba(135,206,250,0.12942466);\">haze</span> <span style=\"background-color:rgba(135,206,250,0.05708355);\">of</span> <span style=\"background-color:rgba(135,206,250,0.15612042);\">acidity</span> <span style=\"background-color:rgba(135,206,250,0.07648519);\">and</span> <span style=\"background-color:rgba(135,206,250,0.13182287);\">a</span> <span style=\"background-color:rgba(135,206,250,0.1928417);\">hint</span> <span style=\"background-color:rgba(135,206,250,0.2663183);\">of</span> <span style=\"background-color:rgba(135,206,250,0.3460604);\">sweetness</span> <span style=\"background-color:rgba(135,206,250,0.33748555);\">,</span> <span style=\"background-color:rgba(135,206,250,1.0);\">this</span> <span style=\"background-color:rgba(135,206,250,0.3460755);\">off</span> <span style=\"background-color:rgba(135,206,250,0.2629888);\">-</span> <span style=\"background-color:rgba(135,206,250,0.34098908);\">dry</span>"
            ],
            "text/plain": [
              "<IPython.core.display.HTML object>"
            ]
          },
          "metadata": {},
          "output_type": "display_data"
        },
        {
          "name": "stdout",
          "output_type": "stream",
          "text": [
            "riesling:   \t94.38999938964844%\n",
            "wine:   \t3.190000057220459%\n",
            ",:   \t1.8600000143051147%\n",
            "-:   \t0.3700000047683716%\n",
            "spätlese:   \t0.10999999940395355%\n",
            "--------\n",
            "\n"
          ]
        },
        {
          "data": {
            "text/html": [
              "<span style=\"background-color:rgba(135,206,250,0.22397706);\">wine</span> <span style=\"background-color:rgba(135,206,250,0.56370115);\">review</span> <span style=\"background-color:rgba(135,206,250,0.3200144);\">:</span> <span style=\"background-color:rgba(135,206,250,0.3816712);\">germany</span> <span style=\"background-color:rgba(135,206,250,0.112190776);\">:</span> <span style=\"background-color:rgba(135,206,250,0.13993251);\">mosel</span> <span style=\"background-color:rgba(135,206,250,0.15359308);\">:</span> <span style=\"background-color:rgba(135,206,250,0.16227832);\">riesling</span> <span style=\"background-color:rgba(135,206,250,0.16290854);\">:</span> <span style=\"background-color:rgba(135,206,250,0.07676791);\">waxy</span> <span style=\"background-color:rgba(135,206,250,0.09945854);\">lemon</span> <span style=\"background-color:rgba(135,206,250,0.111640476);\">-</span> <span style=\"background-color:rgba(135,206,250,0.07420133);\">lime</span> <span style=\"background-color:rgba(135,206,250,0.09098369);\">and</span> <span style=\"background-color:rgba(135,206,250,0.072884016);\">lime</span> <span style=\"background-color:rgba(135,206,250,0.20099553);\">flavors</span> <span style=\"background-color:rgba(135,206,250,0.15557241);\">are</span> <span style=\"background-color:rgba(135,206,250,0.23019516);\">accented</span> <span style=\"background-color:rgba(135,206,250,0.21876131);\">by</span> <span style=\"background-color:rgba(135,206,250,0.20050454);\">a</span> <span style=\"background-color:rgba(135,206,250,0.06768105);\">lacy</span> <span style=\"background-color:rgba(135,206,250,0.23891456);\">haze</span> <span style=\"background-color:rgba(135,206,250,0.13772248);\">of</span> <span style=\"background-color:rgba(135,206,250,0.21377052);\">acidity</span> <span style=\"background-color:rgba(135,206,250,0.2009609);\">and</span> <span style=\"background-color:rgba(135,206,250,0.42009506);\">a</span> <span style=\"background-color:rgba(135,206,250,0.44281957);\">hint</span> <span style=\"background-color:rgba(135,206,250,0.33640695);\">of</span> <span style=\"background-color:rgba(135,206,250,0.424827);\">sweetness</span> <span style=\"background-color:rgba(135,206,250,0.559351);\">,</span> <span style=\"background-color:rgba(135,206,250,1.0);\">this</span> <span style=\"background-color:rgba(135,206,250,0.28249216);\">off</span> <span style=\"background-color:rgba(135,206,250,0.36454555);\">-</span> <span style=\"background-color:rgba(135,206,250,0.6607704);\">dry</span> <span style=\"background-color:rgba(135,206,250,0.45229617);\">riesling</span>"
            ],
            "text/plain": [
              "<IPython.core.display.HTML object>"
            ]
          },
          "metadata": {},
          "output_type": "display_data"
        },
        {
          "name": "stdout",
          "output_type": "stream",
          "text": [
            ".:   \t99.83000183105469%\n",
            "is:   \t0.10999999940395355%\n",
            "that:   \t0.029999999329447746%\n",
            ",:   \t0.019999999552965164%\n",
            "from:   \t0.009999999776482582%\n",
            "--------\n",
            "\n"
          ]
        },
        {
          "data": {
            "text/html": [
              "<span style=\"background-color:rgba(135,206,250,0.32461032);\">wine</span> <span style=\"background-color:rgba(135,206,250,0.6287594);\">review</span> <span style=\"background-color:rgba(135,206,250,0.5749938);\">:</span> <span style=\"background-color:rgba(135,206,250,1.0);\">germany</span> <span style=\"background-color:rgba(135,206,250,0.27334437);\">:</span> <span style=\"background-color:rgba(135,206,250,0.34045413);\">mosel</span> <span style=\"background-color:rgba(135,206,250,0.2998911);\">:</span> <span style=\"background-color:rgba(135,206,250,0.50713056);\">riesling</span> <span style=\"background-color:rgba(135,206,250,0.18835092);\">:</span> <span style=\"background-color:rgba(135,206,250,0.12320906);\">waxy</span> <span style=\"background-color:rgba(135,206,250,0.117042534);\">lemon</span> <span style=\"background-color:rgba(135,206,250,0.0769969);\">-</span> <span style=\"background-color:rgba(135,206,250,0.120852955);\">lime</span> <span style=\"background-color:rgba(135,206,250,0.072190806);\">and</span> <span style=\"background-color:rgba(135,206,250,0.11837237);\">lime</span> <span style=\"background-color:rgba(135,206,250,0.23697728);\">flavors</span> <span style=\"background-color:rgba(135,206,250,0.1248384);\">are</span> <span style=\"background-color:rgba(135,206,250,0.10303972);\">accented</span> <span style=\"background-color:rgba(135,206,250,0.098674364);\">by</span> <span style=\"background-color:rgba(135,206,250,0.062751055);\">a</span> <span style=\"background-color:rgba(135,206,250,0.17109765);\">lacy</span> <span style=\"background-color:rgba(135,206,250,0.22786313);\">haze</span> <span style=\"background-color:rgba(135,206,250,0.06126862);\">of</span> <span style=\"background-color:rgba(135,206,250,0.19122766);\">acidity</span> <span style=\"background-color:rgba(135,206,250,0.10152409);\">and</span> <span style=\"background-color:rgba(135,206,250,0.09967894);\">a</span> <span style=\"background-color:rgba(135,206,250,0.14720045);\">hint</span> <span style=\"background-color:rgba(135,206,250,0.09867642);\">of</span> <span style=\"background-color:rgba(135,206,250,0.29717395);\">sweetness</span> <span style=\"background-color:rgba(135,206,250,0.18595394);\">,</span> <span style=\"background-color:rgba(135,206,250,0.38829184);\">this</span> <span style=\"background-color:rgba(135,206,250,0.1575466);\">off</span> <span style=\"background-color:rgba(135,206,250,0.23937322);\">-</span> <span style=\"background-color:rgba(135,206,250,0.3564164);\">dry</span> <span style=\"background-color:rgba(135,206,250,0.5695312);\">riesling</span> <span style=\"background-color:rgba(135,206,250,0.6712509);\">.</span>"
            ],
            "text/plain": [
              "<IPython.core.display.HTML object>"
            ]
          },
          "metadata": {},
          "output_type": "display_data"
        },
        {
          "name": "stdout",
          "output_type": "stream",
          "text": [
            "it:   \t93.41999816894531%\n",
            "the:   \t4.659999847412109%\n",
            ":   \t0.6800000071525574%\n",
            "drink:   \t0.4099999964237213%\n",
            "a:   \t0.1899999976158142%\n",
            "--------\n",
            "\n"
          ]
        },
        {
          "data": {
            "text/html": [
              "<span style=\"background-color:rgba(135,206,250,0.0384013);\">wine</span> <span style=\"background-color:rgba(135,206,250,0.07152819);\">review</span> <span style=\"background-color:rgba(135,206,250,0.041215464);\">:</span> <span style=\"background-color:rgba(135,206,250,0.21554361);\">germany</span> <span style=\"background-color:rgba(135,206,250,0.014356928);\">:</span> <span style=\"background-color:rgba(135,206,250,0.080224924);\">mosel</span> <span style=\"background-color:rgba(135,206,250,0.02320295);\">:</span> <span style=\"background-color:rgba(135,206,250,0.06075777);\">riesling</span> <span style=\"background-color:rgba(135,206,250,0.027869048);\">:</span> <span style=\"background-color:rgba(135,206,250,0.04208666);\">waxy</span> <span style=\"background-color:rgba(135,206,250,0.031017503);\">lemon</span> <span style=\"background-color:rgba(135,206,250,0.014299166);\">-</span> <span style=\"background-color:rgba(135,206,250,0.039870467);\">lime</span> <span style=\"background-color:rgba(135,206,250,0.018583162);\">and</span> <span style=\"background-color:rgba(135,206,250,0.040549148);\">lime</span> <span style=\"background-color:rgba(135,206,250,0.049334243);\">flavors</span> <span style=\"background-color:rgba(135,206,250,0.020893184);\">are</span> <span style=\"background-color:rgba(135,206,250,0.05549498);\">accented</span> <span style=\"background-color:rgba(135,206,250,0.023841592);\">by</span> <span style=\"background-color:rgba(135,206,250,0.017439213);\">a</span> <span style=\"background-color:rgba(135,206,250,0.050907582);\">lacy</span> <span style=\"background-color:rgba(135,206,250,0.098258674);\">haze</span> <span style=\"background-color:rgba(135,206,250,0.018044272);\">of</span> <span style=\"background-color:rgba(135,206,250,0.048141494);\">acidity</span> <span style=\"background-color:rgba(135,206,250,0.022540929);\">and</span> <span style=\"background-color:rgba(135,206,250,0.026959464);\">a</span> <span style=\"background-color:rgba(135,206,250,0.05203632);\">hint</span> <span style=\"background-color:rgba(135,206,250,0.037859857);\">of</span> <span style=\"background-color:rgba(135,206,250,0.08829252);\">sweetness</span> <span style=\"background-color:rgba(135,206,250,0.07919171);\">,</span> <span style=\"background-color:rgba(135,206,250,0.05545685);\">this</span> <span style=\"background-color:rgba(135,206,250,0.04748985);\">off</span> <span style=\"background-color:rgba(135,206,250,0.073056035);\">-</span> <span style=\"background-color:rgba(135,206,250,0.21837087);\">dry</span> <span style=\"background-color:rgba(135,206,250,0.19919337);\">riesling</span> <span style=\"background-color:rgba(135,206,250,1.0);\">.</span> <span style=\"background-color:rgba(135,206,250,0.21554288);\">it</span>"
            ],
            "text/plain": [
              "<IPython.core.display.HTML object>"
            ]
          },
          "metadata": {},
          "output_type": "display_data"
        },
        {
          "name": "stdout",
          "output_type": "stream",
          "text": [
            "':   \t99.7300033569336%\n",
            "finishes:   \t0.25%\n",
            "is:   \t0.019999999552965164%\n",
            "should:   \t0.0%\n",
            "has:   \t0.0%\n",
            "--------\n",
            "\n"
          ]
        },
        {
          "data": {
            "text/html": [
              "<span style=\"background-color:rgba(135,206,250,0.07647815);\">wine</span> <span style=\"background-color:rgba(135,206,250,0.1443875);\">review</span> <span style=\"background-color:rgba(135,206,250,0.049004186);\">:</span> <span style=\"background-color:rgba(135,206,250,0.16865872);\">germany</span> <span style=\"background-color:rgba(135,206,250,0.032730624);\">:</span> <span style=\"background-color:rgba(135,206,250,0.09401507);\">mosel</span> <span style=\"background-color:rgba(135,206,250,0.03760784);\">:</span> <span style=\"background-color:rgba(135,206,250,0.15858126);\">riesling</span> <span style=\"background-color:rgba(135,206,250,0.04452925);\">:</span> <span style=\"background-color:rgba(135,206,250,0.03662768);\">waxy</span> <span style=\"background-color:rgba(135,206,250,0.026909906);\">lemon</span> <span style=\"background-color:rgba(135,206,250,0.014093966);\">-</span> <span style=\"background-color:rgba(135,206,250,0.025309846);\">lime</span> <span style=\"background-color:rgba(135,206,250,0.027557988);\">and</span> <span style=\"background-color:rgba(135,206,250,0.026144763);\">lime</span> <span style=\"background-color:rgba(135,206,250,0.06004596);\">flavors</span> <span style=\"background-color:rgba(135,206,250,0.045136493);\">are</span> <span style=\"background-color:rgba(135,206,250,0.06192901);\">accented</span> <span style=\"background-color:rgba(135,206,250,0.046165854);\">by</span> <span style=\"background-color:rgba(135,206,250,0.01979848);\">a</span> <span style=\"background-color:rgba(135,206,250,0.041796096);\">lacy</span> <span style=\"background-color:rgba(135,206,250,0.070154846);\">haze</span> <span style=\"background-color:rgba(135,206,250,0.03624341);\">of</span> <span style=\"background-color:rgba(135,206,250,0.05770173);\">acidity</span> <span style=\"background-color:rgba(135,206,250,0.04018839);\">and</span> <span style=\"background-color:rgba(135,206,250,0.02785808);\">a</span> <span style=\"background-color:rgba(135,206,250,0.050433498);\">hint</span> <span style=\"background-color:rgba(135,206,250,0.051920943);\">of</span> <span style=\"background-color:rgba(135,206,250,0.08181355);\">sweetness</span> <span style=\"background-color:rgba(135,206,250,0.0726477);\">,</span> <span style=\"background-color:rgba(135,206,250,0.1327771);\">this</span> <span style=\"background-color:rgba(135,206,250,0.10656298);\">off</span> <span style=\"background-color:rgba(135,206,250,0.0574798);\">-</span> <span style=\"background-color:rgba(135,206,250,0.20615233);\">dry</span> <span style=\"background-color:rgba(135,206,250,0.42655897);\">riesling</span> <span style=\"background-color:rgba(135,206,250,0.8066143);\">.</span> <span style=\"background-color:rgba(135,206,250,1.0);\">it</span> <span style=\"background-color:rgba(135,206,250,0.11187879);\">'</span>"
            ],
            "text/plain": [
              "<IPython.core.display.HTML object>"
            ]
          },
          "metadata": {},
          "output_type": "display_data"
        },
        {
          "name": "stdout",
          "output_type": "stream",
          "text": [
            "s:   \t100.0%\n",
            "ll:   \t0.0%\n",
            "[UNK]:   \t0.0%\n",
            "d:   \t0.0%\n",
            "drinks:   \t0.0%\n",
            "--------\n",
            "\n"
          ]
        },
        {
          "data": {
            "text/html": [
              "<span style=\"background-color:rgba(135,206,250,0.075727865);\">wine</span> <span style=\"background-color:rgba(135,206,250,0.11555546);\">review</span> <span style=\"background-color:rgba(135,206,250,0.07085226);\">:</span> <span style=\"background-color:rgba(135,206,250,0.27270526);\">germany</span> <span style=\"background-color:rgba(135,206,250,0.019011544);\">:</span> <span style=\"background-color:rgba(135,206,250,0.18362947);\">mosel</span> <span style=\"background-color:rgba(135,206,250,0.033231065);\">:</span> <span style=\"background-color:rgba(135,206,250,0.22497621);\">riesling</span> <span style=\"background-color:rgba(135,206,250,0.057126388);\">:</span> <span style=\"background-color:rgba(135,206,250,0.08989024);\">waxy</span> <span style=\"background-color:rgba(135,206,250,0.058209598);\">lemon</span> <span style=\"background-color:rgba(135,206,250,0.021344751);\">-</span> <span style=\"background-color:rgba(135,206,250,0.057193384);\">lime</span> <span style=\"background-color:rgba(135,206,250,0.035927493);\">and</span> <span style=\"background-color:rgba(135,206,250,0.0569749);\">lime</span> <span style=\"background-color:rgba(135,206,250,0.07367232);\">flavors</span> <span style=\"background-color:rgba(135,206,250,0.028299144);\">are</span> <span style=\"background-color:rgba(135,206,250,0.041022595);\">accented</span> <span style=\"background-color:rgba(135,206,250,0.035155915);\">by</span> <span style=\"background-color:rgba(135,206,250,0.023008596);\">a</span> <span style=\"background-color:rgba(135,206,250,0.14961985);\">lacy</span> <span style=\"background-color:rgba(135,206,250,0.0970959);\">haze</span> <span style=\"background-color:rgba(135,206,250,0.02747376);\">of</span> <span style=\"background-color:rgba(135,206,250,0.08991663);\">acidity</span> <span style=\"background-color:rgba(135,206,250,0.045992006);\">and</span> <span style=\"background-color:rgba(135,206,250,0.03169605);\">a</span> <span style=\"background-color:rgba(135,206,250,0.07178608);\">hint</span> <span style=\"background-color:rgba(135,206,250,0.049154878);\">of</span> <span style=\"background-color:rgba(135,206,250,0.15221179);\">sweetness</span> <span style=\"background-color:rgba(135,206,250,0.10283809);\">,</span> <span style=\"background-color:rgba(135,206,250,0.10744124);\">this</span> <span style=\"background-color:rgba(135,206,250,0.08611815);\">off</span> <span style=\"background-color:rgba(135,206,250,0.069247045);\">-</span> <span style=\"background-color:rgba(135,206,250,0.3264517);\">dry</span> <span style=\"background-color:rgba(135,206,250,0.35761425);\">riesling</span> <span style=\"background-color:rgba(135,206,250,1.0);\">.</span> <span style=\"background-color:rgba(135,206,250,0.85754204);\">it</span> <span style=\"background-color:rgba(135,206,250,0.11198128);\">'</span> <span style=\"background-color:rgba(135,206,250,0.27055308);\">s</span>"
            ],
            "text/plain": [
              "<IPython.core.display.HTML object>"
            ]
          },
          "metadata": {},
          "output_type": "display_data"
        },
        {
          "name": "stdout",
          "output_type": "stream",
          "text": [
            "a:   \t74.6500015258789%\n",
            "straightforward:   \t3.640000104904175%\n",
            "easy:   \t2.1700000762939453%\n",
            "not:   \t1.9600000381469727%\n",
            "fresh:   \t1.7799999713897705%\n",
            "--------\n",
            "\n"
          ]
        },
        {
          "data": {
            "text/html": [
              "<span style=\"background-color:rgba(135,206,250,0.07227544);\">wine</span> <span style=\"background-color:rgba(135,206,250,0.10929437);\">review</span> <span style=\"background-color:rgba(135,206,250,0.053341974);\">:</span> <span style=\"background-color:rgba(135,206,250,0.39333948);\">germany</span> <span style=\"background-color:rgba(135,206,250,0.018732045);\">:</span> <span style=\"background-color:rgba(135,206,250,0.23524413);\">mosel</span> <span style=\"background-color:rgba(135,206,250,0.03585838);\">:</span> <span style=\"background-color:rgba(135,206,250,0.2694466);\">riesling</span> <span style=\"background-color:rgba(135,206,250,0.05366471);\">:</span> <span style=\"background-color:rgba(135,206,250,0.10879387);\">waxy</span> <span style=\"background-color:rgba(135,206,250,0.06334472);\">lemon</span> <span style=\"background-color:rgba(135,206,250,0.024794977);\">-</span> <span style=\"background-color:rgba(135,206,250,0.0740289);\">lime</span> <span style=\"background-color:rgba(135,206,250,0.02958559);\">and</span> <span style=\"background-color:rgba(135,206,250,0.073517144);\">lime</span> <span style=\"background-color:rgba(135,206,250,0.089678034);\">flavors</span> <span style=\"background-color:rgba(135,206,250,0.038493156);\">are</span> <span style=\"background-color:rgba(135,206,250,0.06421916);\">accented</span> <span style=\"background-color:rgba(135,206,250,0.029556518);\">by</span> <span style=\"background-color:rgba(135,206,250,0.019276738);\">a</span> <span style=\"background-color:rgba(135,206,250,0.17533532);\">lacy</span> <span style=\"background-color:rgba(135,206,250,0.1673102);\">haze</span> <span style=\"background-color:rgba(135,206,250,0.025759453);\">of</span> <span style=\"background-color:rgba(135,206,250,0.09709624);\">acidity</span> <span style=\"background-color:rgba(135,206,250,0.034928553);\">and</span> <span style=\"background-color:rgba(135,206,250,0.024470683);\">a</span> <span style=\"background-color:rgba(135,206,250,0.08845726);\">hint</span> <span style=\"background-color:rgba(135,206,250,0.045923796);\">of</span> <span style=\"background-color:rgba(135,206,250,0.17488001);\">sweetness</span> <span style=\"background-color:rgba(135,206,250,0.0933645);\">,</span> <span style=\"background-color:rgba(135,206,250,0.121701635);\">this</span> <span style=\"background-color:rgba(135,206,250,0.13855632);\">off</span> <span style=\"background-color:rgba(135,206,250,0.10368891);\">-</span> <span style=\"background-color:rgba(135,206,250,0.30520657);\">dry</span> <span style=\"background-color:rgba(135,206,250,0.40784657);\">riesling</span> <span style=\"background-color:rgba(135,206,250,0.882743);\">.</span> <span style=\"background-color:rgba(135,206,250,0.57967865);\">it</span> <span style=\"background-color:rgba(135,206,250,0.14581224);\">'</span> <span style=\"background-color:rgba(135,206,250,1.0);\">s</span> <span style=\"background-color:rgba(135,206,250,0.36812675);\">a</span>"
            ],
            "text/plain": [
              "<IPython.core.display.HTML object>"
            ]
          },
          "metadata": {},
          "output_type": "display_data"
        },
        {
          "name": "stdout",
          "output_type": "stream",
          "text": [
            "straightforward:   \t51.779998779296875%\n",
            "bit:   \t10.1899995803833%\n",
            "deeply:   \t6.789999961853027%\n",
            "refreshing:   \t2.990000009536743%\n",
            "refreshingly:   \t2.940000057220459%\n",
            "--------\n",
            "\n"
          ]
        },
        {
          "data": {
            "text/html": [
              "<span style=\"background-color:rgba(135,206,250,0.037592128);\">wine</span> <span style=\"background-color:rgba(135,206,250,0.084226266);\">review</span> <span style=\"background-color:rgba(135,206,250,0.039078772);\">:</span> <span style=\"background-color:rgba(135,206,250,0.30670187);\">germany</span> <span style=\"background-color:rgba(135,206,250,0.0151984);\">:</span> <span style=\"background-color:rgba(135,206,250,0.13942811);\">mosel</span> <span style=\"background-color:rgba(135,206,250,0.034421932);\">:</span> <span style=\"background-color:rgba(135,206,250,0.35787994);\">riesling</span> <span style=\"background-color:rgba(135,206,250,0.05082698);\">:</span> <span style=\"background-color:rgba(135,206,250,0.051508024);\">waxy</span> <span style=\"background-color:rgba(135,206,250,0.06934728);\">lemon</span> <span style=\"background-color:rgba(135,206,250,0.014456016);\">-</span> <span style=\"background-color:rgba(135,206,250,0.037925247);\">lime</span> <span style=\"background-color:rgba(135,206,250,0.022487849);\">and</span> <span style=\"background-color:rgba(135,206,250,0.036078554);\">lime</span> <span style=\"background-color:rgba(135,206,250,0.085862264);\">flavors</span> <span style=\"background-color:rgba(135,206,250,0.0435068);\">are</span> <span style=\"background-color:rgba(135,206,250,0.04716262);\">accented</span> <span style=\"background-color:rgba(135,206,250,0.036888123);\">by</span> <span style=\"background-color:rgba(135,206,250,0.015543978);\">a</span> <span style=\"background-color:rgba(135,206,250,0.06033179);\">lacy</span> <span style=\"background-color:rgba(135,206,250,0.07030295);\">haze</span> <span style=\"background-color:rgba(135,206,250,0.024080118);\">of</span> <span style=\"background-color:rgba(135,206,250,0.08027383);\">acidity</span> <span style=\"background-color:rgba(135,206,250,0.030582957);\">and</span> <span style=\"background-color:rgba(135,206,250,0.0259569);\">a</span> <span style=\"background-color:rgba(135,206,250,0.039752156);\">hint</span> <span style=\"background-color:rgba(135,206,250,0.042059876);\">of</span> <span style=\"background-color:rgba(135,206,250,0.11553214);\">sweetness</span> <span style=\"background-color:rgba(135,206,250,0.062168833);\">,</span> <span style=\"background-color:rgba(135,206,250,0.12545575);\">this</span> <span style=\"background-color:rgba(135,206,250,0.062439207);\">off</span> <span style=\"background-color:rgba(135,206,250,0.03366819);\">-</span> <span style=\"background-color:rgba(135,206,250,0.09719077);\">dry</span> <span style=\"background-color:rgba(135,206,250,0.33646882);\">riesling</span> <span style=\"background-color:rgba(135,206,250,0.7292278);\">.</span> <span style=\"background-color:rgba(135,206,250,0.48269108);\">it</span> <span style=\"background-color:rgba(135,206,250,0.11169545);\">'</span> <span style=\"background-color:rgba(135,206,250,0.60099393);\">s</span> <span style=\"background-color:rgba(135,206,250,1.0);\">a</span> <span style=\"background-color:rgba(135,206,250,0.26759717);\">straightforward</span>"
            ],
            "text/plain": [
              "<IPython.core.display.HTML object>"
            ]
          },
          "metadata": {},
          "output_type": "display_data"
        },
        {
          "name": "stdout",
          "output_type": "stream",
          "text": [
            ",:   \t63.47999954223633%\n",
            "wine:   \t22.530000686645508%\n",
            "quaffer:   \t9.760000228881836%\n",
            "yet:   \t2.119999885559082%\n",
            "and:   \t0.9300000071525574%\n",
            "--------\n",
            "\n"
          ]
        },
        {
          "data": {
            "text/html": [
              "<span style=\"background-color:rgba(135,206,250,0.04846222);\">wine</span> <span style=\"background-color:rgba(135,206,250,0.13940379);\">review</span> <span style=\"background-color:rgba(135,206,250,0.08812062);\">:</span> <span style=\"background-color:rgba(135,206,250,0.28048763);\">germany</span> <span style=\"background-color:rgba(135,206,250,0.03185802);\">:</span> <span style=\"background-color:rgba(135,206,250,0.07569345);\">mosel</span> <span style=\"background-color:rgba(135,206,250,0.039406598);\">:</span> <span style=\"background-color:rgba(135,206,250,0.09086081);\">riesling</span> <span style=\"background-color:rgba(135,206,250,0.05069692);\">:</span> <span style=\"background-color:rgba(135,206,250,0.04591184);\">waxy</span> <span style=\"background-color:rgba(135,206,250,0.037877157);\">lemon</span> <span style=\"background-color:rgba(135,206,250,0.03104635);\">-</span> <span style=\"background-color:rgba(135,206,250,0.03762258);\">lime</span> <span style=\"background-color:rgba(135,206,250,0.04427343);\">and</span> <span style=\"background-color:rgba(135,206,250,0.036241233);\">lime</span> <span style=\"background-color:rgba(135,206,250,0.07893494);\">flavors</span> <span style=\"background-color:rgba(135,206,250,0.060955066);\">are</span> <span style=\"background-color:rgba(135,206,250,0.06694069);\">accented</span> <span style=\"background-color:rgba(135,206,250,0.054785114);\">by</span> <span style=\"background-color:rgba(135,206,250,0.0396529);\">a</span> <span style=\"background-color:rgba(135,206,250,0.051993437);\">lacy</span> <span style=\"background-color:rgba(135,206,250,0.082658365);\">haze</span> <span style=\"background-color:rgba(135,206,250,0.029321203);\">of</span> <span style=\"background-color:rgba(135,206,250,0.09235219);\">acidity</span> <span style=\"background-color:rgba(135,206,250,0.049166806);\">and</span> <span style=\"background-color:rgba(135,206,250,0.057888314);\">a</span> <span style=\"background-color:rgba(135,206,250,0.07160124);\">hint</span> <span style=\"background-color:rgba(135,206,250,0.049262706);\">of</span> <span style=\"background-color:rgba(135,206,250,0.13024881);\">sweetness</span> <span style=\"background-color:rgba(135,206,250,0.07705636);\">,</span> <span style=\"background-color:rgba(135,206,250,0.15923263);\">this</span> <span style=\"background-color:rgba(135,206,250,0.0612354);\">off</span> <span style=\"background-color:rgba(135,206,250,0.06353959);\">-</span> <span style=\"background-color:rgba(135,206,250,0.13407563);\">dry</span> <span style=\"background-color:rgba(135,206,250,0.14142255);\">riesling</span> <span style=\"background-color:rgba(135,206,250,0.6279899);\">.</span> <span style=\"background-color:rgba(135,206,250,0.22964697);\">it</span> <span style=\"background-color:rgba(135,206,250,0.1382195);\">'</span> <span style=\"background-color:rgba(135,206,250,0.70402724);\">s</span> <span style=\"background-color:rgba(135,206,250,1.0);\">a</span> <span style=\"background-color:rgba(135,206,250,0.6822405);\">straightforward</span> <span style=\"background-color:rgba(135,206,250,0.44767693);\">wine</span>"
            ],
            "text/plain": [
              "<IPython.core.display.HTML object>"
            ]
          },
          "metadata": {},
          "output_type": "display_data"
        },
        {
          "name": "stdout",
          "output_type": "stream",
          "text": [
            "for:   \t27.0%\n",
            "to:   \t26.479999542236328%\n",
            "with:   \t19.219999313354492%\n",
            ",:   \t18.059999465942383%\n",
            "that:   \t8.199999809265137%\n",
            "--------\n",
            "\n"
          ]
        },
        {
          "data": {
            "text/html": [
              "<span style=\"background-color:rgba(135,206,250,0.05820863);\">wine</span> <span style=\"background-color:rgba(135,206,250,0.08721437);\">review</span> <span style=\"background-color:rgba(135,206,250,0.10041199);\">:</span> <span style=\"background-color:rgba(135,206,250,0.33160397);\">germany</span> <span style=\"background-color:rgba(135,206,250,0.0294045);\">:</span> <span style=\"background-color:rgba(135,206,250,0.17978132);\">mosel</span> <span style=\"background-color:rgba(135,206,250,0.03975686);\">:</span> <span style=\"background-color:rgba(135,206,250,0.27751634);\">riesling</span> <span style=\"background-color:rgba(135,206,250,0.052495304);\">:</span> <span style=\"background-color:rgba(135,206,250,0.11355149);\">waxy</span> <span style=\"background-color:rgba(135,206,250,0.073496774);\">lemon</span> <span style=\"background-color:rgba(135,206,250,0.025099495);\">-</span> <span style=\"background-color:rgba(135,206,250,0.08321651);\">lime</span> <span style=\"background-color:rgba(135,206,250,0.034994174);\">and</span> <span style=\"background-color:rgba(135,206,250,0.080048904);\">lime</span> <span style=\"background-color:rgba(135,206,250,0.113742374);\">flavors</span> <span style=\"background-color:rgba(135,206,250,0.031941835);\">are</span> <span style=\"background-color:rgba(135,206,250,0.038644023);\">accented</span> <span style=\"background-color:rgba(135,206,250,0.01959411);\">by</span> <span style=\"background-color:rgba(135,206,250,0.026661191);\">a</span> <span style=\"background-color:rgba(135,206,250,0.1679553);\">lacy</span> <span style=\"background-color:rgba(135,206,250,0.101812884);\">haze</span> <span style=\"background-color:rgba(135,206,250,0.018723167);\">of</span> <span style=\"background-color:rgba(135,206,250,0.15863784);\">acidity</span> <span style=\"background-color:rgba(135,206,250,0.036691494);\">and</span> <span style=\"background-color:rgba(135,206,250,0.033338767);\">a</span> <span style=\"background-color:rgba(135,206,250,0.06435307);\">hint</span> <span style=\"background-color:rgba(135,206,250,0.02577974);\">of</span> <span style=\"background-color:rgba(135,206,250,0.16869581);\">sweetness</span> <span style=\"background-color:rgba(135,206,250,0.067370616);\">,</span> <span style=\"background-color:rgba(135,206,250,0.07342828);\">this</span> <span style=\"background-color:rgba(135,206,250,0.055637747);\">off</span> <span style=\"background-color:rgba(135,206,250,0.06668685);\">-</span> <span style=\"background-color:rgba(135,206,250,0.1892982);\">dry</span> <span style=\"background-color:rgba(135,206,250,0.19619763);\">riesling</span> <span style=\"background-color:rgba(135,206,250,0.414339);\">.</span> <span style=\"background-color:rgba(135,206,250,0.17578325);\">it</span> <span style=\"background-color:rgba(135,206,250,0.044443723);\">'</span> <span style=\"background-color:rgba(135,206,250,0.21045394);\">s</span> <span style=\"background-color:rgba(135,206,250,0.37476113);\">a</span> <span style=\"background-color:rgba(135,206,250,1.0);\">straightforward</span> <span style=\"background-color:rgba(135,206,250,0.7886496);\">wine</span> <span style=\"background-color:rgba(135,206,250,0.48249805);\">with</span>"
            ],
            "text/plain": [
              "<IPython.core.display.HTML object>"
            ]
          },
          "metadata": {},
          "output_type": "display_data"
        },
        {
          "name": "stdout",
          "output_type": "stream",
          "text": [
            "a:   \t97.16999816894531%\n",
            "easy:   \t0.7699999809265137%\n",
            "an:   \t0.5799999833106995%\n",
            "just:   \t0.3100000023841858%\n",
            "its:   \t0.28999999165534973%\n",
            "--------\n",
            "\n"
          ]
        },
        {
          "data": {
            "text/html": [
              "<span style=\"background-color:rgba(135,206,250,0.040256217);\">wine</span> <span style=\"background-color:rgba(135,206,250,0.06110386);\">review</span> <span style=\"background-color:rgba(135,206,250,0.027261883);\">:</span> <span style=\"background-color:rgba(135,206,250,0.28407454);\">germany</span> <span style=\"background-color:rgba(135,206,250,0.011481912);\">:</span> <span style=\"background-color:rgba(135,206,250,0.1557253);\">mosel</span> <span style=\"background-color:rgba(135,206,250,0.021171965);\">:</span> <span style=\"background-color:rgba(135,206,250,0.18767865);\">riesling</span> <span style=\"background-color:rgba(135,206,250,0.03223083);\">:</span> <span style=\"background-color:rgba(135,206,250,0.074922256);\">waxy</span> <span style=\"background-color:rgba(135,206,250,0.040407125);\">lemon</span> <span style=\"background-color:rgba(135,206,250,0.013988065);\">-</span> <span style=\"background-color:rgba(135,206,250,0.048329905);\">lime</span> <span style=\"background-color:rgba(135,206,250,0.017848391);\">and</span> <span style=\"background-color:rgba(135,206,250,0.047490094);\">lime</span> <span style=\"background-color:rgba(135,206,250,0.057093777);\">flavors</span> <span style=\"background-color:rgba(135,206,250,0.021610195);\">are</span> <span style=\"background-color:rgba(135,206,250,0.03807325);\">accented</span> <span style=\"background-color:rgba(135,206,250,0.015805883);\">by</span> <span style=\"background-color:rgba(135,206,250,0.0110714175);\">a</span> <span style=\"background-color:rgba(135,206,250,0.1247);\">lacy</span> <span style=\"background-color:rgba(135,206,250,0.1052839);\">haze</span> <span style=\"background-color:rgba(135,206,250,0.013602838);\">of</span> <span style=\"background-color:rgba(135,206,250,0.057863932);\">acidity</span> <span style=\"background-color:rgba(135,206,250,0.01896501);\">and</span> <span style=\"background-color:rgba(135,206,250,0.013439578);\">a</span> <span style=\"background-color:rgba(135,206,250,0.045978773);\">hint</span> <span style=\"background-color:rgba(135,206,250,0.018985199);\">of</span> <span style=\"background-color:rgba(135,206,250,0.09937907);\">sweetness</span> <span style=\"background-color:rgba(135,206,250,0.035711516);\">,</span> <span style=\"background-color:rgba(135,206,250,0.042462137);\">this</span> <span style=\"background-color:rgba(135,206,250,0.058161367);\">off</span> <span style=\"background-color:rgba(135,206,250,0.029793596);\">-</span> <span style=\"background-color:rgba(135,206,250,0.11482862);\">dry</span> <span style=\"background-color:rgba(135,206,250,0.13139848);\">riesling</span> <span style=\"background-color:rgba(135,206,250,0.20056595);\">.</span> <span style=\"background-color:rgba(135,206,250,0.10902002);\">it</span> <span style=\"background-color:rgba(135,206,250,0.031379655);\">'</span> <span style=\"background-color:rgba(135,206,250,0.18454333);\">s</span> <span style=\"background-color:rgba(135,206,250,0.07368314);\">a</span> <span style=\"background-color:rgba(135,206,250,0.39873272);\">straightforward</span> <span style=\"background-color:rgba(135,206,250,0.655592);\">wine</span> <span style=\"background-color:rgba(135,206,250,1.0);\">with</span> <span style=\"background-color:rgba(135,206,250,0.22904272);\">a</span>"
            ],
            "text/plain": [
              "<IPython.core.display.HTML object>"
            ]
          },
          "metadata": {},
          "output_type": "display_data"
        },
        {
          "name": "stdout",
          "output_type": "stream",
          "text": [
            "long:   \t12.319999694824219%\n",
            "brisk:   \t8.149999618530273%\n",
            "lacy:   \t7.019999980926514%\n",
            "lip:   \t5.809999942779541%\n",
            "touch:   \t4.5%\n",
            "--------\n",
            "\n"
          ]
        },
        {
          "data": {
            "text/html": [
              "<span style=\"background-color:rgba(135,206,250,0.036832534);\">wine</span> <span style=\"background-color:rgba(135,206,250,0.06909082);\">review</span> <span style=\"background-color:rgba(135,206,250,0.041388102);\">:</span> <span style=\"background-color:rgba(135,206,250,0.26427293);\">germany</span> <span style=\"background-color:rgba(135,206,250,0.017981103);\">:</span> <span style=\"background-color:rgba(135,206,250,0.15077074);\">mosel</span> <span style=\"background-color:rgba(135,206,250,0.03140584);\">:</span> <span style=\"background-color:rgba(135,206,250,0.3662189);\">riesling</span> <span style=\"background-color:rgba(135,206,250,0.038501456);\">:</span> <span style=\"background-color:rgba(135,206,250,0.07057503);\">waxy</span> <span style=\"background-color:rgba(135,206,250,0.07831008);\">lemon</span> <span style=\"background-color:rgba(135,206,250,0.021794481);\">-</span> <span style=\"background-color:rgba(135,206,250,0.05735056);\">lime</span> <span style=\"background-color:rgba(135,206,250,0.029938996);\">and</span> <span style=\"background-color:rgba(135,206,250,0.053039085);\">lime</span> <span style=\"background-color:rgba(135,206,250,0.08329539);\">flavors</span> <span style=\"background-color:rgba(135,206,250,0.045907598);\">are</span> <span style=\"background-color:rgba(135,206,250,0.035349745);\">accented</span> <span style=\"background-color:rgba(135,206,250,0.023940558);\">by</span> <span style=\"background-color:rgba(135,206,250,0.01797555);\">a</span> <span style=\"background-color:rgba(135,206,250,0.07249825);\">lacy</span> <span style=\"background-color:rgba(135,206,250,0.060992006);\">haze</span> <span style=\"background-color:rgba(135,206,250,0.017141886);\">of</span> <span style=\"background-color:rgba(135,206,250,0.11160385);\">acidity</span> <span style=\"background-color:rgba(135,206,250,0.033498276);\">and</span> <span style=\"background-color:rgba(135,206,250,0.022737691);\">a</span> <span style=\"background-color:rgba(135,206,250,0.037110254);\">hint</span> <span style=\"background-color:rgba(135,206,250,0.023172446);\">of</span> <span style=\"background-color:rgba(135,206,250,0.12169285);\">sweetness</span> <span style=\"background-color:rgba(135,206,250,0.048921503);\">,</span> <span style=\"background-color:rgba(135,206,250,0.07549174);\">this</span> <span style=\"background-color:rgba(135,206,250,0.044589575);\">off</span> <span style=\"background-color:rgba(135,206,250,0.035712853);\">-</span> <span style=\"background-color:rgba(135,206,250,0.0797287);\">dry</span> <span style=\"background-color:rgba(135,206,250,0.21930249);\">riesling</span> <span style=\"background-color:rgba(135,206,250,0.22650501);\">.</span> <span style=\"background-color:rgba(135,206,250,0.13332771);\">it</span> <span style=\"background-color:rgba(135,206,250,0.050052203);\">'</span> <span style=\"background-color:rgba(135,206,250,0.22534615);\">s</span> <span style=\"background-color:rgba(135,206,250,0.28162694);\">a</span> <span style=\"background-color:rgba(135,206,250,0.1549792);\">straightforward</span> <span style=\"background-color:rgba(135,206,250,0.5767044);\">wine</span> <span style=\"background-color:rgba(135,206,250,0.89837563);\">with</span> <span style=\"background-color:rgba(135,206,250,1.0);\">a</span> <span style=\"background-color:rgba(135,206,250,0.22381906);\">juicy</span>"
            ],
            "text/plain": [
              "<IPython.core.display.HTML object>"
            ]
          },
          "metadata": {},
          "output_type": "display_data"
        },
        {
          "name": "stdout",
          "output_type": "stream",
          "text": [
            ",:   \t91.81999969482422%\n",
            "finish:   \t4.110000133514404%\n",
            "lemon:   \t0.6200000047683716%\n",
            "mouthfeel:   \t0.3799999952316284%\n",
            "kick:   \t0.3799999952316284%\n",
            "--------\n",
            "\n"
          ]
        },
        {
          "data": {
            "text/html": [
              "<span style=\"background-color:rgba(135,206,250,0.046412352);\">wine</span> <span style=\"background-color:rgba(135,206,250,0.109436736);\">review</span> <span style=\"background-color:rgba(135,206,250,0.045531332);\">:</span> <span style=\"background-color:rgba(135,206,250,0.3617072);\">germany</span> <span style=\"background-color:rgba(135,206,250,0.01822635);\">:</span> <span style=\"background-color:rgba(135,206,250,0.16347556);\">mosel</span> <span style=\"background-color:rgba(135,206,250,0.032300767);\">:</span> <span style=\"background-color:rgba(135,206,250,0.35676143);\">riesling</span> <span style=\"background-color:rgba(135,206,250,0.05366041);\">:</span> <span style=\"background-color:rgba(135,206,250,0.089674324);\">waxy</span> <span style=\"background-color:rgba(135,206,250,0.051258124);\">lemon</span> <span style=\"background-color:rgba(135,206,250,0.018557485);\">-</span> <span style=\"background-color:rgba(135,206,250,0.061590556);\">lime</span> <span style=\"background-color:rgba(135,206,250,0.03662743);\">and</span> <span style=\"background-color:rgba(135,206,250,0.057054587);\">lime</span> <span style=\"background-color:rgba(135,206,250,0.06309627);\">flavors</span> <span style=\"background-color:rgba(135,206,250,0.060224712);\">are</span> <span style=\"background-color:rgba(135,206,250,0.059488837);\">accented</span> <span style=\"background-color:rgba(135,206,250,0.050035648);\">by</span> <span style=\"background-color:rgba(135,206,250,0.016520625);\">a</span> <span style=\"background-color:rgba(135,206,250,0.11828507);\">lacy</span> <span style=\"background-color:rgba(135,206,250,0.08908608);\">haze</span> <span style=\"background-color:rgba(135,206,250,0.024940673);\">of</span> <span style=\"background-color:rgba(135,206,250,0.09457083);\">acidity</span> <span style=\"background-color:rgba(135,206,250,0.04002739);\">and</span> <span style=\"background-color:rgba(135,206,250,0.021025721);\">a</span> <span style=\"background-color:rgba(135,206,250,0.07309788);\">hint</span> <span style=\"background-color:rgba(135,206,250,0.03423796);\">of</span> <span style=\"background-color:rgba(135,206,250,0.12935957);\">sweetness</span> <span style=\"background-color:rgba(135,206,250,0.04426908);\">,</span> <span style=\"background-color:rgba(135,206,250,0.13123742);\">this</span> <span style=\"background-color:rgba(135,206,250,0.072611205);\">off</span> <span style=\"background-color:rgba(135,206,250,0.03395464);\">-</span> <span style=\"background-color:rgba(135,206,250,0.14549577);\">dry</span> <span style=\"background-color:rgba(135,206,250,0.20904805);\">riesling</span> <span style=\"background-color:rgba(135,206,250,0.3365018);\">.</span> <span style=\"background-color:rgba(135,206,250,0.22168137);\">it</span> <span style=\"background-color:rgba(135,206,250,0.03600064);\">'</span> <span style=\"background-color:rgba(135,206,250,0.29309106);\">s</span> <span style=\"background-color:rgba(135,206,250,0.21097475);\">a</span> <span style=\"background-color:rgba(135,206,250,0.39468542);\">straightforward</span> <span style=\"background-color:rgba(135,206,250,0.52724123);\">wine</span> <span style=\"background-color:rgba(135,206,250,0.9244148);\">with</span> <span style=\"background-color:rgba(135,206,250,0.7850301);\">a</span> <span style=\"background-color:rgba(135,206,250,1.0);\">juicy</span> <span style=\"background-color:rgba(135,206,250,0.7807441);\">,</span>"
            ],
            "text/plain": [
              "<IPython.core.display.HTML object>"
            ]
          },
          "metadata": {},
          "output_type": "display_data"
        },
        {
          "name": "stdout",
          "output_type": "stream",
          "text": [
            "easy:   \t17.149999618530273%\n",
            "fresh:   \t10.220000267028809%\n",
            "juicy:   \t8.989999771118164%\n",
            "fruity:   \t6.489999771118164%\n",
            "sunny:   \t6.179999828338623%\n",
            "--------\n",
            "\n"
          ]
        },
        {
          "data": {
            "text/html": [
              "<span style=\"background-color:rgba(135,206,250,0.046520796);\">wine</span> <span style=\"background-color:rgba(135,206,250,0.07156749);\">review</span> <span style=\"background-color:rgba(135,206,250,0.046834245);\">:</span> <span style=\"background-color:rgba(135,206,250,0.34609732);\">germany</span> <span style=\"background-color:rgba(135,206,250,0.026784956);\">:</span> <span style=\"background-color:rgba(135,206,250,0.14579432);\">mosel</span> <span style=\"background-color:rgba(135,206,250,0.039673492);\">:</span> <span style=\"background-color:rgba(135,206,250,0.23870714);\">riesling</span> <span style=\"background-color:rgba(135,206,250,0.04307852);\">:</span> <span style=\"background-color:rgba(135,206,250,0.05413238);\">waxy</span> <span style=\"background-color:rgba(135,206,250,0.0471086);\">lemon</span> <span style=\"background-color:rgba(135,206,250,0.015940066);\">-</span> <span style=\"background-color:rgba(135,206,250,0.040058352);\">lime</span> <span style=\"background-color:rgba(135,206,250,0.029318618);\">and</span> <span style=\"background-color:rgba(135,206,250,0.03850058);\">lime</span> <span style=\"background-color:rgba(135,206,250,0.06345559);\">flavors</span> <span style=\"background-color:rgba(135,206,250,0.028763002);\">are</span> <span style=\"background-color:rgba(135,206,250,0.038727995);\">accented</span> <span style=\"background-color:rgba(135,206,250,0.022898473);\">by</span> <span style=\"background-color:rgba(135,206,250,0.015435795);\">a</span> <span style=\"background-color:rgba(135,206,250,0.07043555);\">lacy</span> <span style=\"background-color:rgba(135,206,250,0.062990084);\">haze</span> <span style=\"background-color:rgba(135,206,250,0.02167619);\">of</span> <span style=\"background-color:rgba(135,206,250,0.06207273);\">acidity</span> <span style=\"background-color:rgba(135,206,250,0.030629834);\">and</span> <span style=\"background-color:rgba(135,206,250,0.018346516);\">a</span> <span style=\"background-color:rgba(135,206,250,0.034520783);\">hint</span> <span style=\"background-color:rgba(135,206,250,0.027813612);\">of</span> <span style=\"background-color:rgba(135,206,250,0.073088005);\">sweetness</span> <span style=\"background-color:rgba(135,206,250,0.046003312);\">,</span> <span style=\"background-color:rgba(135,206,250,0.042108055);\">this</span> <span style=\"background-color:rgba(135,206,250,0.040976048);\">off</span> <span style=\"background-color:rgba(135,206,250,0.02189163);\">-</span> <span style=\"background-color:rgba(135,206,250,0.05363464);\">dry</span> <span style=\"background-color:rgba(135,206,250,0.13165303);\">riesling</span> <span style=\"background-color:rgba(135,206,250,0.15070687);\">.</span> <span style=\"background-color:rgba(135,206,250,0.084055126);\">it</span> <span style=\"background-color:rgba(135,206,250,0.032396622);\">'</span> <span style=\"background-color:rgba(135,206,250,0.09949847);\">s</span> <span style=\"background-color:rgba(135,206,250,0.12575309);\">a</span> <span style=\"background-color:rgba(135,206,250,0.13301036);\">straightforward</span> <span style=\"background-color:rgba(135,206,250,0.40911406);\">wine</span> <span style=\"background-color:rgba(135,206,250,0.58671546);\">with</span> <span style=\"background-color:rgba(135,206,250,0.36944646);\">a</span> <span style=\"background-color:rgba(135,206,250,0.16961779);\">juicy</span> <span style=\"background-color:rgba(135,206,250,1.0);\">,</span> <span style=\"background-color:rgba(135,206,250,0.17716403);\">easy</span>"
            ],
            "text/plain": [
              "<IPython.core.display.HTML object>"
            ]
          },
          "metadata": {},
          "output_type": "display_data"
        },
        {
          "name": "stdout",
          "output_type": "stream",
          "text": [
            "-:   \t85.76000213623047%\n",
            "drinking:   \t11.449999809265137%\n",
            "finish:   \t1.5299999713897705%\n",
            "demeanor:   \t0.9599999785423279%\n",
            ",:   \t0.1599999964237213%\n",
            "--------\n",
            "\n"
          ]
        },
        {
          "data": {
            "text/html": [
              "<span style=\"background-color:rgba(135,206,250,0.037192162);\">wine</span> <span style=\"background-color:rgba(135,206,250,0.056341466);\">review</span> <span style=\"background-color:rgba(135,206,250,0.029725475);\">:</span> <span style=\"background-color:rgba(135,206,250,0.1627276);\">germany</span> <span style=\"background-color:rgba(135,206,250,0.019312229);\">:</span> <span style=\"background-color:rgba(135,206,250,0.08432851);\">mosel</span> <span style=\"background-color:rgba(135,206,250,0.016894877);\">:</span> <span style=\"background-color:rgba(135,206,250,0.14113615);\">riesling</span> <span style=\"background-color:rgba(135,206,250,0.024438303);\">:</span> <span style=\"background-color:rgba(135,206,250,0.030150458);\">waxy</span> <span style=\"background-color:rgba(135,206,250,0.014331879);\">lemon</span> <span style=\"background-color:rgba(135,206,250,0.009062775);\">-</span> <span style=\"background-color:rgba(135,206,250,0.0178492);\">lime</span> <span style=\"background-color:rgba(135,206,250,0.01764037);\">and</span> <span style=\"background-color:rgba(135,206,250,0.01814787);\">lime</span> <span style=\"background-color:rgba(135,206,250,0.028775688);\">flavors</span> <span style=\"background-color:rgba(135,206,250,0.016593076);\">are</span> <span style=\"background-color:rgba(135,206,250,0.021174427);\">accented</span> <span style=\"background-color:rgba(135,206,250,0.012798852);\">by</span> <span style=\"background-color:rgba(135,206,250,0.011274365);\">a</span> <span style=\"background-color:rgba(135,206,250,0.036753695);\">lacy</span> <span style=\"background-color:rgba(135,206,250,0.038921762);\">haze</span> <span style=\"background-color:rgba(135,206,250,0.0110321);\">of</span> <span style=\"background-color:rgba(135,206,250,0.020080335);\">acidity</span> <span style=\"background-color:rgba(135,206,250,0.019448519);\">and</span> <span style=\"background-color:rgba(135,206,250,0.013296066);\">a</span> <span style=\"background-color:rgba(135,206,250,0.01754933);\">hint</span> <span style=\"background-color:rgba(135,206,250,0.01425825);\">of</span> <span style=\"background-color:rgba(135,206,250,0.035035063);\">sweetness</span> <span style=\"background-color:rgba(135,206,250,0.023456581);\">,</span> <span style=\"background-color:rgba(135,206,250,0.02638515);\">this</span> <span style=\"background-color:rgba(135,206,250,0.021543859);\">off</span> <span style=\"background-color:rgba(135,206,250,0.013437093);\">-</span> <span style=\"background-color:rgba(135,206,250,0.029979086);\">dry</span> <span style=\"background-color:rgba(135,206,250,0.06546227);\">riesling</span> <span style=\"background-color:rgba(135,206,250,0.052858338);\">.</span> <span style=\"background-color:rgba(135,206,250,0.02706125);\">it</span> <span style=\"background-color:rgba(135,206,250,0.012941592);\">'</span> <span style=\"background-color:rgba(135,206,250,0.03733227);\">s</span> <span style=\"background-color:rgba(135,206,250,0.033948746);\">a</span> <span style=\"background-color:rgba(135,206,250,0.07177293);\">straightforward</span> <span style=\"background-color:rgba(135,206,250,0.0661982);\">wine</span> <span style=\"background-color:rgba(135,206,250,0.09898343);\">with</span> <span style=\"background-color:rgba(135,206,250,0.10350855);\">a</span> <span style=\"background-color:rgba(135,206,250,0.14249192);\">juicy</span> <span style=\"background-color:rgba(135,206,250,0.37106243);\">,</span> <span style=\"background-color:rgba(135,206,250,1.0);\">easy</span> <span style=\"background-color:rgba(135,206,250,0.05127391);\">-</span>"
            ],
            "text/plain": [
              "<IPython.core.display.HTML object>"
            ]
          },
          "metadata": {},
          "output_type": "display_data"
        },
        {
          "name": "stdout",
          "output_type": "stream",
          "text": [
            "drinking:   \t99.94999694824219%\n",
            "quaffing:   \t0.03999999910593033%\n",
            "to:   \t0.009999999776482582%\n",
            "drink:   \t0.0%\n",
            "sipping:   \t0.0%\n",
            "--------\n",
            "\n"
          ]
        },
        {
          "data": {
            "text/html": [
              "<span style=\"background-color:rgba(135,206,250,0.060313463);\">wine</span> <span style=\"background-color:rgba(135,206,250,0.10545921);\">review</span> <span style=\"background-color:rgba(135,206,250,0.06359946);\">:</span> <span style=\"background-color:rgba(135,206,250,0.25536403);\">germany</span> <span style=\"background-color:rgba(135,206,250,0.034219526);\">:</span> <span style=\"background-color:rgba(135,206,250,0.21658671);\">mosel</span> <span style=\"background-color:rgba(135,206,250,0.053565312);\">:</span> <span style=\"background-color:rgba(135,206,250,0.5166093);\">riesling</span> <span style=\"background-color:rgba(135,206,250,0.087359905);\">:</span> <span style=\"background-color:rgba(135,206,250,0.08293952);\">waxy</span> <span style=\"background-color:rgba(135,206,250,0.058469944);\">lemon</span> <span style=\"background-color:rgba(135,206,250,0.016663313);\">-</span> <span style=\"background-color:rgba(135,206,250,0.037451334);\">lime</span> <span style=\"background-color:rgba(135,206,250,0.03881201);\">and</span> <span style=\"background-color:rgba(135,206,250,0.034232296);\">lime</span> <span style=\"background-color:rgba(135,206,250,0.04277328);\">flavors</span> <span style=\"background-color:rgba(135,206,250,0.038489137);\">are</span> <span style=\"background-color:rgba(135,206,250,0.03244693);\">accented</span> <span style=\"background-color:rgba(135,206,250,0.04165091);\">by</span> <span style=\"background-color:rgba(135,206,250,0.017155217);\">a</span> <span style=\"background-color:rgba(135,206,250,0.11676303);\">lacy</span> <span style=\"background-color:rgba(135,206,250,0.053459473);\">haze</span> <span style=\"background-color:rgba(135,206,250,0.03252526);\">of</span> <span style=\"background-color:rgba(135,206,250,0.05056382);\">acidity</span> <span style=\"background-color:rgba(135,206,250,0.044025008);\">and</span> <span style=\"background-color:rgba(135,206,250,0.021471154);\">a</span> <span style=\"background-color:rgba(135,206,250,0.039141055);\">hint</span> <span style=\"background-color:rgba(135,206,250,0.04289861);\">of</span> <span style=\"background-color:rgba(135,206,250,0.07920557);\">sweetness</span> <span style=\"background-color:rgba(135,206,250,0.055289757);\">,</span> <span style=\"background-color:rgba(135,206,250,0.05494518);\">this</span> <span style=\"background-color:rgba(135,206,250,0.06173376);\">off</span> <span style=\"background-color:rgba(135,206,250,0.025264177);\">-</span> <span style=\"background-color:rgba(135,206,250,0.06571671);\">dry</span> <span style=\"background-color:rgba(135,206,250,0.2291733);\">riesling</span> <span style=\"background-color:rgba(135,206,250,0.17591444);\">.</span> <span style=\"background-color:rgba(135,206,250,0.13093792);\">it</span> <span style=\"background-color:rgba(135,206,250,0.043437388);\">'</span> <span style=\"background-color:rgba(135,206,250,0.12215928);\">s</span> <span style=\"background-color:rgba(135,206,250,0.17281854);\">a</span> <span style=\"background-color:rgba(135,206,250,0.10493553);\">straightforward</span> <span style=\"background-color:rgba(135,206,250,0.40195587);\">wine</span> <span style=\"background-color:rgba(135,206,250,0.47242138);\">with</span> <span style=\"background-color:rgba(135,206,250,0.45973423);\">a</span> <span style=\"background-color:rgba(135,206,250,0.15752847);\">juicy</span> <span style=\"background-color:rgba(135,206,250,1.0);\">,</span> <span style=\"background-color:rgba(135,206,250,0.5925822);\">easy</span> <span style=\"background-color:rgba(135,206,250,0.49242896);\">-</span> <span style=\"background-color:rgba(135,206,250,0.31446785);\">drinking</span>"
            ],
            "text/plain": [
              "<IPython.core.display.HTML object>"
            ]
          },
          "metadata": {},
          "output_type": "display_data"
        },
        {
          "name": "stdout",
          "output_type": "stream",
          "text": [
            "finish:   \t64.33000183105469%\n",
            "demeanor:   \t11.039999961853027%\n",
            "style:   \t7.25%\n",
            "riesling:   \t5.179999828338623%\n",
            "appeal:   \t3.1700000762939453%\n",
            "--------\n",
            "\n"
          ]
        }
      ],
      "source": [
        "info = text_generator.generate(\n",
        "    \"wine review : germany\", max_tokens=50, temperature=0.5\n",
        ")\n",
        "print_probs(info, vocab)"
      ]
    },
    {
      "cell_type": "markdown",
      "id": "UrEgNlIWhSVv",
      "metadata": {
        "id": "UrEgNlIWhSVv"
      },
      "source": [
        "## Homework Questions\n",
        "1. Generate a wine review starting with 'wine review: italy', using 20 tokens and a temperature of 1.0. Print the probability distribution of the words.\n",
        "2. Generate another wine review starting with 'wine review: italy', using 20 tokens and a temperature of 0.1. Print the probability distribution of the words.\n",
        "\n",
        "In a Word document, analyze the first five generation steps at both temperatures:\n",
        "1. What is the next-token distribution?\n",
        "2. Which context words receive higher attention when generating this token?\n",
        "3. How do different temperatures impact the next-token distribution?\n",
        "\n",
        "\n",
        "\n",
        "\n"
      ]
    },
    {
      "cell_type": "code",
      "execution_count": null,
      "id": "4ae2da8e-9b7c-4b71-b37b-021115b3d7ea",
      "metadata": {
        "colab": {
          "base_uri": "https://localhost:8080/",
          "height": 1000
        },
        "id": "4ae2da8e-9b7c-4b71-b37b-021115b3d7ea",
        "outputId": "ba140ea0-9233-4079-e439-0b5bda106840"
      },
      "outputs": [
        {
          "name": "stdout",
          "output_type": "stream",
          "text": [
            "\n",
            "generated text:\n",
            "wine review : Italy : compromised : white blend : a tart but disjointed at first , then take the\n",
            "\n"
          ]
        },
        {
          "data": {
            "text/html": [
              "<span style=\"background-color:rgba(135,206,250,1.0);\">wine</span> <span style=\"background-color:rgba(135,206,250,0.9070888);\">review</span> <span style=\"background-color:rgba(135,206,250,0.29292133);\">:</span> <span style=\"background-color:rgba(135,206,250,0.24798726);\">Italy</span>"
            ],
            "text/plain": [
              "<IPython.core.display.HTML object>"
            ]
          },
          "metadata": {},
          "output_type": "display_data"
        },
        {
          "name": "stdout",
          "output_type": "stream",
          "text": [
            "::   \t99.95999908447266%\n",
            "hills:   \t0.009999999776482582%\n",
            "-:   \t0.0%\n",
            "africa:   \t0.0%\n",
            ",:   \t0.0%\n",
            "--------\n",
            "\n"
          ]
        },
        {
          "data": {
            "text/html": [
              "<span style=\"background-color:rgba(135,206,250,0.31062356);\">wine</span> <span style=\"background-color:rgba(135,206,250,0.32224587);\">review</span> <span style=\"background-color:rgba(135,206,250,0.18196222);\">:</span> <span style=\"background-color:rgba(135,206,250,1.0);\">Italy</span> <span style=\"background-color:rgba(135,206,250,0.12717798);\">:</span>"
            ],
            "text/plain": [
              "<IPython.core.display.HTML object>"
            ]
          },
          "metadata": {},
          "output_type": "display_data"
        },
        {
          "name": "stdout",
          "output_type": "stream",
          "text": [
            "[UNK]:   \t24.219999313354492%\n",
            "switzerland:   \t1.3600000143051147%\n",
            "france:   \t1.25%\n",
            "cyprus:   \t1.0700000524520874%\n",
            "central:   \t1.0299999713897705%\n",
            "--------\n",
            "\n"
          ]
        },
        {
          "data": {
            "text/html": [
              "<span style=\"background-color:rgba(135,206,250,0.8145756);\">wine</span> <span style=\"background-color:rgba(135,206,250,1.0);\">review</span> <span style=\"background-color:rgba(135,206,250,0.257719);\">:</span> <span style=\"background-color:rgba(135,206,250,0.18794659);\">Italy</span> <span style=\"background-color:rgba(135,206,250,0.38492474);\">:</span> <span style=\"background-color:rgba(135,206,250,0.101887055);\">compromised</span>"
            ],
            "text/plain": [
              "<IPython.core.display.HTML object>"
            ]
          },
          "metadata": {},
          "output_type": "display_data"
        },
        {
          "name": "stdout",
          "output_type": "stream",
          "text": [
            "::   \t33.75%\n",
            "by:   \t17.399999618530273%\n",
            "other:   \t2.630000114440918%\n",
            "islands:   \t2.390000104904175%\n",
            "[UNK]:   \t1.6100000143051147%\n",
            "--------\n",
            "\n"
          ]
        },
        {
          "data": {
            "text/html": [
              "<span style=\"background-color:rgba(135,206,250,0.41173333);\">wine</span> <span style=\"background-color:rgba(135,206,250,0.3702172);\">review</span> <span style=\"background-color:rgba(135,206,250,0.158735);\">:</span> <span style=\"background-color:rgba(135,206,250,0.4359909);\">Italy</span> <span style=\"background-color:rgba(135,206,250,0.09928504);\">:</span> <span style=\"background-color:rgba(135,206,250,1.0);\">compromised</span> <span style=\"background-color:rgba(135,206,250,0.16844378);\">:</span>"
            ],
            "text/plain": [
              "<IPython.core.display.HTML object>"
            ]
          },
          "metadata": {},
          "output_type": "display_data"
        },
        {
          "name": "stdout",
          "output_type": "stream",
          "text": [
            "red:   \t23.450000762939453%\n",
            "pinot:   \t9.670000076293945%\n",
            "cabernet:   \t8.40999984741211%\n",
            "chardonnay:   \t6.630000114440918%\n",
            "rosé:   \t5.679999828338623%\n",
            "--------\n",
            "\n"
          ]
        },
        {
          "data": {
            "text/html": [
              "<span style=\"background-color:rgba(135,206,250,1.0);\">wine</span> <span style=\"background-color:rgba(135,206,250,0.90613145);\">review</span> <span style=\"background-color:rgba(135,206,250,0.18712653);\">:</span> <span style=\"background-color:rgba(135,206,250,0.19475327);\">Italy</span> <span style=\"background-color:rgba(135,206,250,0.2491618);\">:</span> <span style=\"background-color:rgba(135,206,250,0.4558854);\">compromised</span> <span style=\"background-color:rgba(135,206,250,0.3006819);\">:</span> <span style=\"background-color:rgba(135,206,250,0.24004665);\">white</span>"
            ],
            "text/plain": [
              "<IPython.core.display.HTML object>"
            ]
          },
          "metadata": {},
          "output_type": "display_data"
        },
        {
          "name": "stdout",
          "output_type": "stream",
          "text": [
            "blend:   \t99.88999938964844%\n",
            "kitchen:   \t0.009999999776482582%\n",
            "pepper:   \t0.009999999776482582%\n",
            "grape:   \t0.009999999776482582%\n",
            "white:   \t0.009999999776482582%\n",
            "--------\n",
            "\n"
          ]
        },
        {
          "data": {
            "text/html": [
              "<span style=\"background-color:rgba(135,206,250,0.6783197);\">wine</span> <span style=\"background-color:rgba(135,206,250,1.0);\">review</span> <span style=\"background-color:rgba(135,206,250,0.11401225);\">:</span> <span style=\"background-color:rgba(135,206,250,0.100224406);\">Italy</span> <span style=\"background-color:rgba(135,206,250,0.24883418);\">:</span> <span style=\"background-color:rgba(135,206,250,0.10426973);\">compromised</span> <span style=\"background-color:rgba(135,206,250,0.24188006);\">:</span> <span style=\"background-color:rgba(135,206,250,0.16962016);\">white</span> <span style=\"background-color:rgba(135,206,250,0.09582163);\">blend</span>"
            ],
            "text/plain": [
              "<IPython.core.display.HTML object>"
            ]
          },
          "metadata": {},
          "output_type": "display_data"
        },
        {
          "name": "stdout",
          "output_type": "stream",
          "text": [
            "::   \t100.0%\n",
            "-:   \t0.0%\n",
            "of:   \t0.0%\n",
            "blanc:   \t0.0%\n",
            "grosso:   \t0.0%\n",
            "--------\n",
            "\n"
          ]
        },
        {
          "data": {
            "text/html": [
              "<span style=\"background-color:rgba(135,206,250,0.8100486);\">wine</span> <span style=\"background-color:rgba(135,206,250,0.84371865);\">review</span> <span style=\"background-color:rgba(135,206,250,0.15319353);\">:</span> <span style=\"background-color:rgba(135,206,250,0.501983);\">Italy</span> <span style=\"background-color:rgba(135,206,250,0.20504022);\">:</span> <span style=\"background-color:rgba(135,206,250,1.0);\">compromised</span> <span style=\"background-color:rgba(135,206,250,0.31894237);\">:</span> <span style=\"background-color:rgba(135,206,250,0.47120473);\">white</span> <span style=\"background-color:rgba(135,206,250,0.36506546);\">blend</span> <span style=\"background-color:rgba(135,206,250,0.5099594);\">:</span>"
            ],
            "text/plain": [
              "<IPython.core.display.HTML object>"
            ]
          },
          "metadata": {},
          "output_type": "display_data"
        },
        {
          "name": "stdout",
          "output_type": "stream",
          "text": [
            "this:   \t34.36000061035156%\n",
            "a:   \t15.920000076293945%\n",
            "the:   \t7.420000076293945%\n",
            "an:   \t2.559999942779541%\n",
            "made:   \t2.3499999046325684%\n",
            "--------\n",
            "\n"
          ]
        },
        {
          "data": {
            "text/html": [
              "<span style=\"background-color:rgba(135,206,250,0.73076266);\">wine</span> <span style=\"background-color:rgba(135,206,250,0.707839);\">review</span> <span style=\"background-color:rgba(135,206,250,0.10144144);\">:</span> <span style=\"background-color:rgba(135,206,250,0.4504124);\">Italy</span> <span style=\"background-color:rgba(135,206,250,0.08181638);\">:</span> <span style=\"background-color:rgba(135,206,250,1.0);\">compromised</span> <span style=\"background-color:rgba(135,206,250,0.14037386);\">:</span> <span style=\"background-color:rgba(135,206,250,0.21805151);\">white</span> <span style=\"background-color:rgba(135,206,250,0.24199745);\">blend</span> <span style=\"background-color:rgba(135,206,250,0.3549022);\">:</span> <span style=\"background-color:rgba(135,206,250,0.24867749);\">a</span>"
            ],
            "text/plain": [
              "<IPython.core.display.HTML object>"
            ]
          },
          "metadata": {},
          "output_type": "display_data"
        },
        {
          "name": "stdout",
          "output_type": "stream",
          "text": [
            "vegetal:   \t7.730000019073486%\n",
            "simple:   \t5.809999942779541%\n",
            "strange:   \t3.450000047683716%\n",
            "[UNK]:   \t3.319999933242798%\n",
            "blend:   \t3.2699999809265137%\n",
            "--------\n",
            "\n"
          ]
        },
        {
          "data": {
            "text/html": [
              "<span style=\"background-color:rgba(135,206,250,0.64932334);\">wine</span> <span style=\"background-color:rgba(135,206,250,0.7009822);\">review</span> <span style=\"background-color:rgba(135,206,250,0.117649324);\">:</span> <span style=\"background-color:rgba(135,206,250,0.51053876);\">Italy</span> <span style=\"background-color:rgba(135,206,250,0.1210723);\">:</span> <span style=\"background-color:rgba(135,206,250,0.635978);\">compromised</span> <span style=\"background-color:rgba(135,206,250,0.19314402);\">:</span> <span style=\"background-color:rgba(135,206,250,0.34067196);\">white</span> <span style=\"background-color:rgba(135,206,250,0.2640597);\">blend</span> <span style=\"background-color:rgba(135,206,250,0.46426797);\">:</span> <span style=\"background-color:rgba(135,206,250,1.0);\">a</span> <span style=\"background-color:rgba(135,206,250,0.34813818);\">tart</span>"
            ],
            "text/plain": [
              "<IPython.core.display.HTML object>"
            ]
          },
          "metadata": {},
          "output_type": "display_data"
        },
        {
          "name": "stdout",
          "output_type": "stream",
          "text": [
            ",:   \t57.70000076293945%\n",
            "and:   \t5.849999904632568%\n",
            "wine:   \t4.369999885559082%\n",
            "blend:   \t3.130000114440918%\n",
            "apple:   \t1.690000057220459%\n",
            "--------\n",
            "\n"
          ]
        },
        {
          "data": {
            "text/html": [
              "<span style=\"background-color:rgba(135,206,250,0.7888138);\">wine</span> <span style=\"background-color:rgba(135,206,250,1.0);\">review</span> <span style=\"background-color:rgba(135,206,250,0.1205734);\">:</span> <span style=\"background-color:rgba(135,206,250,0.37264434);\">Italy</span> <span style=\"background-color:rgba(135,206,250,0.21944468);\">:</span> <span style=\"background-color:rgba(135,206,250,0.58990526);\">compromised</span> <span style=\"background-color:rgba(135,206,250,0.21679801);\">:</span> <span style=\"background-color:rgba(135,206,250,0.18956536);\">white</span> <span style=\"background-color:rgba(135,206,250,0.23357671);\">blend</span> <span style=\"background-color:rgba(135,206,250,0.47948816);\">:</span> <span style=\"background-color:rgba(135,206,250,0.82408446);\">a</span> <span style=\"background-color:rgba(135,206,250,0.6117797);\">tart</span> <span style=\"background-color:rgba(135,206,250,0.43993658);\">but</span>"
            ],
            "text/plain": [
              "<IPython.core.display.HTML object>"
            ]
          },
          "metadata": {},
          "output_type": "display_data"
        },
        {
          "name": "stdout",
          "output_type": "stream",
          "text": [
            "simple:   \t10.460000038146973%\n",
            "rather:   \t2.9700000286102295%\n",
            "somewhat:   \t2.630000114440918%\n",
            "challenged:   \t2.2899999618530273%\n",
            "dilute:   \t2.119999885559082%\n",
            "--------\n",
            "\n"
          ]
        },
        {
          "data": {
            "text/html": [
              "<span style=\"background-color:rgba(135,206,250,0.64163864);\">wine</span> <span style=\"background-color:rgba(135,206,250,1.0);\">review</span> <span style=\"background-color:rgba(135,206,250,0.09746055);\">:</span> <span style=\"background-color:rgba(135,206,250,0.24402547);\">Italy</span> <span style=\"background-color:rgba(135,206,250,0.10775575);\">:</span> <span style=\"background-color:rgba(135,206,250,0.30316505);\">compromised</span> <span style=\"background-color:rgba(135,206,250,0.14025559);\">:</span> <span style=\"background-color:rgba(135,206,250,0.15247573);\">white</span> <span style=\"background-color:rgba(135,206,250,0.16321115);\">blend</span> <span style=\"background-color:rgba(135,206,250,0.27049378);\">:</span> <span style=\"background-color:rgba(135,206,250,0.523212);\">a</span> <span style=\"background-color:rgba(135,206,250,0.14852205);\">tart</span> <span style=\"background-color:rgba(135,206,250,0.50488645);\">but</span> <span style=\"background-color:rgba(135,206,250,0.26283348);\">disjointed</span>"
            ],
            "text/plain": [
              "<IPython.core.display.HTML object>"
            ]
          },
          "metadata": {},
          "output_type": "display_data"
        },
        {
          "name": "stdout",
          "output_type": "stream",
          "text": [
            "wine:   \t45.95000076293945%\n",
            ",:   \t16.549999237060547%\n",
            "nose:   \t10.5600004196167%\n",
            "palate:   \t4.260000228881836%\n",
            "bouquet:   \t1.3700000047683716%\n",
            "--------\n",
            "\n"
          ]
        },
        {
          "data": {
            "text/html": [
              "<span style=\"background-color:rgba(135,206,250,0.48380384);\">wine</span> <span style=\"background-color:rgba(135,206,250,0.66998726);\">review</span> <span style=\"background-color:rgba(135,206,250,0.21654458);\">:</span> <span style=\"background-color:rgba(135,206,250,0.29586062);\">Italy</span> <span style=\"background-color:rgba(135,206,250,0.18724415);\">:</span> <span style=\"background-color:rgba(135,206,250,0.5875338);\">compromised</span> <span style=\"background-color:rgba(135,206,250,0.15219404);\">:</span> <span style=\"background-color:rgba(135,206,250,0.14422959);\">white</span> <span style=\"background-color:rgba(135,206,250,0.19267079);\">blend</span> <span style=\"background-color:rgba(135,206,250,0.23696221);\">:</span> <span style=\"background-color:rgba(135,206,250,0.2739649);\">a</span> <span style=\"background-color:rgba(135,206,250,0.27663627);\">tart</span> <span style=\"background-color:rgba(135,206,250,0.44039047);\">but</span> <span style=\"background-color:rgba(135,206,250,1.0);\">disjointed</span> <span style=\"background-color:rgba(135,206,250,0.20868202);\">at</span>"
            ],
            "text/plain": [
              "<IPython.core.display.HTML object>"
            ]
          },
          "metadata": {},
          "output_type": "display_data"
        },
        {
          "name": "stdout",
          "output_type": "stream",
          "text": [
            "the:   \t52.4900016784668%\n",
            "first:   \t19.860000610351562%\n",
            "this:   \t11.670000076293945%\n",
            "[UNK]:   \t1.6200000047683716%\n",
            "present:   \t1.0499999523162842%\n",
            "--------\n",
            "\n"
          ]
        },
        {
          "data": {
            "text/html": [
              "<span style=\"background-color:rgba(135,206,250,0.7580277);\">wine</span> <span style=\"background-color:rgba(135,206,250,1.0);\">review</span> <span style=\"background-color:rgba(135,206,250,0.14505094);\">:</span> <span style=\"background-color:rgba(135,206,250,0.22197568);\">Italy</span> <span style=\"background-color:rgba(135,206,250,0.15236558);\">:</span> <span style=\"background-color:rgba(135,206,250,0.41496792);\">compromised</span> <span style=\"background-color:rgba(135,206,250,0.18001708);\">:</span> <span style=\"background-color:rgba(135,206,250,0.15564735);\">white</span> <span style=\"background-color:rgba(135,206,250,0.19768615);\">blend</span> <span style=\"background-color:rgba(135,206,250,0.25475135);\">:</span> <span style=\"background-color:rgba(135,206,250,0.27860266);\">a</span> <span style=\"background-color:rgba(135,206,250,0.22814713);\">tart</span> <span style=\"background-color:rgba(135,206,250,0.5453001);\">but</span> <span style=\"background-color:rgba(135,206,250,0.5483717);\">disjointed</span> <span style=\"background-color:rgba(135,206,250,0.7428436);\">at</span> <span style=\"background-color:rgba(135,206,250,0.27212662);\">first</span>"
            ],
            "text/plain": [
              "<IPython.core.display.HTML object>"
            ]
          },
          "metadata": {},
          "output_type": "display_data"
        },
        {
          "name": "stdout",
          "output_type": "stream",
          "text": [
            ",:   \t53.20000076293945%\n",
            "sip:   \t10.5600004196167%\n",
            "impression:   \t4.329999923706055%\n",
            "and:   \t2.180000066757202%\n",
            "on:   \t1.7899999618530273%\n",
            "--------\n",
            "\n"
          ]
        },
        {
          "data": {
            "text/html": [
              "<span style=\"background-color:rgba(135,206,250,0.26951003);\">wine</span> <span style=\"background-color:rgba(135,206,250,0.4662578);\">review</span> <span style=\"background-color:rgba(135,206,250,0.089015245);\">:</span> <span style=\"background-color:rgba(135,206,250,0.36752546);\">Italy</span> <span style=\"background-color:rgba(135,206,250,0.060262978);\">:</span> <span style=\"background-color:rgba(135,206,250,0.8810687);\">compromised</span> <span style=\"background-color:rgba(135,206,250,0.10559698);\">:</span> <span style=\"background-color:rgba(135,206,250,0.27957368);\">white</span> <span style=\"background-color:rgba(135,206,250,0.2229217);\">blend</span> <span style=\"background-color:rgba(135,206,250,0.14475222);\">:</span> <span style=\"background-color:rgba(135,206,250,0.21661566);\">a</span> <span style=\"background-color:rgba(135,206,250,0.30092454);\">tart</span> <span style=\"background-color:rgba(135,206,250,0.4441047);\">but</span> <span style=\"background-color:rgba(135,206,250,0.61248785);\">disjointed</span> <span style=\"background-color:rgba(135,206,250,0.57031137);\">at</span> <span style=\"background-color:rgba(135,206,250,1.0);\">first</span> <span style=\"background-color:rgba(135,206,250,0.40052855);\">,</span>"
            ],
            "text/plain": [
              "<IPython.core.display.HTML object>"
            ]
          },
          "metadata": {},
          "output_type": "display_data"
        },
        {
          "name": "stdout",
          "output_type": "stream",
          "text": [
            "this:   \t35.79999923706055%\n",
            "with:   \t7.809999942779541%\n",
            "the:   \t5.53000020980835%\n",
            "then:   \t3.809999942779541%\n",
            "and:   \t3.7100000381469727%\n",
            "--------\n",
            "\n"
          ]
        },
        {
          "data": {
            "text/html": [
              "<span style=\"background-color:rgba(135,206,250,0.45400685);\">wine</span> <span style=\"background-color:rgba(135,206,250,0.8528489);\">review</span> <span style=\"background-color:rgba(135,206,250,0.09067541);\">:</span> <span style=\"background-color:rgba(135,206,250,0.37793735);\">Italy</span> <span style=\"background-color:rgba(135,206,250,0.12982434);\">:</span> <span style=\"background-color:rgba(135,206,250,0.5564283);\">compromised</span> <span style=\"background-color:rgba(135,206,250,0.14968306);\">:</span> <span style=\"background-color:rgba(135,206,250,0.15614566);\">white</span> <span style=\"background-color:rgba(135,206,250,0.21133092);\">blend</span> <span style=\"background-color:rgba(135,206,250,0.23346527);\">:</span> <span style=\"background-color:rgba(135,206,250,0.49467844);\">a</span> <span style=\"background-color:rgba(135,206,250,0.18401429);\">tart</span> <span style=\"background-color:rgba(135,206,250,0.3661625);\">but</span> <span style=\"background-color:rgba(135,206,250,0.5148022);\">disjointed</span> <span style=\"background-color:rgba(135,206,250,0.5389498);\">at</span> <span style=\"background-color:rgba(135,206,250,1.0);\">first</span> <span style=\"background-color:rgba(135,206,250,0.9857442);\">,</span> <span style=\"background-color:rgba(135,206,250,0.6540879);\">then</span>"
            ],
            "text/plain": [
              "<IPython.core.display.HTML object>"
            ]
          },
          "metadata": {},
          "output_type": "display_data"
        },
        {
          "name": "stdout",
          "output_type": "stream",
          "text": [
            "the:   \t14.1899995803833%\n",
            "opens:   \t4.010000228881836%\n",
            "[UNK]:   \t3.190000057220459%\n",
            "settles:   \t3.0999999046325684%\n",
            "turns:   \t2.880000114440918%\n",
            "--------\n",
            "\n"
          ]
        },
        {
          "data": {
            "text/html": [
              "<span style=\"background-color:rgba(135,206,250,0.45144328);\">wine</span> <span style=\"background-color:rgba(135,206,250,1.0);\">review</span> <span style=\"background-color:rgba(135,206,250,0.14195322);\">:</span> <span style=\"background-color:rgba(135,206,250,0.1713842);\">Italy</span> <span style=\"background-color:rgba(135,206,250,0.18959163);\">:</span> <span style=\"background-color:rgba(135,206,250,0.19922936);\">compromised</span> <span style=\"background-color:rgba(135,206,250,0.16966249);\">:</span> <span style=\"background-color:rgba(135,206,250,0.05068181);\">white</span> <span style=\"background-color:rgba(135,206,250,0.12346541);\">blend</span> <span style=\"background-color:rgba(135,206,250,0.18177156);\">:</span> <span style=\"background-color:rgba(135,206,250,0.23033209);\">a</span> <span style=\"background-color:rgba(135,206,250,0.08741994);\">tart</span> <span style=\"background-color:rgba(135,206,250,0.2130523);\">but</span> <span style=\"background-color:rgba(135,206,250,0.090325356);\">disjointed</span> <span style=\"background-color:rgba(135,206,250,0.24747398);\">at</span> <span style=\"background-color:rgba(135,206,250,0.25187716);\">first</span> <span style=\"background-color:rgba(135,206,250,0.33142674);\">,</span> <span style=\"background-color:rgba(135,206,250,0.4341002);\">then</span> <span style=\"background-color:rgba(135,206,250,0.21333472);\">take</span>"
            ],
            "text/plain": [
              "<IPython.core.display.HTML object>"
            ]
          },
          "metadata": {},
          "output_type": "display_data"
        },
        {
          "name": "stdout",
          "output_type": "stream",
          "text": [
            "on:   \t23.790000915527344%\n",
            "over:   \t19.489999771118164%\n",
            "the:   \t14.8100004196167%\n",
            "a:   \t11.399999618530273%\n",
            "time:   \t8.75%\n",
            "--------\n",
            "\n"
          ]
        }
      ],
      "source": [
        "info = text_generator.generate(\n",
        "    \"wine review : Italy\", max_tokens=20, temperature=1.0\n",
        ")\n",
        "print_probs(info, vocab)"
      ]
    },
    {
      "cell_type": "code",
      "execution_count": null,
      "id": "5cae6d5d-263d-4455-b96c-f315cbe284ee",
      "metadata": {
        "colab": {
          "base_uri": "https://localhost:8080/",
          "height": 1000
        },
        "id": "5cae6d5d-263d-4455-b96c-f315cbe284ee",
        "outputId": "d8c750cb-b6b4-4615-9d25-e8329794957c"
      },
      "outputs": [
        {
          "name": "stdout",
          "output_type": "stream",
          "text": [
            "\n",
            "generated text:\n",
            "wine review : Italy : [UNK] : red blend : this is a blend of 50 % cabernet sauvignon and\n",
            "\n"
          ]
        },
        {
          "data": {
            "text/html": [
              "<span style=\"background-color:rgba(135,206,250,1.0);\">wine</span> <span style=\"background-color:rgba(135,206,250,0.9070888);\">review</span> <span style=\"background-color:rgba(135,206,250,0.29292133);\">:</span> <span style=\"background-color:rgba(135,206,250,0.24798726);\">Italy</span>"
            ],
            "text/plain": [
              "<IPython.core.display.HTML object>"
            ]
          },
          "metadata": {},
          "output_type": "display_data"
        },
        {
          "name": "stdout",
          "output_type": "stream",
          "text": [
            "::   \t100.0%\n",
            "hills:   \t0.0%\n",
            "-:   \t0.0%\n",
            "africa:   \t0.0%\n",
            "celebrated:   \t0.0%\n",
            "--------\n",
            "\n"
          ]
        },
        {
          "data": {
            "text/html": [
              "<span style=\"background-color:rgba(135,206,250,0.31062356);\">wine</span> <span style=\"background-color:rgba(135,206,250,0.32224587);\">review</span> <span style=\"background-color:rgba(135,206,250,0.18196222);\">:</span> <span style=\"background-color:rgba(135,206,250,1.0);\">Italy</span> <span style=\"background-color:rgba(135,206,250,0.12717798);\">:</span>"
            ],
            "text/plain": [
              "<IPython.core.display.HTML object>"
            ]
          },
          "metadata": {},
          "output_type": "display_data"
        },
        {
          "name": "stdout",
          "output_type": "stream",
          "text": [
            "[UNK]:   \t100.0%\n",
            "switzerland:   \t0.0%\n",
            "france:   \t0.0%\n",
            "cyprus:   \t0.0%\n",
            "central:   \t0.0%\n",
            "--------\n",
            "\n"
          ]
        },
        {
          "data": {
            "text/html": [
              "<span style=\"background-color:rgba(135,206,250,0.94650865);\">wine</span> <span style=\"background-color:rgba(135,206,250,1.0);\">review</span> <span style=\"background-color:rgba(135,206,250,0.43716723);\">:</span> <span style=\"background-color:rgba(135,206,250,0.31322566);\">Italy</span> <span style=\"background-color:rgba(135,206,250,0.45239237);\">:</span> <span style=\"background-color:rgba(135,206,250,0.2590519);\">[UNK]</span>"
            ],
            "text/plain": [
              "<IPython.core.display.HTML object>"
            ]
          },
          "metadata": {},
          "output_type": "display_data"
        },
        {
          "name": "stdout",
          "output_type": "stream",
          "text": [
            "::   \t100.0%\n",
            "[UNK]:   \t0.0%\n",
            "hills:   \t0.0%\n",
            "de:   \t0.0%\n",
            ",:   \t0.0%\n",
            "--------\n",
            "\n"
          ]
        },
        {
          "data": {
            "text/html": [
              "<span style=\"background-color:rgba(135,206,250,0.68100965);\">wine</span> <span style=\"background-color:rgba(135,206,250,0.61107403);\">review</span> <span style=\"background-color:rgba(135,206,250,0.27179286);\">:</span> <span style=\"background-color:rgba(135,206,250,0.9717414);\">Italy</span> <span style=\"background-color:rgba(135,206,250,0.17083386);\">:</span> <span style=\"background-color:rgba(135,206,250,1.0);\">[UNK]</span> <span style=\"background-color:rgba(135,206,250,0.28171742);\">:</span>"
            ],
            "text/plain": [
              "<IPython.core.display.HTML object>"
            ]
          },
          "metadata": {},
          "output_type": "display_data"
        },
        {
          "name": "stdout",
          "output_type": "stream",
          "text": [
            "red:   \t99.94999694824219%\n",
            "pinot:   \t0.029999999329447746%\n",
            "cabernet:   \t0.019999999552965164%\n",
            "riesling:   \t0.0%\n",
            "merlot:   \t0.0%\n",
            "--------\n",
            "\n"
          ]
        },
        {
          "data": {
            "text/html": [
              "<span style=\"background-color:rgba(135,206,250,1.0);\">wine</span> <span style=\"background-color:rgba(135,206,250,0.8243708);\">review</span> <span style=\"background-color:rgba(135,206,250,0.19825034);\">:</span> <span style=\"background-color:rgba(135,206,250,0.22360452);\">Italy</span> <span style=\"background-color:rgba(135,206,250,0.29452202);\">:</span> <span style=\"background-color:rgba(135,206,250,0.4019445);\">[UNK]</span> <span style=\"background-color:rgba(135,206,250,0.33779716);\">:</span> <span style=\"background-color:rgba(135,206,250,0.21797857);\">red</span>"
            ],
            "text/plain": [
              "<IPython.core.display.HTML object>"
            ]
          },
          "metadata": {},
          "output_type": "display_data"
        },
        {
          "name": "stdout",
          "output_type": "stream",
          "text": [
            "blend:   \t100.0%\n",
            "red:   \t0.0%\n",
            "::   \t0.0%\n",
            "wine:   \t0.0%\n",
            "[UNK]:   \t0.0%\n",
            "--------\n",
            "\n"
          ]
        },
        {
          "data": {
            "text/html": [
              "<span style=\"background-color:rgba(135,206,250,0.6759991);\">wine</span> <span style=\"background-color:rgba(135,206,250,1.0);\">review</span> <span style=\"background-color:rgba(135,206,250,0.1127017);\">:</span> <span style=\"background-color:rgba(135,206,250,0.099198684);\">Italy</span> <span style=\"background-color:rgba(135,206,250,0.24795993);\">:</span> <span style=\"background-color:rgba(135,206,250,0.14303632);\">[UNK]</span> <span style=\"background-color:rgba(135,206,250,0.24088049);\">:</span> <span style=\"background-color:rgba(135,206,250,0.22730453);\">red</span> <span style=\"background-color:rgba(135,206,250,0.09529504);\">blend</span>"
            ],
            "text/plain": [
              "<IPython.core.display.HTML object>"
            ]
          },
          "metadata": {},
          "output_type": "display_data"
        },
        {
          "name": "stdout",
          "output_type": "stream",
          "text": [
            "::   \t100.0%\n",
            "celebrated:   \t0.0%\n",
            "coiled:   \t0.0%\n",
            "company:   \t0.0%\n",
            "confirms:   \t0.0%\n",
            "--------\n",
            "\n"
          ]
        },
        {
          "data": {
            "text/html": [
              "<span style=\"background-color:rgba(135,206,250,0.9592142);\">wine</span> <span style=\"background-color:rgba(135,206,250,1.0);\">review</span> <span style=\"background-color:rgba(135,206,250,0.1792873);\">:</span> <span style=\"background-color:rgba(135,206,250,0.5916141);\">Italy</span> <span style=\"background-color:rgba(135,206,250,0.24332137);\">:</span> <span style=\"background-color:rgba(135,206,250,0.70570046);\">[UNK]</span> <span style=\"background-color:rgba(135,206,250,0.3767511);\">:</span> <span style=\"background-color:rgba(135,206,250,0.4426206);\">red</span> <span style=\"background-color:rgba(135,206,250,0.43037257);\">blend</span> <span style=\"background-color:rgba(135,206,250,0.6067829);\">:</span>"
            ],
            "text/plain": [
              "<IPython.core.display.HTML object>"
            ]
          },
          "metadata": {},
          "output_type": "display_data"
        },
        {
          "name": "stdout",
          "output_type": "stream",
          "text": [
            "this:   \t99.97000122070312%\n",
            "a:   \t0.029999999329447746%\n",
            "the:   \t0.0%\n",
            "made:   \t0.0%\n",
            "[UNK]:   \t0.0%\n",
            "--------\n",
            "\n"
          ]
        },
        {
          "data": {
            "text/html": [
              "<span style=\"background-color:rgba(135,206,250,0.7688233);\">wine</span> <span style=\"background-color:rgba(135,206,250,1.0);\">review</span> <span style=\"background-color:rgba(135,206,250,0.16731572);\">:</span> <span style=\"background-color:rgba(135,206,250,0.54528505);\">Italy</span> <span style=\"background-color:rgba(135,206,250,0.16401517);\">:</span> <span style=\"background-color:rgba(135,206,250,0.5286197);\">[UNK]</span> <span style=\"background-color:rgba(135,206,250,0.22676665);\">:</span> <span style=\"background-color:rgba(135,206,250,0.25063655);\">red</span> <span style=\"background-color:rgba(135,206,250,0.3730436);\">blend</span> <span style=\"background-color:rgba(135,206,250,0.4022111);\">:</span> <span style=\"background-color:rgba(135,206,250,0.23730974);\">this</span>"
            ],
            "text/plain": [
              "<IPython.core.display.HTML object>"
            ]
          },
          "metadata": {},
          "output_type": "display_data"
        },
        {
          "name": "stdout",
          "output_type": "stream",
          "text": [
            "is:   \t96.86000061035156%\n",
            "blend:   \t2.5799999237060547%\n",
            "wine:   \t0.5600000023841858%\n",
            "[UNK]:   \t0.0%\n",
            "has:   \t0.0%\n",
            "--------\n",
            "\n"
          ]
        },
        {
          "data": {
            "text/html": [
              "<span style=\"background-color:rgba(135,206,250,0.79914784);\">wine</span> <span style=\"background-color:rgba(135,206,250,1.0);\">review</span> <span style=\"background-color:rgba(135,206,250,0.18071261);\">:</span> <span style=\"background-color:rgba(135,206,250,0.56507474);\">Italy</span> <span style=\"background-color:rgba(135,206,250,0.19563033);\">:</span> <span style=\"background-color:rgba(135,206,250,0.54557776);\">[UNK]</span> <span style=\"background-color:rgba(135,206,250,0.22409876);\">:</span> <span style=\"background-color:rgba(135,206,250,0.21195777);\">red</span> <span style=\"background-color:rgba(135,206,250,0.34611502);\">blend</span> <span style=\"background-color:rgba(135,206,250,0.45315468);\">:</span> <span style=\"background-color:rgba(135,206,250,0.7077584);\">this</span> <span style=\"background-color:rgba(135,206,250,0.25493494);\">is</span>"
            ],
            "text/plain": [
              "<IPython.core.display.HTML object>"
            ]
          },
          "metadata": {},
          "output_type": "display_data"
        },
        {
          "name": "stdout",
          "output_type": "stream",
          "text": [
            "a:   \t100.0%\n",
            "an:   \t0.0%\n",
            "the:   \t0.0%\n",
            "one:   \t0.0%\n",
            "[UNK]:   \t0.0%\n",
            "--------\n",
            "\n"
          ]
        },
        {
          "data": {
            "text/html": [
              "<span style=\"background-color:rgba(135,206,250,0.97705483);\">wine</span> <span style=\"background-color:rgba(135,206,250,1.0);\">review</span> <span style=\"background-color:rgba(135,206,250,0.15586573);\">:</span> <span style=\"background-color:rgba(135,206,250,0.7696959);\">Italy</span> <span style=\"background-color:rgba(135,206,250,0.11517733);\">:</span> <span style=\"background-color:rgba(135,206,250,0.6253189);\">[UNK]</span> <span style=\"background-color:rgba(135,206,250,0.19836727);\">:</span> <span style=\"background-color:rgba(135,206,250,0.29789498);\">red</span> <span style=\"background-color:rgba(135,206,250,0.38149673);\">blend</span> <span style=\"background-color:rgba(135,206,250,0.41919318);\">:</span> <span style=\"background-color:rgba(135,206,250,0.8660725);\">this</span> <span style=\"background-color:rgba(135,206,250,0.8294302);\">is</span> <span style=\"background-color:rgba(135,206,250,0.411032);\">a</span>"
            ],
            "text/plain": [
              "<IPython.core.display.HTML object>"
            ]
          },
          "metadata": {},
          "output_type": "display_data"
        },
        {
          "name": "stdout",
          "output_type": "stream",
          "text": [
            "blend:   \t100.0%\n",
            "bright:   \t0.0%\n",
            "ripe:   \t0.0%\n",
            "soft:   \t0.0%\n",
            "full:   \t0.0%\n",
            "--------\n",
            "\n"
          ]
        },
        {
          "data": {
            "text/html": [
              "<span style=\"background-color:rgba(135,206,250,0.50057083);\">wine</span> <span style=\"background-color:rgba(135,206,250,1.0);\">review</span> <span style=\"background-color:rgba(135,206,250,0.105510555);\">:</span> <span style=\"background-color:rgba(135,206,250,0.15834327);\">Italy</span> <span style=\"background-color:rgba(135,206,250,0.15360554);\">:</span> <span style=\"background-color:rgba(135,206,250,0.1684007);\">[UNK]</span> <span style=\"background-color:rgba(135,206,250,0.15029795);\">:</span> <span style=\"background-color:rgba(135,206,250,0.11195778);\">red</span> <span style=\"background-color:rgba(135,206,250,0.108858235);\">blend</span> <span style=\"background-color:rgba(135,206,250,0.30467027);\">:</span> <span style=\"background-color:rgba(135,206,250,0.48474112);\">this</span> <span style=\"background-color:rgba(135,206,250,0.52267665);\">is</span> <span style=\"background-color:rgba(135,206,250,0.77955645);\">a</span> <span style=\"background-color:rgba(135,206,250,0.17996085);\">blend</span>"
            ],
            "text/plain": [
              "<IPython.core.display.HTML object>"
            ]
          },
          "metadata": {},
          "output_type": "display_data"
        },
        {
          "name": "stdout",
          "output_type": "stream",
          "text": [
            "of:   \t100.0%\n",
            "that:   \t0.0%\n",
            "with:   \t0.0%\n",
            "dominated:   \t0.0%\n",
            "based:   \t0.0%\n",
            "--------\n",
            "\n"
          ]
        },
        {
          "data": {
            "text/html": [
              "<span style=\"background-color:rgba(135,206,250,0.502888);\">wine</span> <span style=\"background-color:rgba(135,206,250,0.52248657);\">review</span> <span style=\"background-color:rgba(135,206,250,0.10967897);\">:</span> <span style=\"background-color:rgba(135,206,250,0.37965447);\">Italy</span> <span style=\"background-color:rgba(135,206,250,0.099508435);\">:</span> <span style=\"background-color:rgba(135,206,250,0.3668484);\">[UNK]</span> <span style=\"background-color:rgba(135,206,250,0.14491348);\">:</span> <span style=\"background-color:rgba(135,206,250,0.25495982);\">red</span> <span style=\"background-color:rgba(135,206,250,0.30106142);\">blend</span> <span style=\"background-color:rgba(135,206,250,0.22256237);\">:</span> <span style=\"background-color:rgba(135,206,250,0.45993295);\">this</span> <span style=\"background-color:rgba(135,206,250,0.32953194);\">is</span> <span style=\"background-color:rgba(135,206,250,0.58378345);\">a</span> <span style=\"background-color:rgba(135,206,250,1.0);\">blend</span> <span style=\"background-color:rgba(135,206,250,0.2616798);\">of</span>"
            ],
            "text/plain": [
              "<IPython.core.display.HTML object>"
            ]
          },
          "metadata": {},
          "output_type": "display_data"
        },
        {
          "name": "stdout",
          "output_type": "stream",
          "text": [
            "50:   \t99.94999694824219%\n",
            "cabernet:   \t0.05000000074505806%\n",
            "80:   \t0.0%\n",
            "85:   \t0.0%\n",
            "70:   \t0.0%\n",
            "--------\n",
            "\n"
          ]
        },
        {
          "data": {
            "text/html": [
              "<span style=\"background-color:rgba(135,206,250,0.9346083);\">wine</span> <span style=\"background-color:rgba(135,206,250,1.0);\">review</span> <span style=\"background-color:rgba(135,206,250,0.20728001);\">:</span> <span style=\"background-color:rgba(135,206,250,0.2630515);\">Italy</span> <span style=\"background-color:rgba(135,206,250,0.24275976);\">:</span> <span style=\"background-color:rgba(135,206,250,0.3043191);\">[UNK]</span> <span style=\"background-color:rgba(135,206,250,0.23943047);\">:</span> <span style=\"background-color:rgba(135,206,250,0.23054491);\">red</span> <span style=\"background-color:rgba(135,206,250,0.26350576);\">blend</span> <span style=\"background-color:rgba(135,206,250,0.30962598);\">:</span> <span style=\"background-color:rgba(135,206,250,0.46285537);\">this</span> <span style=\"background-color:rgba(135,206,250,0.31894985);\">is</span> <span style=\"background-color:rgba(135,206,250,0.69979024);\">a</span> <span style=\"background-color:rgba(135,206,250,0.52133507);\">blend</span> <span style=\"background-color:rgba(135,206,250,0.78887063);\">of</span> <span style=\"background-color:rgba(135,206,250,0.48423174);\">50</span>"
            ],
            "text/plain": [
              "<IPython.core.display.HTML object>"
            ]
          },
          "metadata": {},
          "output_type": "display_data"
        },
        {
          "name": "stdout",
          "output_type": "stream",
          "text": [
            "%:   \t100.0%\n",
            "-:   \t0.0%\n",
            "/:   \t0.0%\n",
            "merlot:   \t0.0%\n",
            "cabernet:   \t0.0%\n",
            "--------\n",
            "\n"
          ]
        },
        {
          "data": {
            "text/html": [
              "<span style=\"background-color:rgba(135,206,250,0.7438086);\">wine</span> <span style=\"background-color:rgba(135,206,250,1.0);\">review</span> <span style=\"background-color:rgba(135,206,250,0.15154345);\">:</span> <span style=\"background-color:rgba(135,206,250,0.41710007);\">Italy</span> <span style=\"background-color:rgba(135,206,250,0.15036832);\">:</span> <span style=\"background-color:rgba(135,206,250,0.6590253);\">[UNK]</span> <span style=\"background-color:rgba(135,206,250,0.18920578);\">:</span> <span style=\"background-color:rgba(135,206,250,0.4757974);\">red</span> <span style=\"background-color:rgba(135,206,250,0.2491659);\">blend</span> <span style=\"background-color:rgba(135,206,250,0.27158538);\">:</span> <span style=\"background-color:rgba(135,206,250,0.39487725);\">this</span> <span style=\"background-color:rgba(135,206,250,0.30721655);\">is</span> <span style=\"background-color:rgba(135,206,250,0.54681355);\">a</span> <span style=\"background-color:rgba(135,206,250,0.4393352);\">blend</span> <span style=\"background-color:rgba(135,206,250,0.5579885);\">of</span> <span style=\"background-color:rgba(135,206,250,0.6180684);\">50</span> <span style=\"background-color:rgba(135,206,250,0.11975007);\">%</span>"
            ],
            "text/plain": [
              "<IPython.core.display.HTML object>"
            ]
          },
          "metadata": {},
          "output_type": "display_data"
        },
        {
          "name": "stdout",
          "output_type": "stream",
          "text": [
            "cabernet:   \t100.0%\n",
            "merlot:   \t0.0%\n",
            "syrah:   \t0.0%\n",
            "sangiovese:   \t0.0%\n",
            "grenache:   \t0.0%\n",
            "--------\n",
            "\n"
          ]
        },
        {
          "data": {
            "text/html": [
              "<span style=\"background-color:rgba(135,206,250,0.39890552);\">wine</span> <span style=\"background-color:rgba(135,206,250,0.92352843);\">review</span> <span style=\"background-color:rgba(135,206,250,0.08266289);\">:</span> <span style=\"background-color:rgba(135,206,250,0.25973755);\">Italy</span> <span style=\"background-color:rgba(135,206,250,0.13587628);\">:</span> <span style=\"background-color:rgba(135,206,250,0.2739797);\">[UNK]</span> <span style=\"background-color:rgba(135,206,250,0.15830286);\">:</span> <span style=\"background-color:rgba(135,206,250,0.08183021);\">red</span> <span style=\"background-color:rgba(135,206,250,1.0);\">blend</span> <span style=\"background-color:rgba(135,206,250,0.31422153);\">:</span> <span style=\"background-color:rgba(135,206,250,0.5563522);\">this</span> <span style=\"background-color:rgba(135,206,250,0.4779951);\">is</span> <span style=\"background-color:rgba(135,206,250,0.7330756);\">a</span> <span style=\"background-color:rgba(135,206,250,0.7299967);\">blend</span> <span style=\"background-color:rgba(135,206,250,0.3817976);\">of</span> <span style=\"background-color:rgba(135,206,250,0.9183064);\">50</span> <span style=\"background-color:rgba(135,206,250,0.27418014);\">%</span> <span style=\"background-color:rgba(135,206,250,0.27913666);\">cabernet</span>"
            ],
            "text/plain": [
              "<IPython.core.display.HTML object>"
            ]
          },
          "metadata": {},
          "output_type": "display_data"
        },
        {
          "name": "stdout",
          "output_type": "stream",
          "text": [
            "sauvignon:   \t100.0%\n",
            "franc:   \t0.0%\n",
            "and:   \t0.0%\n",
            ",:   \t0.0%\n",
            "-:   \t0.0%\n",
            "--------\n",
            "\n"
          ]
        },
        {
          "data": {
            "text/html": [
              "<span style=\"background-color:rgba(135,206,250,0.6333517);\">wine</span> <span style=\"background-color:rgba(135,206,250,0.9458426);\">review</span> <span style=\"background-color:rgba(135,206,250,0.15673283);\">:</span> <span style=\"background-color:rgba(135,206,250,0.30372402);\">Italy</span> <span style=\"background-color:rgba(135,206,250,0.158279);\">:</span> <span style=\"background-color:rgba(135,206,250,0.25052702);\">[UNK]</span> <span style=\"background-color:rgba(135,206,250,0.26347616);\">:</span> <span style=\"background-color:rgba(135,206,250,0.33656782);\">red</span> <span style=\"background-color:rgba(135,206,250,0.7054893);\">blend</span> <span style=\"background-color:rgba(135,206,250,0.35680342);\">:</span> <span style=\"background-color:rgba(135,206,250,0.7640412);\">this</span> <span style=\"background-color:rgba(135,206,250,0.86068755);\">is</span> <span style=\"background-color:rgba(135,206,250,0.72103393);\">a</span> <span style=\"background-color:rgba(135,206,250,0.81912655);\">blend</span> <span style=\"background-color:rgba(135,206,250,0.57958734);\">of</span> <span style=\"background-color:rgba(135,206,250,1.0);\">50</span> <span style=\"background-color:rgba(135,206,250,0.5534217);\">%</span> <span style=\"background-color:rgba(135,206,250,0.8599629);\">cabernet</span> <span style=\"background-color:rgba(135,206,250,0.34944233);\">sauvignon</span>"
            ],
            "text/plain": [
              "<IPython.core.display.HTML object>"
            ]
          },
          "metadata": {},
          "output_type": "display_data"
        },
        {
          "name": "stdout",
          "output_type": "stream",
          "text": [
            "and:   \t62.45000076293945%\n",
            ",:   \t37.54999923706055%\n",
            "with:   \t0.0%\n",
            "(:   \t0.0%\n",
            "-:   \t0.0%\n",
            "--------\n",
            "\n"
          ]
        }
      ],
      "source": [
        "info = text_generator.generate(\n",
        "    \"wine review : Italy\", max_tokens=20, temperature=0.1\n",
        ")\n",
        "print_probs(info, vocab)"
      ]
    }
  ],
  "metadata": {
    "accelerator": "GPU",
    "colab": {
      "gpuType": "T4",
      "provenance": []
    },
    "kernelspec": {
      "display_name": ".venv",
      "language": "python",
      "name": "python3"
    },
    "language_info": {
      "codemirror_mode": {
        "name": "ipython",
        "version": 3
      },
      "file_extension": ".py",
      "mimetype": "text/x-python",
      "name": "python",
      "nbconvert_exporter": "python",
      "pygments_lexer": "ipython3",
      "version": "3.9.6"
    }
  },
  "nbformat": 4,
  "nbformat_minor": 5
}
